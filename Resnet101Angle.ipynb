{
 "cells": [
  {
   "cell_type": "code",
   "execution_count": null,
   "metadata": {},
   "outputs": [],
   "source": [
    "!pip install lightning torchvision einops"
   ]
  },
  {
   "cell_type": "code",
   "execution_count": 1,
   "metadata": {},
   "outputs": [
    {
     "name": "stderr",
     "output_type": "stream",
     "text": [
      "/Users/haily/.pyenv/versions/3.10.4/lib/python3.10/site-packages/tqdm/auto.py:21: TqdmWarning: IProgress not found. Please update jupyter and ipywidgets. See https://ipywidgets.readthedocs.io/en/stable/user_install.html\n",
      "  from .autonotebook import tqdm as notebook_tqdm\n",
      "GPU available: True (mps), used: False\n",
      "TPU available: False, using: 0 TPU cores\n",
      "HPU available: False, using: 0 HPUs\n",
      "/Users/haily/.pyenv/versions/3.10.4/lib/python3.10/site-packages/lightning/pytorch/trainer/setup.py:177: GPU available but not used. You can set it by doing `Trainer(accelerator='gpu')`.\n",
      "Running in `fast_dev_run` mode: will run the requested loop using 1 batch(es). Logging and checkpointing is suppressed.\n"
     ]
    },
    {
     "name": "stdout",
     "output_type": "stream",
     "text": [
      "Train:\n",
      " Counter({3: 1243, 8: 635, 2: 591, 12: 442, 4: 415, 23: 395, 18: 364, 21: 330, 17: 328, 22: 263, 24: 244, 15: 236, 11: 231, 6: 210, 7: 202, 16: 159, 28: 158, 10: 149, 26: 134, 9: 133, 19: 121, 5: 120, 1: 104, 0: 94, 14: 93, 25: 89, 20: 75, 29: 75, 27: 75, 13: 66})\n",
      "Val:\n",
      " Counter({3: 143, 8: 90, 2: 66, 18: 59, 12: 58, 23: 50, 4: 46, 21: 39, 22: 38, 17: 36, 24: 29, 15: 28, 19: 26, 6: 24, 16: 22, 11: 22, 7: 20, 10: 19, 26: 19, 28: 18, 9: 17, 25: 16, 5: 15, 14: 14, 1: 12, 13: 12, 29: 12, 0: 10, 27: 7, 20: 5})\n",
      "Test:\n",
      " Counter({3: 158, 8: 81, 2: 72, 18: 60, 12: 52, 4: 47, 23: 43, 17: 42, 22: 40, 21: 38, 15: 33, 7: 32, 6: 27, 24: 22, 16: 20, 28: 20, 1: 19, 14: 18, 11: 18, 19: 18, 26: 15, 9: 14, 5: 13, 25: 13, 10: 12, 13: 11, 27: 10, 29: 8, 0: 8, 20: 8})\n",
      "train_weights: \n",
      " [2.756737588652482, 2.4916666666666667, 0.43846587704455725, 0.20847412174845803, 0.6244176706827309, 2.1594444444444445, 1.233968253968254, 1.282838283828383, 0.40808398950131236, 1.9483709273182956, 1.7391498881431768, 1.1217893217893218, 0.5862745098039216, 3.926262626262626, 2.7863799283154123, 1.0980225988700565, 1.629769392033543, 0.7900406504065041, 0.7119047619047619, 2.141597796143251, 3.455111111111111, 0.7852525252525252, 0.985297845373891, 0.6560337552742616, 1.0620218579234972, 2.911610486891386, 1.9338308457711442, 3.455111111111111, 1.640084388185654, 3.455111111111111]\n"
     ]
    },
    {
     "name": "stderr",
     "output_type": "stream",
     "text": [
      "/Users/haily/Documents/GitHub/Research Learning/models/resnet.py:130: UserWarning: nn.init.kaiming_normal is now deprecated in favor of nn.init.kaiming_normal_.\n",
      "  m.weight = nn.init.kaiming_normal(m.weight, mode='fan_out')\n",
      "\n",
      "  | Name      | Type               | Params | Mode \n",
      "---------------------------------------------------------\n",
      "0 | loss_fn   | CrossEntropyLoss   | 0      | train\n",
      "1 | train_acc | MulticlassAccuracy | 0      | train\n",
      "2 | val_acc   | MulticlassAccuracy | 0      | train\n",
      "3 | test_acc  | MulticlassAccuracy | 0      | train\n",
      "4 | model     | ResNet             | 85.3 M | train\n",
      "---------------------------------------------------------\n",
      "85.3 M    Trainable params\n",
      "0         Non-trainable params\n",
      "85.3 M    Total params\n",
      "341.226   Total estimated model params size (MB)\n",
      "/Users/haily/.pyenv/versions/3.10.4/lib/python3.10/site-packages/lightning/pytorch/trainer/connectors/data_connector.py:424: The 'train_dataloader' does not have many workers which may be a bottleneck. Consider increasing the value of the `num_workers` argument` to `num_workers=7` in the `DataLoader` to improve performance.\n",
      "/Users/haily/.pyenv/versions/3.10.4/lib/python3.10/site-packages/lightning/pytorch/trainer/connectors/data_connector.py:424: The 'val_dataloader' does not have many workers which may be a bottleneck. Consider increasing the value of the `num_workers` argument` to `num_workers=7` in the `DataLoader` to improve performance.\n"
     ]
    },
    {
     "name": "stdout",
     "output_type": "stream",
     "text": [
      "Epoch 0: 100%|██████████| 1/1 [00:03<00:00,  0.30it/s]Epoch 0, val_acc: 0.0\n",
      "Epoch 0: 100%|██████████| 1/1 [00:04<00:00,  0.21it/s, val_loss=4.32e+12, val_acc=0.000, train_loss=4.040, train_acc=0.000]"
     ]
    },
    {
     "name": "stderr",
     "output_type": "stream",
     "text": [
      "`Trainer.fit` stopped: `max_steps=1` reached.\n"
     ]
    },
    {
     "name": "stdout",
     "output_type": "stream",
     "text": [
      "Epoch 0, train_acc: 0.0\n",
      "Epoch 0: 100%|██████████| 1/1 [00:04<00:00,  0.21it/s, val_loss=4.32e+12, val_acc=0.000, train_loss=4.040, train_acc=0.000]\n"
     ]
    }
   ],
   "source": [
    "try:\n",
    "    from key_utils import KeyClfDataModule, KeyClf\n",
    "    from models.resnet import resnet101\n",
    "except:\n",
    "    import sys\n",
    "    sys.path.append(\"/kaggle/input/keystroke-util\")\n",
    "    from key_utils import KeyClfDataModule, KeyClf\n",
    "    from models.resnet import resnet101\n",
    "\n",
    "from lightning.pytorch.callbacks import EarlyStopping\n",
    "from lightning.pytorch.loggers import TensorBoardLogger\n",
    "import torchvision\n",
    "import torchvision.transforms.functional\n",
    "import lightning as L\n",
    "\n",
    "def transforms(frames):\n",
    "    h, w = frames.shape[-2], frames.shape[-1]\n",
    "\n",
    "    frames = torchvision.transforms.functional.resized_crop(\n",
    "                              frames, \n",
    "                              top=h//2, \n",
    "                              left=0, \n",
    "                              height=h//2,\n",
    "                              width=w,\n",
    "                              size=(224, 224),\n",
    "                              antialias=True)\n",
    "    \n",
    "    frames = frames.permute(1, 0, 2, 3)\n",
    "    frames = frames / 255.0\n",
    "    return frames.float()\n",
    "\n",
    "dm = KeyClfDataModule(segment_dir='datasets/angle/segments_dir', \n",
    "                      num_workers=0,\n",
    "                      transforms=transforms)\n",
    "\n",
    "weights = dm.train_weights\n",
    "\n",
    "model_name = \"resnet_101_clf\"\n",
    "\n",
    "class ResnetKeyClf(KeyClf):\n",
    "    def __init__(self, model_name, id2label, label2id, learning_rate=0.01):\n",
    "        super().__init__(weights, model_name=model_name, id2label=id2label, label2id=label2id, learning_rate=learning_rate)\n",
    "        \n",
    "        self.model = resnet101(sample_size=224, sample_duration=8, num_classes=len(id2label))\n",
    "\n",
    "trainer = L.Trainer(\n",
    "    accelerator='cpu',\n",
    "    devices='auto',\n",
    "    fast_dev_run=True,\n",
    "    log_every_n_steps=100,\n",
    "    callbacks=EarlyStopping(monitor='val_loss', patience=5),\n",
    "    max_epochs=100,\n",
    ")\n",
    "\n",
    "model = ResnetKeyClf(model_name, dm.id2label, dm.label2id)\n",
    "trainer.fit(model, dm)"
   ]
  },
  {
   "cell_type": "code",
   "execution_count": 2,
   "metadata": {},
   "outputs": [
    {
     "name": "stderr",
     "output_type": "stream",
     "text": [
      "/Users/haily/.pyenv/versions/3.10.4/lib/python3.10/site-packages/lightning/pytorch/trainer/connectors/data_connector.py:424: The 'test_dataloader' does not have many workers which may be a bottleneck. Consider increasing the value of the `num_workers` argument` to `num_workers=7` in the `DataLoader` to improve performance.\n"
     ]
    },
    {
     "name": "stdout",
     "output_type": "stream",
     "text": [
      "Testing DataLoader 0: 100%|██████████| 1/1 [00:00<00:00,  1.01it/s]\n",
      "              precision    recall  f1-score   support\n",
      "\n",
      "           d       0.00      0.00      0.00       0.0\n",
      "           l       0.00      0.00      0.00       1.0\n",
      "           t       0.00      0.00      0.00       1.0\n",
      "           x       0.00      0.00      0.00       1.0\n",
      "           z       0.00      0.00      0.00       1.0\n",
      "\n",
      "    accuracy                           0.00       4.0\n",
      "   macro avg       0.00      0.00      0.00       4.0\n",
      "weighted avg       0.00      0.00      0.00       4.0\n",
      "\n"
     ]
    },
    {
     "name": "stderr",
     "output_type": "stream",
     "text": [
      "/Users/haily/.pyenv/versions/3.10.4/lib/python3.10/site-packages/sklearn/metrics/_classification.py:1509: UndefinedMetricWarning: Precision is ill-defined and being set to 0.0 in labels with no predicted samples. Use `zero_division` parameter to control this behavior.\n",
      "  _warn_prf(average, modifier, f\"{metric.capitalize()} is\", len(result))\n",
      "/Users/haily/.pyenv/versions/3.10.4/lib/python3.10/site-packages/sklearn/metrics/_classification.py:1509: UndefinedMetricWarning: Recall is ill-defined and being set to 0.0 in labels with no true samples. Use `zero_division` parameter to control this behavior.\n",
      "  _warn_prf(average, modifier, f\"{metric.capitalize()} is\", len(result))\n",
      "/Users/haily/.pyenv/versions/3.10.4/lib/python3.10/site-packages/sklearn/metrics/_classification.py:1509: UndefinedMetricWarning: Precision is ill-defined and being set to 0.0 in labels with no predicted samples. Use `zero_division` parameter to control this behavior.\n",
      "  _warn_prf(average, modifier, f\"{metric.capitalize()} is\", len(result))\n",
      "/Users/haily/.pyenv/versions/3.10.4/lib/python3.10/site-packages/sklearn/metrics/_classification.py:1509: UndefinedMetricWarning: Recall is ill-defined and being set to 0.0 in labels with no true samples. Use `zero_division` parameter to control this behavior.\n",
      "  _warn_prf(average, modifier, f\"{metric.capitalize()} is\", len(result))\n",
      "/Users/haily/.pyenv/versions/3.10.4/lib/python3.10/site-packages/sklearn/metrics/_classification.py:1509: UndefinedMetricWarning: Precision is ill-defined and being set to 0.0 in labels with no predicted samples. Use `zero_division` parameter to control this behavior.\n",
      "  _warn_prf(average, modifier, f\"{metric.capitalize()} is\", len(result))\n",
      "/Users/haily/.pyenv/versions/3.10.4/lib/python3.10/site-packages/sklearn/metrics/_classification.py:1509: UndefinedMetricWarning: Recall is ill-defined and being set to 0.0 in labels with no true samples. Use `zero_division` parameter to control this behavior.\n",
      "  _warn_prf(average, modifier, f\"{metric.capitalize()} is\", len(result))\n"
     ]
    },
    {
     "data": {
      "text/html": [
       "<pre style=\"white-space:pre;overflow-x:auto;line-height:normal;font-family:Menlo,'DejaVu Sans Mono',consolas,'Courier New',monospace\">┏━━━━━━━━━━━━━━━━━━━━━━━━━━━┳━━━━━━━━━━━━━━━━━━━━━━━━━━━┓\n",
       "┃<span style=\"font-weight: bold\">        Test metric        </span>┃<span style=\"font-weight: bold\">       DataLoader 0        </span>┃\n",
       "┡━━━━━━━━━━━━━━━━━━━━━━━━━━━╇━━━━━━━━━━━━━━━━━━━━━━━━━━━┩\n",
       "│<span style=\"color: #008080; text-decoration-color: #008080\">         test_loss         </span>│<span style=\"color: #800080; text-decoration-color: #800080\">      4760178524160.0      </span>│\n",
       "└───────────────────────────┴───────────────────────────┘\n",
       "</pre>\n"
      ],
      "text/plain": [
       "┏━━━━━━━━━━━━━━━━━━━━━━━━━━━┳━━━━━━━━━━━━━━━━━━━━━━━━━━━┓\n",
       "┃\u001b[1m \u001b[0m\u001b[1m       Test metric       \u001b[0m\u001b[1m \u001b[0m┃\u001b[1m \u001b[0m\u001b[1m      DataLoader 0       \u001b[0m\u001b[1m \u001b[0m┃\n",
       "┡━━━━━━━━━━━━━━━━━━━━━━━━━━━╇━━━━━━━━━━━━━━━━━━━━━━━━━━━┩\n",
       "│\u001b[36m \u001b[0m\u001b[36m        test_loss        \u001b[0m\u001b[36m \u001b[0m│\u001b[35m \u001b[0m\u001b[35m     4760178524160.0     \u001b[0m\u001b[35m \u001b[0m│\n",
       "└───────────────────────────┴───────────────────────────┘\n"
      ]
     },
     "metadata": {},
     "output_type": "display_data"
    },
    {
     "data": {
      "text/plain": [
       "[{'test_loss': 4760178524160.0}]"
      ]
     },
     "execution_count": 2,
     "metadata": {},
     "output_type": "execute_result"
    }
   ],
   "source": [
    "trainer.test(model, dm)"
   ]
  },
  {
   "cell_type": "code",
   "execution_count": 2,
   "metadata": {},
   "outputs": [
    {
     "name": "stdout",
     "output_type": "stream",
     "text": [
      "  adding: lightning_logs/"
     ]
    },
    {
     "data": {
      "text/plain": [
       "CompletedProcess(args=['zip', '-r', 'resnet_101_clf.zip', './lightning_logs'], returncode=0)"
      ]
     },
     "execution_count": 2,
     "metadata": {},
     "output_type": "execute_result"
    },
    {
     "name": "stdout",
     "output_type": "stream",
     "text": [
      " (stored 0%)\n",
      "  adding: lightning_logs/version_0/ (stored 0%)\n",
      "  adding: lightning_logs/version_0/events.out.tfevents.1723256238.Lys-Air-3.cogeco.local.97033.0 (deflated 34%)\n",
      "  adding: lightning_logs/version_0/hparams.yaml (deflated 51%)\n"
     ]
    }
   ],
   "source": [
    "import subprocess\n",
    "subprocess.run([\"zip\", \"-r\", f\"{model_name}.zip\", \"./lightning_logs\"])"
   ]
  }
 ],
 "metadata": {
  "kernelspec": {
   "display_name": "Python 3",
   "language": "python",
   "name": "python3"
  },
  "language_info": {
   "codemirror_mode": {
    "name": "ipython",
    "version": 3
   },
   "file_extension": ".py",
   "mimetype": "text/x-python",
   "name": "python",
   "nbconvert_exporter": "python",
   "pygments_lexer": "ipython3",
   "version": "3.10.4"
  }
 },
 "nbformat": 4,
 "nbformat_minor": 2
}
