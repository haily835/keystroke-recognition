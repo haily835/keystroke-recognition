{
 "cells": [
  {
   "cell_type": "code",
   "execution_count": 1,
   "metadata": {},
   "outputs": [
    {
     "name": "stdout",
     "output_type": "stream",
     "text": [
      "Clf:\n",
      "HYPERGT_ADD_DATA & 0.9461 & 0.9273 & 0.9182 & 0.9125 \\\\ \\hline\n",
      "HDGCN_ADD_DATA & 0.9364 & 0.9200 & 0.9137 & 0.9117 \\\\ \\hline\n",
      "CTRGCN_ADD_DATA & 0.9383 & 0.9116 & 0.9125 & 0.9155 \\\\ \\hline\n",
      "STGCN_ADD_DATA & 0.9129 & 0.8862 & 0.8779 & 0.8770 \\\\ \\hline\n",
      "Detection:\n",
      "HYPERGT_ADD_DATA & 0.9673 & 0.9355 & 0.9451 & 0.9555 \\\\ \\hline\n",
      "HDGCN_ADD_DATA & 0.9720 & 0.9579 & 0.9511 & 0.9447 \\\\ \\hline\n",
      "CTRGCN_ADD_DATA & 0.9710 & 0.9562 & 0.9494 & 0.9430 \\\\ \\hline\n",
      "STGCN_ADD_DATA & 0.9476 & 0.9018 & 0.9125 & 0.9243 \\\\ \\hline\n"
     ]
    }
   ],
   "source": [
    "from utils.calculate_metrics import calculate_metrics\n",
    "from sklearn.metrics import classification_report\n",
    "\n",
    "print(\"Clf:\")\n",
    "\n",
    "for model in ['HyperGT_add_data', 'HDGCN_add_data', 'CTRGCN_add_data', 'STGCN_add_data']:\n",
    "    result, _, _ = calculate_metrics(f\"./ckpts/{model}/clf/clf_test_results.csv\")\n",
    "    print(f\"{model.upper()} & {result} \\\\\\\\ \\hline\")\n",
    "    # calculate_metrics(f\"./ckpts/{model}/det/det_test_results.csv\")\n",
    "    \n",
    "\n",
    "print(\"Detection:\")\n",
    "\n",
    "for model in ['HyperGT_add_data', 'HDGCN_add_data', 'CTRGCN_add_data', 'STGCN_add_data']:\n",
    "    result, _, _ = calculate_metrics(f\"./ckpts/{model}/det/det_test_results.csv\")\n",
    "    print(f\"{model.upper()} & {result} \\\\\\\\ \\hline\")"
   ]
  },
  {
   "cell_type": "code",
   "execution_count": 3,
   "metadata": {},
   "outputs": [
    {
     "name": "stdout",
     "output_type": "stream",
     "text": [
      "              precision    recall  f1-score   support\n",
      "\n",
      "           a     0.8799    0.8944    0.8871       549\n",
      "           b     0.9559    0.9848    0.9701        66\n",
      "           c     0.9561    0.9703    0.9631       202\n",
      "       comma     1.0000    0.9833    0.9916        60\n",
      "           d     0.9567    0.9135    0.9346       266\n",
      "      delete     0.9964    0.9789    0.9876       569\n",
      "         dot     0.9565    0.9670    0.9617        91\n",
      "           e     0.9146    0.9642    0.9388       811\n",
      "           f     0.9798    0.9238    0.9510       105\n",
      "           g     0.9286    0.9590    0.9435       122\n",
      "           h     0.9567    0.9643    0.9605       252\n",
      "           i     0.9443    0.9504    0.9474       464\n",
      "           j     0.7917    0.7600    0.7755        25\n",
      "           k     0.9344    0.7808    0.8507        73\n",
      "           l     0.9623    0.8947    0.9273       228\n",
      "           m     0.9638    0.9568    0.9603       139\n",
      "           n     0.9636    0.9463    0.9549       447\n",
      "           o     0.9622    0.9366    0.9492       489\n",
      "           p     0.9590    0.9360    0.9474       125\n",
      "           q     0.6818    0.5000    0.5769        30\n",
      "           r     0.9369    0.9104    0.9234       424\n",
      "           s     0.8967    0.9393    0.9175       379\n",
      "       space     0.9780    0.9780    0.9780      1319\n",
      "           t     0.9450    0.9532    0.9491       577\n",
      "           u     0.9370    0.9675    0.9520       246\n",
      "           v     0.9789    0.9789    0.9789        95\n",
      "           w     0.8725    0.8725    0.8725       102\n",
      "           x     0.8261    1.0000    0.9048        19\n",
      "           y     0.9695    0.9845    0.9769       129\n",
      "           z     0.8333    0.6250    0.7143         8\n",
      "\n",
      "    accuracy                         0.9461      8411\n",
      "   macro avg     0.9273    0.9125    0.9182      8411\n",
      "weighted avg     0.9464    0.9461    0.9459      8411\n",
      "\n"
     ]
    }
   ],
   "source": [
    "result,  y_pred, y_true = calculate_metrics(f\"./ckpts/HyperGT_add_data/clf/clf_test_results.csv\")\n",
    "print(classification_report(y_true, y_pred, digits=4))"
   ]
  }
 ],
 "metadata": {
  "kernelspec": {
   "display_name": "Python 3",
   "language": "python",
   "name": "python3"
  },
  "language_info": {
   "codemirror_mode": {
    "name": "ipython",
    "version": 3
   },
   "file_extension": ".py",
   "mimetype": "text/x-python",
   "name": "python",
   "nbconvert_exporter": "python",
   "pygments_lexer": "ipython3",
   "version": "3.10.4"
  }
 },
 "nbformat": 4,
 "nbformat_minor": 2
}
