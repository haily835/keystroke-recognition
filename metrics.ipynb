{
 "cells": [
  {
   "cell_type": "code",
   "execution_count": 4,
   "metadata": {},
   "outputs": [
    {
     "name": "stdout",
     "output_type": "stream",
     "text": [
      "Clf:\n",
      "HYPERFORMER & 0.9575 & 0.9468 & 0.9378 & 0.9346 \\\\ \\hline\n",
      "HDGCN & 0.9303 & 0.9162 & 0.9070 & 0.9050 \\\\ \\hline\n",
      "CTRGCN & 0.9403 & 0.9515 & 0.9246 & 0.9060 \\\\ \\hline\n",
      "STGCN & 0.9188 & 0.8996 & 0.8906 & 0.8857 \\\\ \\hline\n",
      "Detection:\n",
      "HYPERFORMER & 0.9765 & 0.9770 & 0.9565 & 0.9385 \\\\ \\hline\n",
      "HDGCN & 0.9715 & 0.9624 & 0.9478 & 0.9345 \\\\ \\hline\n",
      "CTRGCN & 0.9722 & 0.9593 & 0.9495 & 0.9404 \\\\ \\hline\n",
      "STGCN & 0.9569 & 0.9220 & 0.9237 & 0.9254 \\\\ \\hline\n"
     ]
    }
   ],
   "source": [
    "from utils.calculate_metrics import calculate_metrics\n",
    "\n",
    "print(\"Clf:\")\n",
    "for model in ['hyperformer', 'hdgcn', 'ctrgcn', 'stgcn']:\n",
    "    result = calculate_metrics(f\"./ckpts/{model}/clf/clf_test_results.csv\")\n",
    "    print(f\"{model.upper()} & {result} \\\\\\\\ \\hline\")\n",
    "    \n",
    "    # calculate_metrics(f\"./ckpts/{model}/det/det_test_results.csv\")\n",
    "    \n",
    "    \n",
    "\n",
    "print(\"Detection:\")\n",
    "\n",
    "for model in ['hyperformer', 'hdgcn', 'ctrgcn', 'stgcn']:\n",
    "    result = calculate_metrics(f\"./ckpts/{model}/det/det_test_results.csv\")\n",
    "    print(f\"{model.upper()} & {result} \\\\\\\\ \\hline\")"
   ]
  }
 ],
 "metadata": {
  "kernelspec": {
   "display_name": "Python 3",
   "language": "python",
   "name": "python3"
  },
  "language_info": {
   "codemirror_mode": {
    "name": "ipython",
    "version": 3
   },
   "file_extension": ".py",
   "mimetype": "text/x-python",
   "name": "python",
   "nbconvert_exporter": "python",
   "pygments_lexer": "ipython3",
   "version": "3.10.4"
  }
 },
 "nbformat": 4,
 "nbformat_minor": 2
}
