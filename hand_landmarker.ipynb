{
  "cells": [
    {
      "cell_type": "markdown",
      "metadata": {
        "id": "h2q27gKz1H20"
      },
      "source": [
        "##### Copyright 2023 The MediaPipe Authors. All Rights Reserved."
      ]
    },
    {
      "cell_type": "code",
      "execution_count": 3,
      "metadata": {
        "id": "TUfAcER1oUS6"
      },
      "outputs": [],
      "source": [
        "#@title Licensed under the Apache License, Version 2.0 (the \"License\");\n",
        "# you may not use this file except in compliance with the License.\n",
        "# You may obtain a copy of the License at\n",
        "#\n",
        "# https://www.apache.org/licenses/LICENSE-2.0\n",
        "#\n",
        "# Unless required by applicable law or agreed to in writing, software\n",
        "# distributed under the License is distributed on an \"AS IS\" BASIS,\n",
        "# WITHOUT WARRANTIES OR CONDITIONS OF ANY KIND, either express or implied.\n",
        "# See the License for the specific language governing permissions and\n",
        "# limitations under the License."
      ]
    },
    {
      "cell_type": "markdown",
      "metadata": {
        "id": "L_cQX8dWu4Dv"
      },
      "source": [
        "# Hand Landmarks Detection with MediaPipe Tasks\n",
        "\n",
        "This notebook shows you how to use MediaPipe Tasks Python API to detect hand landmarks from images."
      ]
    },
    {
      "cell_type": "markdown",
      "metadata": {
        "id": "O6PN9FvIx614"
      },
      "source": [
        "## Preparation\n",
        "\n",
        "Let's start with installing MediaPipe."
      ]
    },
    {
      "cell_type": "code",
      "execution_count": 4,
      "metadata": {
        "colab": {
          "base_uri": "https://localhost:8080/"
        },
        "id": "gxbHBsF-8Y_l",
        "outputId": "06e87762-f685-40ff-bc15-8d2da301b0db"
      },
      "outputs": [
        {
          "name": "stdout",
          "output_type": "stream",
          "text": [
            "\n",
            "\u001b[1m[\u001b[0m\u001b[34;49mnotice\u001b[0m\u001b[1;39;49m]\u001b[0m\u001b[39;49m A new release of pip is available: \u001b[0m\u001b[31;49m23.2.1\u001b[0m\u001b[39;49m -> \u001b[0m\u001b[32;49m24.0\u001b[0m\n",
            "\u001b[1m[\u001b[0m\u001b[34;49mnotice\u001b[0m\u001b[1;39;49m]\u001b[0m\u001b[39;49m To update, run: \u001b[0m\u001b[32;49mpip install --upgrade pip\u001b[0m\n"
          ]
        }
      ],
      "source": [
        "!pip install -q mediapipe"
      ]
    },
    {
      "cell_type": "markdown",
      "metadata": {
        "id": "a49D7h4TVmru"
      },
      "source": [
        "Then download an off-the-shelf model bundle. Check out the [MediaPipe documentation](https://developers.google.com/mediapipe/solutions/vision/hand_landmarker#models) for more information about this model bundle."
      ]
    },
    {
      "cell_type": "code",
      "execution_count": 5,
      "metadata": {
        "id": "OMjuVQiDYJKF"
      },
      "outputs": [],
      "source": [
        "!wget -q https://storage.googleapis.com/mediapipe-models/hand_landmarker/hand_landmarker/float16/1/hand_landmarker.task"
      ]
    },
    {
      "cell_type": "markdown",
      "metadata": {
        "id": "YYKAJ5nDU8-I"
      },
      "source": [
        "## Visualization utilities"
      ]
    },
    {
      "cell_type": "code",
      "execution_count": 6,
      "metadata": {
        "id": "s3E6NFV-00Qt"
      },
      "outputs": [],
      "source": [
        "#@markdown We implemented some functions to visualize the hand landmark detection results. <br/> Run the following cell to activate the functions.\n",
        "\n",
        "from mediapipe import solutions\n",
        "from mediapipe.framework.formats import landmark_pb2\n",
        "import numpy as np\n",
        "\n",
        "MARGIN = 10  # pixels\n",
        "FONT_SIZE = 1\n",
        "FONT_THICKNESS = 1\n",
        "HANDEDNESS_TEXT_COLOR = (88, 205, 54) # vibrant green\n",
        "\n",
        "def draw_landmarks_on_image(rgb_image, detection_result):\n",
        "  hand_landmarks_list = detection_result.hand_landmarks\n",
        "  handedness_list = detection_result.handedness\n",
        "  annotated_image = np.copy(rgb_image)\n",
        "\n",
        "  # Loop through the detected hands to visualize.\n",
        "  for idx in range(len(hand_landmarks_list)):\n",
        "    hand_landmarks = hand_landmarks_list[idx]\n",
        "    handedness = handedness_list[idx]\n",
        "\n",
        "    # Draw the hand landmarks.\n",
        "    hand_landmarks_proto = landmark_pb2.NormalizedLandmarkList()\n",
        "    hand_landmarks_proto.landmark.extend([\n",
        "      landmark_pb2.NormalizedLandmark(x=landmark.x, y=landmark.y, z=landmark.z) for landmark in hand_landmarks\n",
        "    ])\n",
        "    solutions.drawing_utils.draw_landmarks(\n",
        "      annotated_image,\n",
        "      hand_landmarks_proto,\n",
        "      solutions.hands.HAND_CONNECTIONS,\n",
        "      solutions.drawing_styles.get_default_hand_landmarks_style(),\n",
        "      solutions.drawing_styles.get_default_hand_connections_style())\n",
        "\n",
        "    # Get the top left corner of the detected hand's bounding box.\n",
        "    height, width, _ = annotated_image.shape\n",
        "    x_coordinates = [landmark.x for landmark in hand_landmarks]\n",
        "    y_coordinates = [landmark.y for landmark in hand_landmarks]\n",
        "    text_x = int(min(x_coordinates) * width)\n",
        "    text_y = int(min(y_coordinates) * height) - MARGIN\n",
        "\n",
        "    # Draw handedness (left or right hand) on the image.\n",
        "    cv2.putText(annotated_image, f\"{handedness[0].category_name}\",\n",
        "                (text_x, text_y), cv2.FONT_HERSHEY_DUPLEX,\n",
        "                FONT_SIZE, HANDEDNESS_TEXT_COLOR, FONT_THICKNESS, cv2.LINE_AA)\n",
        "\n",
        "  return annotated_image"
      ]
    },
    {
      "cell_type": "markdown",
      "metadata": {
        "id": "83PEJNp9yPBU"
      },
      "source": [
        "## Download test image\n",
        "\n",
        "Let's grab a test image that we'll use later. The image is from [Unsplash](https://unsplash.com/photos/mt2fyrdXxzk)."
      ]
    },
    {
      "cell_type": "code",
      "execution_count": 15,
      "metadata": {
        "colab": {
          "base_uri": "https://localhost:8080/",
          "height": 977
        },
        "id": "tzXuqyIBlXer",
        "outputId": "d2852acf-4047-4aec-dfc6-e4a2139fa662"
      },
      "outputs": [
        {
          "ename": "ModuleNotFoundError",
          "evalue": "No module named 'google.colab'",
          "output_type": "error",
          "traceback": [
            "\u001b[0;31m---------------------------------------------------------------------------\u001b[0m",
            "\u001b[0;31mModuleNotFoundError\u001b[0m                       Traceback (most recent call last)",
            "Cell \u001b[0;32mIn[15], line 4\u001b[0m\n\u001b[1;32m      1\u001b[0m get_ipython()\u001b[38;5;241m.\u001b[39msystem(\u001b[38;5;124m'\u001b[39m\u001b[38;5;124mwget -q -O image.jpg https://storage.googleapis.com/mediapipe-tasks/hand_landmarker/woman_hands.jpg\u001b[39m\u001b[38;5;124m'\u001b[39m)\n\u001b[1;32m      3\u001b[0m \u001b[38;5;28;01mimport\u001b[39;00m \u001b[38;5;21;01mcv2\u001b[39;00m\n\u001b[0;32m----> 4\u001b[0m \u001b[38;5;28;01mfrom\u001b[39;00m \u001b[38;5;21;01mgoogle\u001b[39;00m\u001b[38;5;21;01m.\u001b[39;00m\u001b[38;5;21;01mcolab\u001b[39;00m\u001b[38;5;21;01m.\u001b[39;00m\u001b[38;5;21;01mpatches\u001b[39;00m \u001b[38;5;28;01mimport\u001b[39;00m cv2_imshow\n\u001b[1;32m      6\u001b[0m img \u001b[38;5;241m=\u001b[39m cv2\u001b[38;5;241m.\u001b[39mimread(\u001b[38;5;124m\"\u001b[39m\u001b[38;5;124m./videos/video_4/frame_14.png\u001b[39m\u001b[38;5;124m\"\u001b[39m)\n\u001b[1;32m      7\u001b[0m cv2_imshow(img)\n",
            "\u001b[0;31mModuleNotFoundError\u001b[0m: No module named 'google.colab'"
          ]
        }
      ],
      "source": [
        "!wget -q -O image.jpg https://storage.googleapis.com/mediapipe-tasks/hand_landmarker/woman_hands.jpg\n",
        "\n",
        "import cv2\n",
        "# from google.colab.patches import cv2_imshow\n",
        "\n",
        "img = cv2.imread(\"./videos/video_4/frame_14.png\")\n"
      ]
    },
    {
      "cell_type": "markdown",
      "metadata": {
        "id": "u-skLwMBmMN_"
      },
      "source": [
        "Optionally, you can upload your own image. If you want to do so, uncomment and run the cell below."
      ]
    },
    {
      "cell_type": "code",
      "execution_count": null,
      "metadata": {
        "id": "etBjSdwImQPw"
      },
      "outputs": [],
      "source": [
        "# from google.colab import files\n",
        "# uploaded = files.upload()\n",
        "\n",
        "# for filename in uploaded:\n",
        "#   content = uploaded[filename]\n",
        "#   with open(filename, 'wb') as f:\n",
        "#     f.write(content)\n",
        "\n",
        "# if len(uploaded.keys()):\n",
        "#   IMAGE_FILE = next(iter(uploaded))\n",
        "#   print('Uploaded file:', IMAGE_FILE)"
      ]
    },
    {
      "cell_type": "markdown",
      "metadata": {
        "id": "Iy4r2_ePylIa"
      },
      "source": [
        "## Running inference and visualizing the results\n",
        "\n",
        "Here are the steps to run hand landmark detection using MediaPipe.\n",
        "\n",
        "Check out the [MediaPipe documentation](https://developers.google.com/mediapipe/solutions/vision/hand_landmarker/python) to learn more about configuration options that this solution supports.\n"
      ]
    },
    {
      "cell_type": "code",
      "execution_count": 16,
      "metadata": {
        "colab": {
          "base_uri": "https://localhost:8080/",
          "height": 1000
        },
        "id": "_JVO3rvPD4RN",
        "outputId": "09e1f828-4058-4c19-a824-a7fd4899e202"
      },
      "outputs": [
        {
          "name": "stderr",
          "output_type": "stream",
          "text": [
            "I0000 00:00:1718168593.279936 6207308 gl_context.cc:357] GL version: 2.1 (2.1 Metal - 88.1), renderer: Apple M2\n",
            "W0000 00:00:1718168593.287646 6267927 inference_feedback_manager.cc:114] Feedback manager requires a model with a single signature inference. Disabling support for feedback tensors.\n",
            "W0000 00:00:1718168593.294829 6267931 inference_feedback_manager.cc:114] Feedback manager requires a model with a single signature inference. Disabling support for feedback tensors.\n",
            "/Users/haily/.pyenv/versions/3.11.5/lib/python3.11/site-packages/google/protobuf/symbol_database.py:55: UserWarning: SymbolDatabase.GetPrototype() is deprecated. Please use message_factory.GetMessageClass() instead. SymbolDatabase.GetPrototype() will be removed soon.\n",
            "  warnings.warn('SymbolDatabase.GetPrototype() is deprecated. Please '\n"
          ]
        },
        {
          "data": {
            "text/plain": [
              "HandLandmarkerResult(handedness=[[Category(index=1, score=0.9357697367668152, display_name='Left', category_name='Left')], [Category(index=0, score=0.9609500765800476, display_name='Right', category_name='Right')]], hand_landmarks=[[NormalizedLandmark(x=0.39291882514953613, y=0.7066094279289246, z=-3.2929972348938463e-07, visibility=0.0, presence=0.0), NormalizedLandmark(x=0.3431203365325928, y=0.7504481077194214, z=-0.01982179656624794, visibility=0.0, presence=0.0), NormalizedLandmark(x=0.27089524269104004, y=0.7737333178520203, z=-0.02736632153391838, visibility=0.0, presence=0.0), NormalizedLandmark(x=0.2080773562192917, y=0.779670238494873, z=-0.036947671324014664, visibility=0.0, presence=0.0), NormalizedLandmark(x=0.15704932808876038, y=0.7829773426055908, z=-0.04580814763903618, visibility=0.0, presence=0.0), NormalizedLandmark(x=0.20208586752414703, y=0.7279685139656067, z=0.004852598067373037, visibility=0.0, presence=0.0), NormalizedLandmark(x=0.13295283913612366, y=0.7431300282478333, z=-0.01850847527384758, visibility=0.0, presence=0.0), NormalizedLandmark(x=0.09457875043153763, y=0.7587483525276184, z=-0.042702510952949524, visibility=0.0, presence=0.0), NormalizedLandmark(x=0.06427469849586487, y=0.7747342586517334, z=-0.05866099148988724, visibility=0.0, presence=0.0), NormalizedLandmark(x=0.1926354020833969, y=0.7007609009742737, z=-3.485070919850841e-05, visibility=0.0, presence=0.0), NormalizedLandmark(x=0.11083292961120605, y=0.7078337669372559, z=-0.018198629841208458, visibility=0.0, presence=0.0), NormalizedLandmark(x=0.05870838463306427, y=0.7205243110656738, z=-0.03833508491516113, visibility=0.0, presence=0.0), NormalizedLandmark(x=0.0176389217376709, y=0.7361720204353333, z=-0.0530393160879612, visibility=0.0, presence=0.0), NormalizedLandmark(x=0.19935229420661926, y=0.6770333051681519, z=-0.010819168761372566, visibility=0.0, presence=0.0), NormalizedLandmark(x=0.12269735336303711, y=0.6760033965110779, z=-0.02879287675023079, visibility=0.0, presence=0.0), NormalizedLandmark(x=0.07378153502941132, y=0.6857253909111023, z=-0.045345909893512726, visibility=0.0, presence=0.0), NormalizedLandmark(x=0.03343658149242401, y=0.6993208527565002, z=-0.05583583191037178, visibility=0.0, presence=0.0), NormalizedLandmark(x=0.22132818400859833, y=0.6545820832252502, z=-0.02449972741305828, visibility=0.0, presence=0.0), NormalizedLandmark(x=0.16080698370933533, y=0.6463567018508911, z=-0.036902982741594315, visibility=0.0, presence=0.0), NormalizedLandmark(x=0.12067564576864243, y=0.6479212641716003, z=-0.045213717967271805, visibility=0.0, presence=0.0), NormalizedLandmark(x=0.08355597406625748, y=0.6550386548042297, z=-0.05128950625658035, visibility=0.0, presence=0.0)], [NormalizedLandmark(x=0.46625930070877075, y=0.40014082193374634, z=2.7609712560661137e-07, visibility=0.0, presence=0.0), NormalizedLandmark(x=0.5190682411193848, y=0.4412262737751007, z=-0.02015957422554493, visibility=0.0, presence=0.0), NormalizedLandmark(x=0.5820633769035339, y=0.46174463629722595, z=-0.021237866953015327, visibility=0.0, presence=0.0), NormalizedLandmark(x=0.6438999772071838, y=0.45654571056365967, z=-0.022701187059283257, visibility=0.0, presence=0.0), NormalizedLandmark(x=0.6667943000793457, y=0.4328071177005768, z=-0.02488216757774353, visibility=0.0, presence=0.0), NormalizedLandmark(x=0.62540203332901, y=0.4301179051399231, z=0.015076288022100925, visibility=0.0, presence=0.0), NormalizedLandmark(x=0.6751254200935364, y=0.4283369481563568, z=0.003942623734474182, visibility=0.0, presence=0.0), NormalizedLandmark(x=0.7018793821334839, y=0.42428380250930786, z=-0.013605557382106781, visibility=0.0, presence=0.0), NormalizedLandmark(x=0.7248561382293701, y=0.420131653547287, z=-0.027850449085235596, visibility=0.0, presence=0.0), NormalizedLandmark(x=0.6212829351425171, y=0.4039905369281769, z=0.013107181526720524, visibility=0.0, presence=0.0), NormalizedLandmark(x=0.6726676225662231, y=0.39837244153022766, z=0.002343727508559823, visibility=0.0, presence=0.0), NormalizedLandmark(x=0.7058795690536499, y=0.39449912309646606, z=-0.020213866606354713, visibility=0.0, presence=0.0), NormalizedLandmark(x=0.7320603728294373, y=0.38988807797431946, z=-0.03838793933391571, visibility=0.0, presence=0.0), NormalizedLandmark(x=0.6041432023048401, y=0.3799370229244232, z=0.006347619462758303, visibility=0.0, presence=0.0), NormalizedLandmark(x=0.6506704092025757, y=0.3714085519313812, z=-0.008241747505962849, visibility=0.0, presence=0.0), NormalizedLandmark(x=0.6778702735900879, y=0.3689413368701935, z=-0.028285810723900795, visibility=0.0, presence=0.0), NormalizedLandmark(x=0.6980119943618774, y=0.367270827293396, z=-0.0421634204685688, visibility=0.0, presence=0.0), NormalizedLandmark(x=0.5778372287750244, y=0.35541456937789917, z=-0.002825554460287094, visibility=0.0, presence=0.0), NormalizedLandmark(x=0.6165997982025146, y=0.34632158279418945, z=-0.01585431955754757, visibility=0.0, presence=0.0), NormalizedLandmark(x=0.6417890191078186, y=0.34439635276794434, z=-0.02678961493074894, visibility=0.0, presence=0.0), NormalizedLandmark(x=0.6629263758659363, y=0.3451610803604126, z=-0.035409849137067795, visibility=0.0, presence=0.0)]], hand_world_landmarks=[[Landmark(x=0.08695007115602493, y=0.014125771820545197, z=-0.030945830047130585, visibility=0.0, presence=0.0), Landmark(x=0.06219656020402908, y=0.03361150622367859, z=-0.024821244180202484, visibility=0.0, presence=0.0), Landmark(x=0.03928593546152115, y=0.0424015112221241, z=-0.015133246779441833, visibility=0.0, presence=0.0), Landmark(x=0.004514139145612717, y=0.050771892070770264, z=-0.0006792955100536346, visibility=0.0, presence=0.0), Landmark(x=-0.025179727002978325, y=0.052644792944192886, z=0.015767231583595276, visibility=0.0, presence=0.0), Landmark(x=0.0011319508776068687, y=0.022390522062778473, z=0.013610729947686195, visibility=0.0, presence=0.0), Landmark(x=-0.027233965694904327, y=0.026896685361862183, z=0.006937600672245026, visibility=0.0, presence=0.0), Landmark(x=-0.04652112349867821, y=0.036523595452308655, z=-0.0036682821810245514, visibility=0.0, presence=0.0), Landmark(x=-0.056944988667964935, y=0.05201267823576927, z=-0.02902400493621826, visibility=0.0, presence=0.0), Landmark(x=-0.0036101127043366432, y=0.00304664159193635, z=0.008609296754002571, visibility=0.0, presence=0.0), Landmark(x=-0.03894227370619774, y=0.0018407758325338364, z=0.002341233193874359, visibility=0.0, presence=0.0), Landmark(x=-0.06441096216440201, y=0.014799486845731735, z=-0.01700820028781891, visibility=0.0, presence=0.0), Landmark(x=-0.08343684673309326, y=0.024360166862607002, z=-0.03257475793361664, visibility=0.0, presence=0.0), Landmark(x=-0.0019206488505005836, y=-0.017173539847135544, z=-0.008144155144691467, visibility=0.0, presence=0.0), Landmark(x=-0.030854476615786552, y=-0.01644616387784481, z=-0.013331189751625061, visibility=0.0, presence=0.0), Landmark(x=-0.05401867628097534, y=-0.008465765044093132, z=-0.02696514129638672, visibility=0.0, presence=0.0), Landmark(x=-0.07265593856573105, y=0.0004692003130912781, z=-0.043089866638183594, visibility=0.0, presence=0.0), Landmark(x=0.007523106876760721, y=-0.02272401936352253, z=-0.023950010538101196, visibility=0.0, presence=0.0), Landmark(x=-0.013015114702284336, y=-0.030884478241205215, z=-0.023496780544519424, visibility=0.0, presence=0.0), Landmark(x=-0.03375069051980972, y=-0.03559602051973343, z=-0.030533477663993835, visibility=0.0, presence=0.0), Landmark(x=-0.05189364403486252, y=-0.027244076132774353, z=-0.04191155359148979, visibility=0.0, presence=0.0)], [Landmark(x=-0.08259567618370056, y=0.003399733453989029, z=-0.025686457753181458, visibility=0.0, presence=0.0), Landmark(x=-0.055622342973947525, y=0.031119773164391518, z=-0.027630653232336044, visibility=0.0, presence=0.0), Landmark(x=-0.021924220025539398, y=0.049921054393053055, z=-0.026418514549732208, visibility=0.0, presence=0.0), Landmark(x=0.01475844718515873, y=0.04835790395736694, z=-0.022503085434436798, visibility=0.0, presence=0.0), Landmark(x=0.03605889528989792, y=0.027963057160377502, z=-0.012693628668785095, visibility=0.0, presence=0.0), Landmark(x=0.009752264246344566, y=0.027208127081394196, z=0.0030530840158462524, visibility=0.0, presence=0.0), Landmark(x=0.03443459793925285, y=0.02645338885486126, z=-0.004187323153018951, visibility=0.0, presence=0.0), Landmark(x=0.05151982605457306, y=0.02576032094657421, z=-0.01120486855506897, visibility=0.0, presence=0.0), Landmark(x=0.0596015639603138, y=0.02128979004919529, z=-0.039174459874629974, visibility=0.0, presence=0.0), Landmark(x=0.005221560597419739, y=0.0017664043698459864, z=0.008541222661733627, visibility=0.0, presence=0.0), Landmark(x=0.03832612559199333, y=0.0023382827639579773, z=-0.0002626478672027588, visibility=0.0, presence=0.0), Landmark(x=0.05831984803080559, y=0.0007031280547380447, z=-0.019617319107055664, visibility=0.0, presence=0.0), Landmark(x=0.0715542659163475, y=0.0018209535628557205, z=-0.04101745784282684, visibility=0.0, presence=0.0), Landmark(x=-0.003864836413413286, y=-0.020372433587908745, z=-0.0024045556783676147, visibility=0.0, presence=0.0), Landmark(x=0.026710160076618195, y=-0.020148487761616707, z=-0.009225936606526375, visibility=0.0, presence=0.0), Landmark(x=0.04174385964870453, y=-0.019043924286961555, z=-0.026069238781929016, visibility=0.0, presence=0.0), Landmark(x=0.052935678511857986, y=-0.016866886988282204, z=-0.042588457465171814, visibility=0.0, presence=0.0), Landmark(x=-0.018474377691745758, y=-0.037465453147888184, z=-0.010582491755485535, visibility=0.0, presence=0.0), Landmark(x=0.0029958225786685944, y=-0.04196281358599663, z=-0.013026908040046692, visibility=0.0, presence=0.0), Landmark(x=0.022877346724271774, y=-0.04301276057958603, z=-0.02104473114013672, visibility=0.0, presence=0.0), Landmark(x=0.03645063936710358, y=-0.03904261067509651, z=-0.030023805797100067, visibility=0.0, presence=0.0)]])"
            ]
          },
          "execution_count": 16,
          "metadata": {},
          "output_type": "execute_result"
        }
      ],
      "source": [
        "# STEP 1: Import the necessary modules.\n",
        "import mediapipe as mp\n",
        "from mediapipe.tasks import python\n",
        "from mediapipe.tasks.python import vision\n",
        "\n",
        "# STEP 2: Create an HandLandmarker object.\n",
        "base_options = python.BaseOptions(model_asset_path='hand_landmarker.task')\n",
        "options = vision.HandLandmarkerOptions(base_options=base_options,\n",
        "                                       num_hands=2)\n",
        "detector = vision.HandLandmarker.create_from_options(options)\n",
        "\n",
        "# STEP 3: Load the input image.\n",
        "image = mp.Image.create_from_file(\"image.jpg\")\n",
        "\n",
        "# STEP 4: Detect hand landmarks from the input image.\n",
        "detection_result = detector.detect(image)\n",
        "detection_result\n",
        "# # STEP 5: Process the classification result. In this case, visualize it.\n",
        "# annotated_image = draw_landmarks_on_image(image.numpy_view(), detection_result)\n",
        "# cv2_imshow(cv2.cvtColor(annotated_image, cv2.COLOR_RGB2BGR))"
      ]
    },
    {
      "cell_type": "code",
      "execution_count": 8,
      "metadata": {
        "colab": {
          "base_uri": "https://localhost:8080/"
        },
        "id": "SE6_sPCXaX3g",
        "outputId": "9aa74367-a9e3-4eac-a904-0d40d8dc7c85"
      },
      "outputs": [
        {
          "data": {
            "text/plain": [
              "HandLandmarkerResult(handedness=[[Category(index=1, score=0.9357714653015137, display_name='Left', category_name='Left')], [Category(index=0, score=0.960895299911499, display_name='Right', category_name='Right')]], hand_landmarks=[[NormalizedLandmark(x=0.39291912317276, y=0.7066095471382141, z=-3.293027077688748e-07, visibility=0.0, presence=0.0), NormalizedLandmark(x=0.34312063455581665, y=0.7504479885101318, z=-0.019821790978312492, visibility=0.0, presence=0.0), NormalizedLandmark(x=0.2708950638771057, y=0.7737331986427307, z=-0.027366425842046738, visibility=0.0, presence=0.0), NormalizedLandmark(x=0.20807738602161407, y=0.779670238494873, z=-0.03694787248969078, visibility=0.0, presence=0.0), NormalizedLandmark(x=0.15704940259456635, y=0.7829774022102356, z=-0.04580849036574364, visibility=0.0, presence=0.0), NormalizedLandmark(x=0.2020859718322754, y=0.7279683947563171, z=0.004851780831813812, visibility=0.0, presence=0.0), NormalizedLandmark(x=0.13295286893844604, y=0.743130087852478, z=-0.01850949414074421, visibility=0.0, presence=0.0), NormalizedLandmark(x=0.09457877278327942, y=0.7587484121322632, z=-0.04270356521010399, visibility=0.0, presence=0.0), NormalizedLandmark(x=0.06427456438541412, y=0.7747343182563782, z=-0.05866202712059021, visibility=0.0, presence=0.0), NormalizedLandmark(x=0.19263559579849243, y=0.7007609009742737, z=-3.571662091417238e-05, visibility=0.0, presence=0.0), NormalizedLandmark(x=0.11083298921585083, y=0.7078337669372559, z=-0.018199684098362923, visibility=0.0, presence=0.0), NormalizedLandmark(x=0.05870845913887024, y=0.7205243110656738, z=-0.03833606839179993, visibility=0.0, presence=0.0), NormalizedLandmark(x=0.017638981342315674, y=0.736172080039978, z=-0.053040239959955215, visibility=0.0, presence=0.0), NormalizedLandmark(x=0.19935233891010284, y=0.6770334243774414, z=-0.010820012539625168, visibility=0.0, presence=0.0), NormalizedLandmark(x=0.12269744277000427, y=0.6760034561157227, z=-0.028793808072805405, visibility=0.0, presence=0.0), NormalizedLandmark(x=0.07378162443637848, y=0.6857254505157471, z=-0.04534677416086197, visibility=0.0, presence=0.0), NormalizedLandmark(x=0.03343664109706879, y=0.699320912361145, z=-0.05583665147423744, visibility=0.0, presence=0.0), NormalizedLandmark(x=0.22132857143878937, y=0.654582142829895, z=-0.02450055256485939, visibility=0.0, presence=0.0), NormalizedLandmark(x=0.1608070731163025, y=0.6463568806648254, z=-0.03690389543771744, visibility=0.0, presence=0.0), NormalizedLandmark(x=0.12067575007677078, y=0.6479213833808899, z=-0.045214664191007614, visibility=0.0, presence=0.0), NormalizedLandmark(x=0.08355601876974106, y=0.6550387740135193, z=-0.05129045248031616, visibility=0.0, presence=0.0)], [NormalizedLandmark(x=0.4662620425224304, y=0.40013977885246277, z=2.7611559971774113e-07, visibility=0.0, presence=0.0), NormalizedLandmark(x=0.519073486328125, y=0.44122543931007385, z=-0.020154574885964394, visibility=0.0, presence=0.0), NormalizedLandmark(x=0.5820644497871399, y=0.4617445766925812, z=-0.021230580285191536, visibility=0.0, presence=0.0), NormalizedLandmark(x=0.643897294998169, y=0.45654669404029846, z=-0.022692834958434105, visibility=0.0, presence=0.0), NormalizedLandmark(x=0.6667944192886353, y=0.43280959129333496, z=-0.02487306296825409, visibility=0.0, presence=0.0), NormalizedLandmark(x=0.625401496887207, y=0.4301188290119171, z=0.015087120234966278, visibility=0.0, presence=0.0), NormalizedLandmark(x=0.6751241087913513, y=0.42833831906318665, z=0.003957920707762241, visibility=0.0, presence=0.0), NormalizedLandmark(x=0.7018770575523376, y=0.42428499460220337, z=-0.013588840141892433, visibility=0.0, presence=0.0), NormalizedLandmark(x=0.7248542904853821, y=0.4201323986053467, z=-0.027833469212055206, visibility=0.0, presence=0.0), NormalizedLandmark(x=0.6212813854217529, y=0.403990775346756, z=0.013116266578435898, visibility=0.0, presence=0.0), NormalizedLandmark(x=0.6726646423339844, y=0.3983727693557739, z=0.002355160191655159, visibility=0.0, presence=0.0), NormalizedLandmark(x=0.7058770060539246, y=0.39449942111968994, z=-0.02020472101867199, visibility=0.0, presence=0.0), NormalizedLandmark(x=0.7320601344108582, y=0.38988780975341797, z=-0.03838092461228371, visibility=0.0, presence=0.0), NormalizedLandmark(x=0.6041418313980103, y=0.3799363374710083, z=0.006355364806950092, visibility=0.0, presence=0.0), NormalizedLandmark(x=0.6506683826446533, y=0.37140926718711853, z=-0.008232945576310158, visibility=0.0, presence=0.0), NormalizedLandmark(x=0.6778689622879028, y=0.3689419627189636, z=-0.0282795038074255, visibility=0.0, presence=0.0), NormalizedLandmark(x=0.6980123519897461, y=0.3672705292701721, z=-0.04215899854898453, visibility=0.0, presence=0.0), NormalizedLandmark(x=0.5778369307518005, y=0.3554137945175171, z=-0.0028185213450342417, visibility=0.0, presence=0.0), NormalizedLandmark(x=0.616600751876831, y=0.34632137417793274, z=-0.015847906470298767, visibility=0.0, presence=0.0), NormalizedLandmark(x=0.6417916417121887, y=0.3443954586982727, z=-0.02678474225103855, visibility=0.0, presence=0.0), NormalizedLandmark(x=0.6629310250282288, y=0.34515947103500366, z=-0.03540591895580292, visibility=0.0, presence=0.0)]], hand_world_landmarks=[[Landmark(x=0.08695010840892792, y=0.014125721529126167, z=-0.030945420265197754, visibility=0.0, presence=0.0), Landmark(x=0.06219671666622162, y=0.0336117185652256, z=-0.024821029976010323, visibility=0.0, presence=0.0), Landmark(x=0.039285968989133835, y=0.04240145534276962, z=-0.015133146196603775, visibility=0.0, presence=0.0), Landmark(x=0.004513971507549286, y=0.05077211558818817, z=-0.0006793184438720345, visibility=0.0, presence=0.0), Landmark(x=-0.02517993003129959, y=0.05264487862586975, z=0.015766803175210953, visibility=0.0, presence=0.0), Landmark(x=0.001131899654865265, y=0.022390589118003845, z=0.013610790483653545, visibility=0.0, presence=0.0), Landmark(x=-0.0272340290248394, y=0.026896754279732704, z=0.006937519181519747, visibility=0.0, presence=0.0), Landmark(x=-0.04652127996087074, y=0.03652362897992134, z=-0.003668418852612376, visibility=0.0, presence=0.0), Landmark(x=-0.05694492161273956, y=0.05201280489563942, z=-0.029024122282862663, visibility=0.0, presence=0.0), Landmark(x=-0.003610098734498024, y=0.0030466157477349043, z=0.008609158918261528, visibility=0.0, presence=0.0), Landmark(x=-0.03894229233264923, y=0.001840805634856224, z=0.0023410290013998747, visibility=0.0, presence=0.0), Landmark(x=-0.06441096216440201, y=0.014799458906054497, z=-0.01700848527252674, visibility=0.0, presence=0.0), Landmark(x=-0.08343687653541565, y=0.024360327050089836, z=-0.03257500380277634, visibility=0.0, presence=0.0), Landmark(x=-0.0019205901771783829, y=-0.017173444852232933, z=-0.008144189603626728, visibility=0.0, presence=0.0), Landmark(x=-0.030854452401399612, y=-0.016446268185973167, z=-0.013331315480172634, visibility=0.0, presence=0.0), Landmark(x=-0.0540187694132328, y=-0.008465694263577461, z=-0.026965230703353882, visibility=0.0, presence=0.0), Landmark(x=-0.07265583425760269, y=0.00046926364302635193, z=-0.04309016838669777, visibility=0.0, presence=0.0), Landmark(x=0.007523129228502512, y=-0.022724224254488945, z=-0.02394997514784336, visibility=0.0, presence=0.0), Landmark(x=-0.013015291653573513, y=-0.03088456764817238, z=-0.02349667251110077, visibility=0.0, presence=0.0), Landmark(x=-0.03375067561864853, y=-0.03559602424502373, z=-0.030533546581864357, visibility=0.0, presence=0.0), Landmark(x=-0.051893483847379684, y=-0.027244025841355324, z=-0.04191197082400322, visibility=0.0, presence=0.0)], [Landmark(x=-0.08258777111768723, y=0.0033981502056121826, z=-0.025670146569609642, visibility=0.0, presence=0.0), Landmark(x=-0.05561538413167, y=0.03111676499247551, z=-0.027616260573267937, visibility=0.0, presence=0.0), Landmark(x=-0.021918807178735733, y=0.04991990700364113, z=-0.026401210576295853, visibility=0.0, presence=0.0), Landmark(x=0.01475982740521431, y=0.04835791140794754, z=-0.02248605713248253, visibility=0.0, presence=0.0), Landmark(x=0.03605883568525314, y=0.027963630855083466, z=-0.01267757173627615, visibility=0.0, presence=0.0), Landmark(x=0.009750778786838055, y=0.027205372229218483, z=0.0030527475755661726, visibility=0.0, presence=0.0), Landmark(x=0.03443169593811035, y=0.02645392343401909, z=-0.004186661913990974, visibility=0.0, presence=0.0), Landmark(x=0.05151825398206711, y=0.025760887190699577, z=-0.01119726337492466, visibility=0.0, presence=0.0), Landmark(x=0.05960048362612724, y=0.021290121600031853, z=-0.03915819153189659, visibility=0.0, presence=0.0), Landmark(x=0.005220428109169006, y=0.001766379689797759, z=0.008538593538105488, visibility=0.0, presence=0.0), Landmark(x=0.038324303925037384, y=0.002340288832783699, z=-0.0002610681694932282, visibility=0.0, presence=0.0), Landmark(x=0.05831834673881531, y=0.0007059834897518158, z=-0.01960727758705616, visibility=0.0, presence=0.0), Landmark(x=0.07155460864305496, y=0.0018238648772239685, z=-0.04100021719932556, visibility=0.0, presence=0.0), Landmark(x=-0.0038636885583400726, y=-0.02037045918405056, z=-0.0024046783801168203, visibility=0.0, presence=0.0), Landmark(x=0.02671048417687416, y=-0.020143158733844757, z=-0.009220176376402378, visibility=0.0, presence=0.0), Landmark(x=0.04174460843205452, y=-0.019039815291762352, z=-0.02605503983795643, visibility=0.0, presence=0.0), Landmark(x=0.05293745547533035, y=-0.01686306856572628, z=-0.04256749525666237, visibility=0.0, presence=0.0), Landmark(x=-0.01847192458808422, y=-0.037462662905454636, z=-0.010577626526355743, visibility=0.0, presence=0.0), Landmark(x=0.002998300828039646, y=-0.04196089506149292, z=-0.013018360361456871, visibility=0.0, presence=0.0), Landmark(x=0.022880738601088524, y=-0.04301043972373009, z=-0.021030042320489883, visibility=0.0, presence=0.0), Landmark(x=0.036454539746046066, y=-0.039040785282850266, z=-0.03000437282025814, visibility=0.0, presence=0.0)]])"
            ]
          },
          "execution_count": 8,
          "metadata": {},
          "output_type": "execute_result"
        }
      ],
      "source": [
        "detection_result"
      ]
    }
  ],
  "metadata": {
    "colab": {
      "collapsed_sections": [
        "h2q27gKz1H20"
      ],
      "provenance": []
    },
    "kernelspec": {
      "display_name": "Python 3 (ipykernel)",
      "language": "python",
      "name": "python3"
    },
    "language_info": {
      "codemirror_mode": {
        "name": "ipython",
        "version": 3
      },
      "file_extension": ".py",
      "mimetype": "text/x-python",
      "name": "python",
      "nbconvert_exporter": "python",
      "pygments_lexer": "ipython3",
      "version": "3.11.5"
    }
  },
  "nbformat": 4,
  "nbformat_minor": 0
}
