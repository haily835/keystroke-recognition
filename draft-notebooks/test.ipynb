{
 "cells": [
  {
   "cell_type": "code",
   "execution_count": 46,
   "metadata": {},
   "outputs": [
    {
     "data": {
      "text/plain": [
       "tensor([[[154, 154, 154,  ..., 213, 213, 213],\n",
       "         [154, 154, 154,  ..., 213, 213, 213],\n",
       "         [154, 154, 154,  ..., 213, 213, 213],\n",
       "         ...,\n",
       "         [110, 109, 108,  ...,  61,  61,  61],\n",
       "         [112, 111, 110,  ...,  61,  61,  61],\n",
       "         [113, 112, 111,  ...,  62,  62,  62]],\n",
       "\n",
       "        [[136, 136, 136,  ..., 189, 189, 189],\n",
       "         [136, 136, 136,  ..., 189, 189, 189],\n",
       "         [136, 136, 136,  ..., 189, 189, 189],\n",
       "         ...,\n",
       "         [ 52,  51,  50,  ...,  67,  67,  67],\n",
       "         [ 54,  53,  52,  ...,  67,  67,  67],\n",
       "         [ 55,  54,  53,  ...,  68,  68,  68]],\n",
       "\n",
       "        [[114, 114, 114,  ..., 163, 163, 163],\n",
       "         [114, 114, 114,  ..., 163, 163, 163],\n",
       "         [114, 114, 114,  ..., 163, 163, 163],\n",
       "         ...,\n",
       "         [ 12,  11,  10,  ...,  57,  57,  57],\n",
       "         [ 14,  13,  12,  ...,  57,  57,  57],\n",
       "         [ 15,  14,  13,  ...,  58,  58,  58]]], dtype=torch.uint8)"
      ]
     },
     "execution_count": 46,
     "metadata": {},
     "output_type": "execute_result"
    }
   ],
   "source": [
    "import torch\n",
    "import torchvision\n",
    "\n",
    "\n",
    "img = torchvision.io.image.read_image('datasets/angle/raw_frames/video_0/frame_0.jpg')\n",
    "img"
   ]
  },
  {
   "cell_type": "code",
   "execution_count": 95,
   "metadata": {},
   "outputs": [],
   "source": [
    "torchvision.io.image.write_png(img, 'saved_img.jpg', compression_level=9)"
   ]
  },
  {
   "cell_type": "code",
   "execution_count": 96,
   "metadata": {},
   "outputs": [],
   "source": [
    "saved_img = torchvision.io.image.read_image('saved_img.jpg')"
   ]
  },
  {
   "cell_type": "code",
   "execution_count": 97,
   "metadata": {},
   "outputs": [
    {
     "data": {
      "text/plain": [
       "tensor([[[154, 154, 154,  ..., 213, 213, 213],\n",
       "         [154, 154, 154,  ..., 213, 213, 213],\n",
       "         [154, 154, 154,  ..., 213, 213, 213],\n",
       "         ...,\n",
       "         [110, 109, 108,  ...,  61,  61,  61],\n",
       "         [112, 111, 110,  ...,  61,  61,  61],\n",
       "         [113, 112, 111,  ...,  62,  62,  62]],\n",
       "\n",
       "        [[136, 136, 136,  ..., 189, 189, 189],\n",
       "         [136, 136, 136,  ..., 189, 189, 189],\n",
       "         [136, 136, 136,  ..., 189, 189, 189],\n",
       "         ...,\n",
       "         [ 52,  51,  50,  ...,  67,  67,  67],\n",
       "         [ 54,  53,  52,  ...,  67,  67,  67],\n",
       "         [ 55,  54,  53,  ...,  68,  68,  68]],\n",
       "\n",
       "        [[114, 114, 114,  ..., 163, 163, 163],\n",
       "         [114, 114, 114,  ..., 163, 163, 163],\n",
       "         [114, 114, 114,  ..., 163, 163, 163],\n",
       "         ...,\n",
       "         [ 12,  11,  10,  ...,  57,  57,  57],\n",
       "         [ 14,  13,  12,  ...,  57,  57,  57],\n",
       "         [ 15,  14,  13,  ...,  58,  58,  58]]], dtype=torch.uint8)"
      ]
     },
     "execution_count": 97,
     "metadata": {},
     "output_type": "execute_result"
    }
   ],
   "source": [
    "saved_img"
   ]
  },
  {
   "cell_type": "code",
   "execution_count": 98,
   "metadata": {},
   "outputs": [
    {
     "data": {
      "text/plain": [
       "torch.Size([0])"
      ]
     },
     "execution_count": 98,
     "metadata": {},
     "output_type": "execute_result"
    }
   ],
   "source": [
    "mask = saved_img == img\n",
    "torch.where(mask == False)[0].shape"
   ]
  },
  {
   "cell_type": "code",
   "execution_count": 102,
   "metadata": {},
   "outputs": [
    {
     "data": {
      "text/plain": [
       "tensor([[ 0.2593, -0.6745, -0.0197,  ...,  0.3730,  1.1357, -0.0158],\n",
       "        [ 0.2435, -0.4927,  0.0948,  ...,  0.4186,  1.4228, -0.0972],\n",
       "        [ 0.2796, -0.5648, -0.0433,  ...,  0.3549,  1.0805, -0.0643],\n",
       "        ...,\n",
       "        [ 0.2464, -0.6769, -0.1230,  ...,  0.6125,  1.3464,  0.0676],\n",
       "        [ 0.2844, -0.6233, -0.0479,  ...,  0.4338,  1.1652,  0.0280],\n",
       "        [ 0.0852, -0.5187, -0.0731,  ...,  0.4913,  1.2703,  0.1097]],\n",
       "       grad_fn=<AddmmBackward0>)"
      ]
     },
     "execution_count": 102,
     "metadata": {},
     "output_type": "execute_result"
    }
   ],
   "source": [
    "import torch\n",
    "import torchvision.models as models\n",
    "\n",
    "# Load a pre-trained ResNet model (e.g., ResNet-18)\n",
    "model = models.resnet101()\n",
    "\n",
    "x = torch.rand(8, 3, 224, 224)\n",
    "model(x)"
   ]
  }
 ],
 "metadata": {
  "kernelspec": {
   "display_name": "Python 3",
   "language": "python",
   "name": "python3"
  },
  "language_info": {
   "codemirror_mode": {
    "name": "ipython",
    "version": 3
   },
   "file_extension": ".py",
   "mimetype": "text/x-python",
   "name": "python",
   "nbconvert_exporter": "python",
   "pygments_lexer": "ipython3",
   "version": "3.10.4"
  }
 },
 "nbformat": 4,
 "nbformat_minor": 2
}
