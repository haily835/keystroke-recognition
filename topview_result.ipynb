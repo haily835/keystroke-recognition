{
 "cells": [
  {
   "cell_type": "markdown",
   "metadata": {},
   "source": [
    "# Classification results"
   ]
  },
  {
   "cell_type": "code",
   "execution_count": null,
   "metadata": {},
   "outputs": [
    {
     "name": "stdout",
     "output_type": "stream",
     "text": [
      "Clf:\n",
      "HYPERGT_ADD_DATA & 0.9461 & 0.9273 & 0.9182 & 0.9125 \\\\ \\hline\n",
      "HDGCN_ADD_DATA & 0.9364 & 0.9200 & 0.9137 & 0.9117 \\\\ \\hline\n",
      "CTRGCN_ADD_DATA & 0.9383 & 0.9116 & 0.9125 & 0.9155 \\\\ \\hline\n",
      "STGCN_ADD_DATA & 0.9129 & 0.8862 & 0.8779 & 0.8770 \\\\ \\hline\n",
      "Detection:\n",
      "HYPERGT_ADD_DATA & 0.9673 & 0.9355 & 0.9451 & 0.9555 \\\\ \\hline\n",
      "HDGCN_ADD_DATA & 0.9720 & 0.9579 & 0.9511 & 0.9447 \\\\ \\hline\n",
      "CTRGCN_ADD_DATA & 0.9710 & 0.9562 & 0.9494 & 0.9430 \\\\ \\hline\n",
      "STGCN_ADD_DATA & 0.9476 & 0.9018 & 0.9125 & 0.9243 \\\\ \\hline\n"
     ]
    }
   ],
   "source": [
    "from utils.calculate_metrics import calculate_metrics\n",
    "from sklearn.metrics import classification_report\n",
    "\n",
    "print(\"Clf:\")\n",
    "\n",
    "for model in ['HyperGT_add_data', 'HDGCN_add_data', 'CTRGCN_add_data', 'STGCN_add_data']:\n",
    "    result, _, _ = calculate_metrics(f\"./ckpts/{model}/clf/clf_test_results.csv\")\n",
    "    print(f\"{model.upper()} & {result} \\\\\\\\ \\hline\")\n",
    "    # calculate_metrics(f\"./ckpts/{model}/det/det_test_results.csv\")\n",
    "    \n",
    "\n",
    "print(\"Detection:\")\n",
    "\n",
    "for model in ['HyperGT_add_data', 'HDGCN_add_data', 'CTRGCN_add_data', 'STGCN_add_data']:\n",
    "    result, _, _ = calculate_metrics(f\"./ckpts/{model}/det/det_test_results.csv\")\n",
    "    print(f\"{model.upper()} & {result} \\\\\\\\ \\hline\")"
   ]
  },
  {
   "cell_type": "code",
   "execution_count": null,
   "metadata": {},
   "outputs": [
    {
     "name": "stdout",
     "output_type": "stream",
     "text": [
      "              precision    recall  f1-score   support\n",
      "\n",
      "           a     0.8799    0.8944    0.8871       549\n",
      "           b     0.9559    0.9848    0.9701        66\n",
      "           c     0.9561    0.9703    0.9631       202\n",
      "       comma     1.0000    0.9833    0.9916        60\n",
      "           d     0.9567    0.9135    0.9346       266\n",
      "      delete     0.9964    0.9789    0.9876       569\n",
      "         dot     0.9565    0.9670    0.9617        91\n",
      "           e     0.9146    0.9642    0.9388       811\n",
      "           f     0.9798    0.9238    0.9510       105\n",
      "           g     0.9286    0.9590    0.9435       122\n",
      "           h     0.9567    0.9643    0.9605       252\n",
      "           i     0.9443    0.9504    0.9474       464\n",
      "           j     0.7917    0.7600    0.7755        25\n",
      "           k     0.9344    0.7808    0.8507        73\n",
      "           l     0.9623    0.8947    0.9273       228\n",
      "           m     0.9638    0.9568    0.9603       139\n",
      "           n     0.9636    0.9463    0.9549       447\n",
      "           o     0.9622    0.9366    0.9492       489\n",
      "           p     0.9590    0.9360    0.9474       125\n",
      "           q     0.6818    0.5000    0.5769        30\n",
      "           r     0.9369    0.9104    0.9234       424\n",
      "           s     0.8967    0.9393    0.9175       379\n",
      "       space     0.9780    0.9780    0.9780      1319\n",
      "           t     0.9450    0.9532    0.9491       577\n",
      "           u     0.9370    0.9675    0.9520       246\n",
      "           v     0.9789    0.9789    0.9789        95\n",
      "           w     0.8725    0.8725    0.8725       102\n",
      "           x     0.8261    1.0000    0.9048        19\n",
      "           y     0.9695    0.9845    0.9769       129\n",
      "           z     0.8333    0.6250    0.7143         8\n",
      "\n",
      "    accuracy                         0.9461      8411\n",
      "   macro avg     0.9273    0.9125    0.9182      8411\n",
      "weighted avg     0.9464    0.9461    0.9459      8411\n",
      "\n"
     ]
    }
   ],
   "source": [
    "result,  y_pred, y_true = calculate_metrics(f\"./ckpts/HyperGT_add_data/clf/clf_test_results.csv\")\n",
    "print(classification_report(y_true, y_pred, digits=4))"
   ]
  },
  {
   "cell_type": "markdown",
   "metadata": {},
   "source": [
    "# Stream results"
   ]
  },
  {
   "cell_type": "code",
   "execution_count": null,
   "metadata": {},
   "outputs": [
    {
     "name": "stdout",
     "output_type": "stream",
     "text": [
      "----Video 6----\n",
      "Raw prediction: ydear qpuincy, i hopue your a are doisng wel . is wanted to updateo yrou oure latest projeacat, which his ben ruite the joraurney,. the wori involves series of compex tas s, each sith itas uaniauies chaleleange. our ateam, inkclududing ikenvin and xelda, hs vebien dailidgently jsoring tot aled atheise isueses. recently e faced serverala quiraky sigatueaitionds that regaurd imeiate atetion. thekfulay, e manged to dres them with the help of our ianative ateachiniaues and ataquicks adjmantsl the proaces hs ben quiutite rqiogorusous , ut te e makdng signiacant satries,. ourap projecat is darivena dby dvanced algorithms ad dcuting eige atecihanology. the kety uspecats inacludpe xarayadata analysis , iping throughe extenxisive datasets, andprecise merasuments .lwe have had to anaviagate lthrough tricky scenarios, but weare confidenta jian athe direcation we ared headng. if uou have any que or ned amore details , plese fel fre to reacha out . e availcable fa quick cal if that dwould be more convenitent. you r edbvback and insitaights are heighaly valed and wil help us eansure the jprojecat mets al expedtiations. thank you fo your acontianue suport l a uderastanding. we lop oforwsard to shareing more upates ith you soans. best egardsm, jacka q,. izizmer.\n",
      "Corrected:  dear quincy, i hope you are doing well. i wanted to update you on our latest project, which has been quite the journey. the work involves a series of complex tasks, each with its unique challenges. our team, including kevin and zelda, has been diligently addressing these issues. recently, we faced several quirky situations that required immediate attention. thankfully, we managed to address them with the help of our innovative techniques and quick adjustments. the process has been quite rigorous, but we are making significant strides. our project is driven by advanced algorithms and cuttingedge technology. key aspects include xray data analysis, sifting through extensive datasets, and precise measurements. weve had to navigate through tricky scenarios, but we are confident in the direction we are heading. if you have any questions or need more details, please feel free to reach out. im available for a quick call if that would be more convenient. your feedback and insights are highly valued and will help ensure the project meets all expectations. thank you for your continued support and understanding. we look forward to sharing more updates with you soon. best regards, jack q. izizmer.\n",
      "Ground truth:  dear quincy, i hope you are doing well. i wanted to update you our latest project, which has been quite the journey. the work involves a series of complex tasks, each with its uniques challenges. our team, including kevin and zelda, has been diligently working to tackle these issues. recently we faced several quirky situations that required immediate attention. thankfully, we managed to address them with the help of our innovative techniques and quick adjustments. the process has been quite rigorous, but we are making significant strides. our project is driven by advanced algorithms and cutting edge technology. the key aspects include xray data analysis, zipping through extensive datasets, and precise measurments. we have had to navigate through tricky scenarios, but we are confident in the direction we are heading. if you have any questions or need more details, please feel free to reach out. we are available for a quick call if that would be more convenient. your feedback and insights are highly valued and will help us ensure the project meets all expectiations. thank you for your continued support and undertanding. we look forward to sharing more updates with you soon. best regards, jack q. zimmer.\n"
     ]
    },
    {
     "name": "stderr",
     "output_type": "stream",
     "text": [
      "/Users/haily/Documents/GitHub/Research Learning/utils/realtime_util.py:81: UserWarning: Boolean Series key will be reindexed to match DataFrame index.\n",
      "  chars = result[result['Active Prob'] > active_thres][result['Key Prob'] > key_thres]['Key prediction'].to_list()\n"
     ]
    },
    {
     "name": "stdout",
     "output_type": "stream",
     "text": [
      "Edit distance similarity: 0.9622950819672131\n",
      "Word error rate: 0.09595959595959595\n",
      "----Video 7----\n",
      "Raw prediction: der teama, i hop you al fhad ap antastica ime , odopur rercant dtemplroye apreciaton ent . i tg s tuly a palease to e everyone come tgether ad enhoy the feststivit. yoyour enhism and poaitive evnery made the event a resouanding sucs. we swanted to taie a ment tao texatend our hertfeit grdtifuatude to each ofyourd wor d dedicaton. eaventp s ikethese are a maol ton of sprecaintion for the iancedicvled efort you put into y our roeldes every datayl. s we omovie foraward , lets cary oforward this spirit of acama raderies adtem am wori. you ra ontnriutions are invaluatibogle to our comanpany suces., and we lo folrawarad to achieiveing even graeatera omiltrones s tgether. oancae gain, thank you fo beigng an iantegral paredt eof tour team. heraes to uontinueue suces ad manhy mor lmemeorable momens hed. abest regarads , keaty\n",
      "Corrected:  dear team, i hope you all had a fantastic time at our recent employee appreciation event. it was truly a pleasure to see everyone come together and enjoy the festivities. your enthusiasm and positive energy made the event a resounding success. we wanted to take a moment to extend our heartfelt gratitude for your hard work and dedication. events like these are a small token of appreciation for the incredible effort you put into your roles every day. as we move forward, lets carry this spirit of camaraderie and teamwork. your contributions are invaluable to our companys success, and we look forward to achieving even greater milestones together. once again, thank you for being an integral part of our team. heres to continued success and many more memorable moments ahead. best regards, keaty.\n",
      "Ground truth:  dear team, i hope you all had a fantastic time, our recent employee appreciation event. it was truly a pleasure to see everyone come together and enjoy the festivities. your enthusiasm and positive enery made the event a resounding success. we wanted to take a moment to extend our heartfelt gratitude to each of your hard work and dedication. events like these are a small token of appreciation for the incredible effort you put into your roles every day. as we move forward, lets carry forward this spirit of camaraderies and teamwork. your contributions are invaluable to our company success, and we look forward to achieveing even greater milestones together. once again, thank you for being an integral part of our team. heres to continue success and many more memorable moments ahead. best regards, katty\n"
     ]
    },
    {
     "name": "stderr",
     "output_type": "stream",
     "text": [
      "/Users/haily/Documents/GitHub/Research Learning/utils/realtime_util.py:81: UserWarning: Boolean Series key will be reindexed to match DataFrame index.\n",
      "  chars = result[result['Active Prob'] > active_thres][result['Key Prob'] > key_thres]['Key prediction'].to_list()\n"
     ]
    },
    {
     "name": "stdout",
     "output_type": "stream",
     "text": [
      "Edit distance similarity: 0.9654320987654321\n",
      "Word error rate: 0.08888888888888889\n",
      "----Video 19----\n",
      "Raw prediction: helo jouhan, thak you fora shoping pat oqur s webasite. sthe we quarante yoyour satis faction wi th our higha qlity prjucats ad customerf suport. wince your expertiesae with the ordier did ianot alive up to quour ahigha tandeards , we habve isued you a acaereidit jian the amoungt jof a fhuandreada. polese alow thre o five datys for your abank to aply sthis acaredit sto fyour acount . wif you have an wquestions, please viesit acuatomer suporat. thank your agaian for shopifng twsth us a. we lok foraward to serving you in the future. sinacaeraely a\n",
      "Corrected:  hello jouhan, thank you for shopping at our website. we guarantee your satisfaction with our highquality products and customer support. since your experience with the order did not live up to our high standards, we have issued you a credit in the amount of . please allow three to five days for your bank to apply this credit to your account. if you have any questions, please visit customer support. thank you again for shopping with us. we look forward to serving you in the future. sincerely.\n",
      "Ground truth:  hello john, thank you for shopping at our website. we guarantee your satisfaction with our high quality products and customer support. since your expertise with the order did not live up to our high standards, we have issued you a credit in the amount of a hundred. please allow three to five days for your bank to apply this credit to your account. if you have any questions, please visit customer support. thank you again for shopping with us. we look forward to serving you in the future. sincerely\n",
      "Edit distance similarity: 0.9660678642714571\n",
      "Word error rate: 0.07865168539325842\n"
     ]
    },
    {
     "name": "stderr",
     "output_type": "stream",
     "text": [
      "/Users/haily/Documents/GitHub/Research Learning/utils/realtime_util.py:81: UserWarning: Boolean Series key will be reindexed to match DataFrame index.\n",
      "  chars = result[result['Active Prob'] > active_thres][result['Key Prob'] > key_thres]['Key prediction'].to_list()\n"
     ]
    },
    {
     "name": "stdout",
     "output_type": "stream",
     "text": [
      "----Video 20----\n",
      "Raw prediction: sels, i pthinak s i suhoulrd agive syou a lte abacagrouand ioan smal ventrure. bil jperfakinas sand fi have a strong jperfwonal and profesional areatiofnsip. her is an extremey arateative individual. whley atualy comated ofn him adtodyay as someone who thinks outside jthe box. biol actuarlay sate jifn a fbar fur years fand siaid anathe aneaxt atrabdeable mararket wpiould be abandwitdth . he has ben acxixucaesfula ian the gas abunsinesf shean he has had someoner to fpiflter his ideasa. s suahcha she provides an ianfaormal acopnsulting role to earanrorn.he thraofws out aidas and s, evy once i an a while a, he comes uap with a agraea one. he pointed out an anomlsousf pricaing ocxuraeance e in the options market, a market ji anormaly don not folfow aclosely , tha i atanslated ainto ata mauatimilioanafa dolar atrade for eanrona. in return, i have agred to have fenron indatermidrate his trades within reason. i wawant to emphasizae that acontianueing jathis rerlatinfshp shouold be aconsidered a highe piorita. fi am lfwiling ato acicetpt some jof the acrerdit risk f expzosure fas scost of adoing bsines. biol underastands his arolde as an iandeapendaent ian the marakaet and prerforms the right risk rewrad atrades for someaone fwith afinite acapital. i plae veray highe acoanfiacence in bil not aconduacating ahigh frisk trades a. haveing saida thata, awe ceratainly aned to mpoaniator shis cedit expeoaiurere and atcoantinue ato reatauirer aldcdcsa. fjust uanderststand that ahe is at aq adiferent lemvel of ofhphaitiationr athat any other r aon ianvestementa agrader xcounaterparatya. fi uanderastand sthere fwas some aconxcperanea in raeagards to the tranaco zsicx spreada option jhe tradred. he was abasolutely right about athe avaludation and d we, joan traeding dest,k, knes it ias welal. there ar fa couple isolated fpraducats tahat enronr adoes ot do a god jobf of valuing abecuse of syatems limatations. this mpodes crerated by sthe resuearach agarougp. the projblem with these models is that sthey are stricatly theoretical and do notake intopacout agas fuandatamentalr pice litationsa. for aeinstance , fit is les jproababae r , tough not imposiable , for s satransoport stpread foarom a sproaducition aer ato a market arearf to got within varaiable acoxat than sthe models proreideicat. this it wis nanecesaray to aply a acorerlation kne acurve on thtop of the overlying acorereraetion usedr s. obvisoualy , we havae ithis fuancation in our jpricing m models. i wras nt aware this amethodology hd bnot ben datransfered fato dathe valution vmodelras. this has since ben bchangec. fortanaltelry, thiese iencients tend tot be extraemearly rarer f as avery few ranoan ianvestameant grade acompanies trae these tuyprpers of proucats. jinalay , on frideay bil wanted to tdo ta tgitrade athat rediuce sathis exposuare sto renron. i g ave mpske magi the go faqhead jtoe do the trade without faconsulting dacredita. i do not abgelivever thati acted fout of line jifn aroviang dathis trade aconsdidering the ciracumstances . if yaou abeleiever adiferently, please adavisea. thaenks s, johna.\n",
      "Corrected:  sels, i think i should give you a little background on a small venture. bill perfakinas and i have a strong personal and professional relationship. he is an extremely creative individual, often recognized as someone who thinks outside the box. bill actually sat in a bar for years and said the next tradable market would be bandwidth. he has been successful in the gas business when hes had someone to filter his ideas. as such, he provides an informal consulting role to enron. he throws out ideas and, every once in a while, comes up with a great one. he pointed out an anomalous pricing occurrence in the options market, a market i dont normally follow closely, which translated into a multimilliondollar trade for enron. in return, i have agreed to have enron intermediate his trades within reason. i want to emphasize that continuing this relationship should be considered a high priority. im willing to accept some of the credit risk exposure as a cost of doing business. bill understands his role as an independent in the market and performs the right riskreward trades for someone with finite capital. i place very high confidence in bill not conducting highrisk trades. that said, we certainly need to monitor his credit exposure and continue to require ldcs. just understand that he is at a different level of sophistication than any other investmentgrade counterpart. i understand there was some concern regarding the transactions spread option he traded. he was absolutely right about the valuation, and we, on the trading desk, knew it as well. there are a couple of isolated products that enron does not do a good job of valuing because of systems limitations. these models were created by the research group. the problem with these models is that they are strictly theoretical and do not take into account gas fundamental price limitations. for instance, it is less probable, though not impossible, for a transport spread from a production area to a market area to go within variable account than the models predict. this is why it was necessary to apply a correlation curve on top of the underlying correlation used. obviously, we have this function in our pricing models. i wasnt aware this methodology hadnt been transferred to the valuation models. this has since been changed. fortunately, these incidents tend to be extremely rare, as very few noninvestmentgrade companies trade these types of products. finally, on friday, bill wanted to do a trade that reduced his exposure to enron. i gave mike the goahead to do the trade without consulting credit. i dont believe i acted out of line in approving this trade considering the circumstances. if you believe differently, please advise. thanks, john.\n",
      "Ground truth:  russell, i think i should give you a little background on small ventures. bill perkins and i have a strong personal and professional relationship. he is an extremely creative individual. whalley actually commented on him today as someone who thinks outside the box. bill actually sat in a bar four years and said the next tradeable market would be bandwidth. he has been successful in the gas business when he has had someone to filter his ideas. as such he provides an informal consulting role to enron. he throws out ideas and, every once in a while, he comes up with a great one. he pointed out an anomalous pricing occurence in the options market, a market i normally do not follow closely, that i translated into a multimillion dollar trade for enron. in return, i have agreed to have enron intermidate his trades within reason. i want to emphasize that continuing this relationship should be considered a high priority. i am willing to accept some of the credit risk exposure as a cost of doing business. bill understands his role as an independent in the market and performs the right risk reward trades for someone with finite capital. i place very high confidence in bill not conducting high risk trades. having said that, we certainly need to monitor his credit exposure and continue to require lcs. just understand that he is at a different level of sophistication that any other non investment grade counterparty. i understand there was some concern in regards to the transco zsix spread option he traded. he was absolutely right about the valuation and we, on trading desk, knew it as well. there are a couple isolated products that enron does not do a good job of valuing because of systems limitations. this models created by the research group. the problem with these models is that they are strictly theoretical and do not take into account gas fundamental price limitations. for intance, it is less probable, though not impossible, for a transport spread from a production area to a market area to go within variable cost than the models predict. this it is necessary to apply a correlation skew curve on top of the overlying correlation used. obviously, we have this function in our pricing models. i was not aware this methodology had not been transfered to the valuation models. this has since been changed. fortunately, these incidents tend to be extremely rare as very few noninvestment grade companies trade these types of products. finally, on friday bill wanted to do a trade that reduce his exposure to enron. i gave mike maggi the go ahead to do the trade without consulting credit. i do not believe that i acted out of line in approving this trade considering the circumstances. if you believe differently, please advise. thanks, john.\n"
     ]
    },
    {
     "name": "stderr",
     "output_type": "stream",
     "text": [
      "/Users/haily/Documents/GitHub/Research Learning/utils/realtime_util.py:81: UserWarning: Boolean Series key will be reindexed to match DataFrame index.\n",
      "  chars = result[result['Active Prob'] > active_thres][result['Key Prob'] > key_thres]['Key prediction'].to_list()\n"
     ]
    },
    {
     "name": "stdout",
     "output_type": "stream",
     "text": [
      "Edit distance similarity: 0.9388567293777135\n",
      "Word error rate: 0.15644820295983086\n",
      "----Video 27----\n",
      "Raw prediction: der em, hop you al had a fanstatastica ime t our reacent empalyropareacatiaoaeavent. it was trayly a pleaure ato se aeveryoane come together and enjoy theafestvities . youre eaenthkhiama paitivfve seanergy made the event sa resuounding uces s. we wte tke a ameoment ato exteneaend our hearatfelt gradstifstude ato each ofyour hard wr and dedcatatio. eaveant lise sthese are a asamlalr atien apeaciatation for the ncediable erfort syus put into your role every dy. ewas we move foraward s, lets cary forawaeds athis piarita o camaradaere and teamaear. syour coantaibiona s are invaluale ato our companay aucaes , wand we oks forwrd to achieviang eavean greaer pjleatoes stogether. once gin , thanak yaoua o r beian an aianegrel pat orw f or team. here s to aconteinues sces and amayny amore jmemos ahahead. bes t refe\n",
      "Corrected:  dear team, i hope you all had a fantastic time at our recent employee appreciation event. it was truly a pleasure to see everyone come together and enjoy the festivities. your enthusiasm and positive energy made the event a resounding success. we wanted to take a moment to extend our heartfelt gratitude for your hard work and dedication. events like these are a small token of appreciation for the incredible effort you put into your roles every day. as we move forward, lets carry forward this spirit of camaraderie and teamwork. your contributions are invaluable to our companys success, and we look forward to achieving even greater milestones together. once again, thank you for being an integral part of our team. heres to continued success and many more memorable moments ahead. best regards.\n",
      "Ground truth:  dear team, i hope you all had a fantastic time at our recent employee appreciation event. it was truly a pleasure to see everyone come together and enjoy the festivities. your enthusiasm and positive energy made the event a resounding success. we wanted to take a moment to extend our heartfelt gratitude to each of your hard work and dedication. events like these are a small token appreciation for the incredible effort you put into your role everyday. as we move forward, lets carry forward this spirit of camaraderie and teamwork. your contributions are invaluable to our company success, and we look forward to achieving even greater milestones together. once again, thank you for begin an integral part of our team. heres to continue success and many more memorable moments ahead. best regards, katty\n"
     ]
    },
    {
     "name": "stderr",
     "output_type": "stream",
     "text": [
      "/Users/haily/Documents/GitHub/Research Learning/utils/realtime_util.py:81: UserWarning: Boolean Series key will be reindexed to match DataFrame index.\n",
      "  chars = result[result['Active Prob'] > active_thres][result['Key Prob'] > key_thres]['Key prediction'].to_list()\n"
     ]
    },
    {
     "name": "stdout",
     "output_type": "stream",
     "text": [
      "Edit distance similarity: 0.9689826302729528\n",
      "Word error rate: 0.08955223880597014\n",
      "----Video 28----\n",
      "Raw prediction: dear puickancy , is hopeyous ae doig wel . i wanted ato update you on jouer latestproject, whicha hs ben quitethe jpouaney. the work ivoave serie of acojplex , exch with its uniuea chalenges our tem, includinang kenviana aned aelda, has bven ligently woring to tacialethese isue . krecaently, we faced sweaveral quiry ituations tahat reuiresed imedite ention. thankfuly, e managed to adrew them with the helro our jinovatve techanisques and uicka ustment s. te proces has ben jwuie erigoru, but se ae jmaking ianganificant staides . our projecat is dvean by davacaed goithams an cuting edage echnoglgy e. the key pedctsw ncude xaeray data analyis , xzpaiang though extensive datet, and precise measuremnkent . we have hadto naviagte thigughe ticly scenrios , but e re acoanisdnent ina the direciowe adin. jif you have any question or mned more detaisls please fel fe sato each out.a we ae vaialable for a quick acxl i athat would be more acanenient. yourar fed backa and nstgights are hiaghly valued and wil helrp us ensyure athe roec met al eaxzpecatainasa. tahank you oryour acoanatened wsupaort and uanderstandgs. os forwd ato shariang more supdateas withe yous son. best reauagareds , jack a. zmer\n",
      "Corrected:  dear quincy, i hope you are doing well. i wanted to update you on our latest project, which has been quite the journey. the work involves a series of complex tasks, each with its unique challenges. our team, including kevin and zelda, has been diligently working to tackle these issues. recently, we faced several quirky situations that required immediate attention. thankfully, we managed to address them with the help of our innovative techniques and quick adjustments. the process has been quite rigorous, but we are making significant strides. our project is driven by advanced algorithms and cuttingedge technology. key aspects include xray data analysis, sifting through extensive datasets, and precise measurements. weve had to navigate tricky scenarios, but we are confident in the direction we are heading. if you have any questions or need more details, please feel free to reach out. we are available for a quick call if that would be more convenient. your feedback and insights are highly valued and will help us ensure the project meets all expectations. thank you for your continued support and understanding. we look forward to sharing more updates with you soon. best regards, jack a. zmer.\n",
      "Ground truth:  dear quincy, i hope you are doing well. i wanted to update you on our latest project, which has been quite the journey. the work involves a series of complex tasks, each with its unique challenges. our team, including kevin and zelda, has been diligently working to tackle these issues. recently, we faced several quirky situations that required immediate attention. thankfully, we managed to address them with the help of our innovative techniques and quick adjustments. the process has been quite rigorous, but we are making significant strides. our project is driven by advanced algorithms and cutting edge technology. the key aspects include xray data analysis, zipping through extensive datasets, and precise measurements. we have had to navigate through tricky scenarios, but we are confident in the direction we are heading. if you have any questions or need more details, please feel free to reach out. we are available for a quick call if that would be more convenient. your feedback and insights are highly valued and will help us ensure the project meets all expectations. thank you for your continued support and understanding. we look forward to sharing more updates with you soon. best regards, jack q. zimmer\n"
     ]
    },
    {
     "name": "stderr",
     "output_type": "stream",
     "text": [
      "/Users/haily/Documents/GitHub/Research Learning/utils/realtime_util.py:81: UserWarning: Boolean Series key will be reindexed to match DataFrame index.\n",
      "  chars = result[result['Active Prob'] > active_thres][result['Key Prob'] > key_thres]['Key prediction'].to_list()\n"
     ]
    },
    {
     "name": "stdout",
     "output_type": "stream",
     "text": [
      "Edit distance similarity: 0.9811937857726901\n",
      "Word error rate: 0.04522613065326633\n",
      "===============================\n",
      "Avg Edit distance similarity: 0.9638\n",
      "Avg Word error rate: 0.0925\n"
     ]
    }
   ],
   "source": [
    "# Top view HyperGT more data prediction\n",
    "# Correct text using gpt chat: https://chatgpt.com/share/66fd728d-346c-8012-accd-f90fa5851b69\n",
    "from utils.realtime_util import process_prediction, evaluate, remove_consecutive_letters\n",
    "avg_eds = 0\n",
    "avg_wer = 0\n",
    "\n",
    "print(\"----Video 6----\")\n",
    "pred_6 = process_prediction('ckpts/HyperGT_add_data/stream_results/6.csv', active_thres=0.5, key_thres=0.9)\n",
    "pred_6 = remove_consecutive_letters(pred_6)\n",
    "print(\"Raw prediction:\", pred_6)\n",
    "corrected_6 = \"Dear Quincy, I hope you are doing well. I wanted to update you on our latest project, which has been quite the journey. The work involves a series of complex tasks, each with its unique challenges. Our team, including Kevin and Zelda, has been diligently addressing these issues. Recently, we faced several quirky situations that required immediate attention. Thankfully, we managed to address them with the help of our innovative techniques and quick adjustments. The process has been quite rigorous, but we are making significant strides. Our project is driven by advanced algorithms and cutting-edge technology. Key aspects include X-ray data analysis, sifting through extensive datasets, and precise measurements. We’ve had to navigate through tricky scenarios, but we are confident in the direction we are heading. If you have any questions or need more details, please feel free to reach out. I’m available for a quick call if that would be more convenient. Your feedback and insights are highly valued and will help ensure the project meets all expectations. Thank you for your continued support and understanding. We look forward to sharing more updates with you soon. Best regards, Jack Q. Izizmer.\"\n",
    "gt_6 = \"dear quincy, i hope you are doing well. i wanted to update you our latest project, which has been quite the journey. the work involves a series of complex tasks, each with its uniques challenges. our team, including kevin and zelda, has been diligently working to tackle these issues. recently we faced several quirky situations that required immediate attention. thankfully, we managed to address them with the help of our innovative techniques and quick adjustments. the process has been quite rigorous, but we are making significant strides. our project is driven by advanced algorithms and cutting edge technology. the key aspects include xray data analysis, zipping through extensive datasets, and precise measurments. we have had to navigate through tricky scenarios, but we are confident in the direction we are heading. if you have any questions or need more details, please feel free to reach out. we are available for a quick call if that would be more convenient. your feedback and insights are highly valued and will help us ensure the project meets all expectiations. thank you for your continued support and undertanding. we look forward to sharing more updates with you soon. best regards, jack q. zimmer.\"\n",
    "ed, we = evaluate(corrected_6, gt_6)\n",
    "avg_eds += ed\n",
    "avg_wer += we\n",
    "\n",
    "\n",
    "print(\"----Video 7----\")\n",
    "pred_7 = process_prediction('ckpts/HyperGT_add_data/stream_results/7.csv', active_thres=0.5, key_thres=0.9)\n",
    "pred_7 = remove_consecutive_letters(pred_7)\n",
    "print(\"Raw prediction:\", pred_7)\n",
    "gt_7 = \"dear team, i hope you all had a fantastic time, our recent employee appreciation event. it was truly a pleasure to see everyone come together and enjoy the festivities. your enthusiasm and positive enery made the event a resounding success. we wanted to take a moment to extend our heartfelt gratitude to each of your hard work and dedication. events like these are a small token of appreciation for the incredible effort you put into your roles every day. as we move forward, lets carry forward this spirit of camaraderies and teamwork. your contributions are invaluable to our company success, and we look forward to achieveing even greater milestones together. once again, thank you for being an integral part of our team. heres to continue success and many more memorable moments ahead. best regards, katty\"\n",
    "corrected_7 = \"Dear team, I hope you all had a fantastic time at our recent employee appreciation event. It was truly a pleasure to see everyone come together and enjoy the festivities. Your enthusiasm and positive energy made the event a resounding success. We wanted to take a moment to extend our heartfelt gratitude for your hard work and dedication. Events like these are a small token of appreciation for the incredible effort you put into your roles every day. As we move forward, let’s carry this spirit of camaraderie and teamwork. Your contributions are invaluable to our company’s success, and we look forward to achieving even greater milestones together. Once again, thank you for being an integral part of our team. Here’s to continued success and many more memorable moments ahead. Best regards, Keaty.\"\n",
    "ed, we = evaluate(corrected_7, gt_7)\n",
    "avg_eds += ed\n",
    "avg_wer += we\n",
    "\n",
    "print(\"----Video 19----\")\n",
    "pred_19 = process_prediction('ckpts/HyperGT_add_data/stream_results/19.csv', active_thres=0.5, key_thres=0.9)\n",
    "pred_19 = remove_consecutive_letters(pred_19)\n",
    "print(\"Raw prediction:\", pred_19)\n",
    "corrected_19 = \"Hello Jouhan, thank you for shopping at our website. We guarantee your satisfaction with our high-quality products and customer support. Since your experience with the order did not live up to our high standards, we have issued you a credit in the amount of $100. Please allow three to five days for your bank to apply this credit to your account. If you have any questions, please visit customer support. Thank you again for shopping with us. We look forward to serving you in the future. Sincerely.\"\n",
    "gt_19 = \"hello john, thank you for shopping at our website. we guarantee your satisfaction with our high quality products and customer support. since your expertise with the order did not live up to our high standards, we have issued you a credit in the amount of a hundred. please allow three to five days for your bank to apply this credit to your account. if you have any questions, please visit customer support. thank you again for shopping with us. we look forward to serving you in the future. sincerely\"\n",
    "ed, we = evaluate(corrected_19, gt_19)\n",
    "avg_eds += ed\n",
    "avg_wer += we\n",
    "\n",
    "print(\"----Video 20----\")\n",
    "pred_20 = process_prediction('ckpts/HyperGT_add_data/stream_results/20.csv', active_thres=0.5, key_thres=0.9)\n",
    "pred_20 = remove_consecutive_letters(pred_20)\n",
    "print(\"Raw prediction:\", pred_20)\n",
    "corrected_20 = \"Sels, I think I should give you a little background on a small venture. Bill Perfakinas and I have a strong personal and professional relationship. He is an extremely creative individual, often recognized as someone who thinks outside the box. Bill actually sat in a bar for years and said the next tradable market would be bandwidth. He has been successful in the gas business when he’s had someone to filter his ideas. As such, he provides an informal consulting role to Enron. He throws out ideas and, every once in a while, comes up with a great one. He pointed out an anomalous pricing occurrence in the options market, a market I don’t normally follow closely, which translated into a multimillion-dollar trade for Enron. In return, I have agreed to have Enron intermediate his trades within reason. I want to emphasize that continuing this relationship should be considered a high priority. I’m willing to accept some of the credit risk exposure as a cost of doing business. Bill understands his role as an independent in the market and performs the right risk-reward trades for someone with finite capital. I place very high confidence in Bill not conducting high-risk trades. That said, we certainly need to monitor his credit exposure and continue to require LDCs. Just understand that he is at a different level of sophistication than any other investment-grade counterpart. I understand there was some concern regarding the transaction’s spread option he traded. He was absolutely right about the valuation, and we, on the trading desk, knew it as well. There are a couple of isolated products that Enron does not do a good job of valuing because of systems limitations. These models were created by the research group. The problem with these models is that they are strictly theoretical and do not take into account gas fundamental price limitations. For instance, it is less probable, though not impossible, for a transport spread from a production area to a market area to go within variable account than the models predict. This is why it was necessary to apply a correlation curve on top of the underlying correlation used. Obviously, we have this function in our pricing models. I wasn’t aware this methodology hadn’t been transferred to the valuation models. This has since been changed. Fortunately, these incidents tend to be extremely rare, as very few non-investment-grade companies trade these types of products. Finally, on Friday, Bill wanted to do a trade that reduced his exposure to Enron. I gave Mike the go-ahead to do the trade without consulting credit. I don’t believe I acted out of line in approving this trade considering the circumstances. If you believe differently, please advise. Thanks, John.\"\n",
    "gt_20 = \"russell, i think i should give you a little background on small ventures. bill perkins and i have a strong personal and professional relationship. he is an extremely creative individual. whalley actually commented on him today as someone who thinks outside the box. bill actually sat in a bar four years and said the next tradeable market would be bandwidth. he has been successful in the gas business when he has had someone to filter his ideas. as such he provides an informal consulting role to enron. he throws out ideas and, every once in a while, he comes up with a great one. he pointed out an anomalous pricing occurence in the options market, a market i normally do not follow closely, that i translated into a multimillion dollar trade for enron. in return, i have agreed to have enron intermidate his trades within reason. i want to emphasize that continuing this relationship should be considered a high priority. i am willing to accept some of the credit risk exposure as a cost of doing business. bill understands his role as an independent in the market and performs the right risk reward trades for someone with finite capital. i place very high confidence in bill not conducting high risk trades. having said that, we certainly need to monitor his credit exposure and continue to require lcs. just understand that he is at a different level of sophistication that any other non investment grade counterparty. i understand there was some concern in regards to the transco zsix spread option he traded. he was absolutely right about the valuation and we, on trading desk, knew it as well. there are a couple isolated products that enron does not do a good job of valuing because of systems limitations. this models created by the research group. the problem with these models is that they are strictly theoretical and do not take into account gas fundamental price limitations. for intance, it is less probable, though not impossible, for a transport spread from a production area to a market area to go within variable cost than the models predict. this it is necessary to apply a correlation skew curve on top of the overlying correlation used. obviously, we have this function in our pricing models. i was not aware this methodology had not been transfered to the valuation models. this has since been changed. fortunately, these incidents tend to be extremely rare as very few noninvestment grade companies trade these types of products. finally, on friday bill wanted to do a trade that reduce his exposure to enron. i gave mike maggi the go ahead to do the trade without consulting credit. i do not believe that i acted out of line in approving this trade considering the circumstances. if you believe differently, please advise. thanks, john.\"\n",
    "ed, we = evaluate(corrected_20, gt_20)\n",
    "avg_eds += ed\n",
    "avg_wer += we\n",
    "\n",
    "\n",
    "print(\"----Video 27----\")\n",
    "pred_27 = process_prediction('ckpts/HyperGT_add_data/stream_results/27.csv', active_thres=0.5, key_thres=0.9)\n",
    "pred_27 = remove_consecutive_letters(pred_27)\n",
    "print(\"Raw prediction:\", pred_27)\n",
    "corrected_27 = \"Dear team, I hope you all had a fantastic time at our recent employee appreciation event. It was truly a pleasure to see everyone come together and enjoy the festivities. Your enthusiasm and positive energy made the event a resounding success. We wanted to take a moment to extend our heartfelt gratitude for your hard work and dedication. Events like these are a small token of appreciation for the incredible effort you put into your roles every day. As we move forward, let’s carry forward this spirit of camaraderie and teamwork. Your contributions are invaluable to our company’s success, and we look forward to achieving even greater milestones together. Once again, thank you for being an integral part of our team. Here’s to continued success and many more memorable moments ahead. Best regards.\"\n",
    "gt_27 = \"dear team, i hope you all had a fantastic time at our recent employee appreciation event. it was truly a pleasure to see everyone come together and enjoy the festivities. your enthusiasm and positive energy made the event a resounding success. we wanted to take a moment to extend our heartfelt gratitude to each of your hard work and dedication. events like these are a small token appreciation for the incredible effort you put into your role everyday. as we move forward, lets carry forward this spirit of camaraderie and teamwork. your contributions are invaluable to our company success, and we look forward to achieving even greater milestones together. once again, thank you for begin an integral part of our team. heres to continue success and many more memorable moments ahead. best regards, katty\"\n",
    "ed, we = evaluate(corrected_27, gt_27)\n",
    "avg_eds += ed\n",
    "avg_wer += we\n",
    "\n",
    "print(\"----Video 28----\")\n",
    "pred_28 = process_prediction('ckpts/HyperGT_add_data/stream_results/28.csv', active_thres=0.5, key_thres=0.9)\n",
    "pred_28 = remove_consecutive_letters(pred_28)\n",
    "print(\"Raw prediction:\", pred_28)\n",
    "corrected_28 = \"Dear Quincy, I hope you are doing well. I wanted to update you on our latest project, which has been quite the journey. The work involves a series of complex tasks, each with its unique challenges. Our team, including Kevin and Zelda, has been diligently working to tackle these issues. Recently, we faced several quirky situations that required immediate attention. Thankfully, we managed to address them with the help of our innovative techniques and quick adjustments. The process has been quite rigorous, but we are making significant strides. Our project is driven by advanced algorithms and cutting-edge technology. Key aspects include X-ray data analysis, sifting through extensive datasets, and precise measurements. We’ve had to navigate tricky scenarios, but we are confident in the direction we are heading. If you have any questions or need more details, please feel free to reach out. We are available for a quick call if that would be more convenient. Your feedback and insights are highly valued and will help us ensure the project meets all expectations. Thank you for your continued support and understanding. We look forward to sharing more updates with you soon. Best regards, Jack A. Zmer.\"\n",
    "gt_28 = \"dear quincy, i hope you are doing well. i wanted to update you on our latest project, which has been quite the journey. the work involves a series of complex tasks, each with its unique challenges. our team, including kevin and zelda, has been diligently working to tackle these issues. recently, we faced several quirky situations that required immediate attention. thankfully, we managed to address them with the help of our innovative techniques and quick adjustments. the process has been quite rigorous, but we are making significant strides. our project is driven by advanced algorithms and cutting edge technology. the key aspects include xray data analysis, zipping through extensive datasets, and precise measurements. we have had to navigate through tricky scenarios, but we are confident in the direction we are heading. if you have any questions or need more details, please feel free to reach out. we are available for a quick call if that would be more convenient. your feedback and insights are highly valued and will help us ensure the project meets all expectations. thank you for your continued support and understanding. we look forward to sharing more updates with you soon. best regards, jack q. zimmer\"\n",
    "ed, we = evaluate(corrected_28, gt_28)\n",
    "avg_eds += ed\n",
    "avg_wer += we\n",
    "\n",
    "print(f\"===============================\")\n",
    "print(f\"Avg Edit distance similarity: {avg_eds / 6:.4f}\")\n",
    "print(f\"Avg Word error rate: {avg_wer / 6:.4f}\")"
   ]
  }
 ],
 "metadata": {
  "language_info": {
   "name": "python"
  }
 },
 "nbformat": 4,
 "nbformat_minor": 2
}
