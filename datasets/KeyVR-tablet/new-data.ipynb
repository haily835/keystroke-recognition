{
 "cells": [
  {
   "cell_type": "code",
   "execution_count": null,
   "metadata": {},
   "outputs": [
    {
     "name": "stdout",
     "output_type": "stream",
     "text": [
      "30.0\n",
      "30.0\n",
      "30.0\n",
      "30.0\n",
      "30.0\n",
      "30.0\n",
      "30.0\n",
      "30.0\n",
      "30.0\n",
      "30.0\n",
      "30.0\n",
      "30.0\n",
      "30.0\n",
      "30.0\n",
      "30.0\n",
      "30.0\n",
      "30.0\n",
      "30.0\n",
      "30.0\n",
      "30.0\n",
      "30.0\n"
     ]
    }
   ],
   "source": [
    "import cv2\n",
    "import pandas as pd\n",
    "import os\n",
    "\n",
    "def extract_frames(video_path, csv_path, timestamp_txt_path):\n",
    "    \"\"\"\n",
    "    Extracts frame numbers from a video based on key press timestamps in a CSV file.\n",
    "\n",
    "    Args:\n",
    "        video_path (str): Path to the video file (e.g., \"recording_1678886400000.mp4\").\n",
    "        csv_path (str): Path to the CSV file containing key press timestamps.\n",
    "        timestamp_txt_path (str): Path to the text file containing the video start timestamp in nanoseconds.\n",
    "\n",
    "    Returns:\n",
    "        pandas.DataFrame: DataFrame with added \"Frame\" column containing frame numbers.\n",
    "    \"\"\"\n",
    "\n",
    "    # 1. Read video start timestamp from the text file\n",
    "    with open(timestamp_txt_path, 'r') as f:\n",
    "        video_start_timestamp_ns = int(f.read())\n",
    "\n",
    "    # 2. Convert nanoseconds to milliseconds\n",
    "    video_start_timestamp_ms = video_start_timestamp_ns / 1000000\n",
    "\n",
    "    # 3. Read CSV file into a pandas DataFrame\n",
    "    df = pd.read_csv(csv_path)\n",
    "\n",
    "    # 4. Open the video using OpenCV\n",
    "    cap = cv2.VideoCapture(video_path)\n",
    "    fps = cap.get(cv2.CAP_PROP_FPS)\n",
    "\n",
    "    # 5. Calculate frame numbers for each key press\n",
    "    df[\"Frame\"] = ((df[\"Time (ms)\"] - video_start_timestamp_ms) / 1000 * fps).astype(int)\n",
    "\n",
    "    # 6. Release the video capture object\n",
    "    cap.release()\n",
    "    df.to_csv(csv_path, index=False) \n",
    "\n",
    "for i in range(0, 21):\n",
    "    extract_frames(f\"videos/video_{i}.mp4\", f\"videos/video_{i}.csv\", f\"videos/video_{i}_info.txt\")"
   ]
  },
  {
   "cell_type": "code",
   "execution_count": null,
   "metadata": {},
   "outputs": [
    {
     "name": "stdout",
     "output_type": "stream",
     "text": [
      "Video cropped and saved to: videos/video_0_480.mp4\n",
      "Video cropped and saved to: videos/video_1_480.mp4\n",
      "Video cropped and saved to: videos/video_2_480.mp4\n",
      "Video cropped and saved to: videos/video_3_480.mp4\n",
      "Video cropped and saved to: videos/video_4_480.mp4\n",
      "Video cropped and saved to: videos/video_5_480.mp4\n",
      "Video cropped and saved to: videos/video_6_480.mp4\n",
      "Video cropped and saved to: videos/video_7_480.mp4\n",
      "Video cropped and saved to: videos/video_8_480.mp4\n",
      "Video cropped and saved to: videos/video_9_480.mp4\n",
      "Video cropped and saved to: videos/video_10_480.mp4\n"
     ]
    },
    {
     "ename": "KeyboardInterrupt",
     "evalue": "",
     "output_type": "error",
     "traceback": [
      "\u001b[0;31m---------------------------------------------------------------------------\u001b[0m",
      "\u001b[0;31mKeyboardInterrupt\u001b[0m                         Traceback (most recent call last)",
      "Cell \u001b[0;32mIn[6], line 49\u001b[0m\n\u001b[1;32m     46\u001b[0m     \u001b[38;5;28mprint\u001b[39m(\u001b[38;5;124mf\u001b[39m\u001b[38;5;124m\"\u001b[39m\u001b[38;5;124mVideo cropped and saved to: \u001b[39m\u001b[38;5;132;01m{\u001b[39;00moutput_video_path\u001b[38;5;132;01m}\u001b[39;00m\u001b[38;5;124m\"\u001b[39m)\n\u001b[1;32m     48\u001b[0m \u001b[38;5;28;01mfor\u001b[39;00m i \u001b[38;5;129;01min\u001b[39;00m \u001b[38;5;28mrange\u001b[39m(\u001b[38;5;241m0\u001b[39m, \u001b[38;5;241m21\u001b[39m):\n\u001b[0;32m---> 49\u001b[0m     \u001b[43mcrop_video_center\u001b[49m\u001b[43m(\u001b[49m\u001b[38;5;124;43mf\u001b[39;49m\u001b[38;5;124;43m\"\u001b[39;49m\u001b[38;5;124;43mvideos/video_\u001b[39;49m\u001b[38;5;132;43;01m{\u001b[39;49;00m\u001b[43mi\u001b[49m\u001b[38;5;132;43;01m}\u001b[39;49;00m\u001b[38;5;124;43m.mp4\u001b[39;49m\u001b[38;5;124;43m\"\u001b[39;49m\u001b[43m,\u001b[49m\u001b[43m \u001b[49m\u001b[38;5;124;43mf\u001b[39;49m\u001b[38;5;124;43m\"\u001b[39;49m\u001b[38;5;124;43mvideos/video_\u001b[39;49m\u001b[38;5;132;43;01m{\u001b[39;49;00m\u001b[43mi\u001b[49m\u001b[38;5;132;43;01m}\u001b[39;49;00m\u001b[38;5;124;43m_480.mp4\u001b[39;49m\u001b[38;5;124;43m\"\u001b[39;49m\u001b[43m)\u001b[49m\n",
      "Cell \u001b[0;32mIn[6], line 32\u001b[0m, in \u001b[0;36mcrop_video_center\u001b[0;34m(input_video_path, output_video_path)\u001b[0m\n\u001b[1;32m     30\u001b[0m \u001b[38;5;66;03m# Process video frames\u001b[39;00m\n\u001b[1;32m     31\u001b[0m \u001b[38;5;28;01mwhile\u001b[39;00m cap\u001b[38;5;241m.\u001b[39misOpened():\n\u001b[0;32m---> 32\u001b[0m     ret, frame \u001b[38;5;241m=\u001b[39m \u001b[43mcap\u001b[49m\u001b[38;5;241;43m.\u001b[39;49m\u001b[43mread\u001b[49m\u001b[43m(\u001b[49m\u001b[43m)\u001b[49m\n\u001b[1;32m     33\u001b[0m     \u001b[38;5;28;01mif\u001b[39;00m \u001b[38;5;129;01mnot\u001b[39;00m ret:\n\u001b[1;32m     34\u001b[0m         \u001b[38;5;28;01mbreak\u001b[39;00m\n",
      "\u001b[0;31mKeyboardInterrupt\u001b[0m: "
     ]
    }
   ],
   "source": [
    "import cv2\n",
    "\n",
    "def crop_video_center(input_video_path, output_video_path):\n",
    "    \"\"\"\n",
    "    Crops a video to a height of 480, centered, from an original height of 640.\n",
    "\n",
    "    Args:\n",
    "        input_video_path (str): Path to the input video file.\n",
    "        output_video_path (str): Path to save the cropped video file.\n",
    "    \"\"\"\n",
    "\n",
    "    # Open the input video\n",
    "    cap = cv2.VideoCapture(input_video_path)\n",
    "\n",
    "    # Get video properties\n",
    "    width = int(cap.get(cv2.CAP_PROP_FRAME_WIDTH))\n",
    "    height = int(cap.get(cv2.CAP_PROP_FRAME_HEIGHT))\n",
    "    fps = cap.get(cv2.CAP_PROP_FPS)\n",
    "\n",
    "    # Calculate cropping parameters\n",
    "    crop_height = 480\n",
    "    crop_width = width  # Maintain original width\n",
    "    y_start = (height - crop_height) // 2\n",
    "    x_start = 0  # No cropping in width\n",
    "    \n",
    "    # Create VideoWriter object for the output video\n",
    "    fourcc = cv2.VideoWriter_fourcc(*'mp4v')  # Use appropriate codec\n",
    "    out = cv2.VideoWriter(output_video_path, fourcc, fps, (crop_width, crop_height))\n",
    "\n",
    "    # Process video frames\n",
    "    while cap.isOpened():\n",
    "        ret, frame = cap.read()\n",
    "        if not ret:\n",
    "            break\n",
    "\n",
    "        # Crop the frame\n",
    "        cropped_frame = frame[y_start:y_start + crop_height, x_start:x_start + crop_width]\n",
    "        \n",
    "        # Write the cropped frame to the output video\n",
    "        out.write(cropped_frame)\n",
    "\n",
    "    # Release resources\n",
    "    cap.release()\n",
    "    out.release()\n",
    "\n",
    "    print(f\"Video cropped and saved to: {output_video_path}\")\n",
    "\n",
    "for i in range(0, 21):\n",
    "    crop_video_center(f\"videos/video_{i}.mp4\", f\"videos/cropped/video_{i}.mp4\")"
   ]
  }
 ],
 "metadata": {
  "kernelspec": {
   "display_name": "Python 3",
   "language": "python",
   "name": "python3"
  },
  "language_info": {
   "codemirror_mode": {
    "name": "ipython",
    "version": 3
   },
   "file_extension": ".py",
   "mimetype": "text/x-python",
   "name": "python",
   "nbconvert_exporter": "python",
   "pygments_lexer": "ipython3",
   "version": "3.10.4"
  }
 },
 "nbformat": 4,
 "nbformat_minor": 2
}
