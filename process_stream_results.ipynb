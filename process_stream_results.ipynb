{
 "cells": [
  {
   "cell_type": "code",
   "execution_count": 53,
   "metadata": {},
   "outputs": [],
   "source": [
    "import pandas as pd\n",
    "import re\n",
    "\n",
    "from configs.api_keys import OPEN_AI\n",
    "\n",
    "# metrics \n",
    "def edit_distance_similarity(str1, str2):\n",
    "    m, n = len(str1), len(str2)\n",
    "    dp = [[0] * (n + 1) for _ in range(m + 1)]\n",
    "\n",
    "    for i in range(m + 1):\n",
    "        for j in range(n + 1):\n",
    "            if i == 0:\n",
    "                dp[i][j] = j  # If str1 is empty, insert all characters of str2\n",
    "            elif j == 0:\n",
    "                dp[i][j] = i  # If str2 is empty, remove all characters of str1\n",
    "            elif str1[i - 1] == str2[j - 1]:\n",
    "                dp[i][j] = dp[i - 1][j - 1]  # If last characters are the same, ignore them\n",
    "            else:\n",
    "                dp[i][j] = 1 + min(dp[i][j - 1],  # Insert\n",
    "                                   dp[i - 1][j],  # Remove\n",
    "                                   dp[i - 1][j - 1])  # Replace\n",
    "\n",
    "    edit_dist = dp[m][n]\n",
    "    max_len = max(m, n)\n",
    "    similarity = 1 - (edit_dist / max_len)\n",
    "\n",
    "    return similarity\n",
    "\n",
    "def edit_distance(str1, str2):\n",
    "    m, n = len(str1), len(str2)\n",
    "    dp = [[0] * (n + 1) for _ in range(m + 1)]\n",
    "\n",
    "    for i in range(m + 1):\n",
    "        for j in range(n + 1):\n",
    "            if i == 0:\n",
    "                dp[i][j] = j  # If str1 is empty, insert all characters of str2\n",
    "            elif j == 0:\n",
    "                dp[i][j] = i  # If str2 is empty, remove all characters of str1\n",
    "            elif str1[i - 1] == str2[j - 1]:\n",
    "                dp[i][j] = dp[i - 1][j - 1]  # If last characters are the same, ignore them\n",
    "            else:\n",
    "                dp[i][j] = 1 + min(dp[i][j - 1],  # Insert\n",
    "                                   dp[i - 1][j],  # Remove\n",
    "                                   dp[i - 1][j - 1])  # Replace\n",
    "    return dp[m][n]\n",
    "\n",
    "def word_error_rate(reference, hypothesis):\n",
    "    reference_words = reference.split()\n",
    "    hypothesis_words = hypothesis.split()\n",
    "    edit_dist = edit_distance(reference_words, hypothesis_words)\n",
    "    return edit_dist / len(reference_words)\n",
    "\n",
    "\n",
    "def character_error_rate(reference, hypothesis):\n",
    "    reference_chars = list(reference)\n",
    "    hypothesis_chars = list(hypothesis)\n",
    "    edit_dist = edit_distance(reference_chars, hypothesis_chars)\n",
    "    return edit_dist / len(reference_chars)\n",
    "\n",
    "def filter_string(input_string):\n",
    "    # Convert to lowercase and remove newlines\n",
    "    input_string = input_string.lower().replace('\\n', ' ')\n",
    "    # Keep only lowercase letters, dots, commas, and spaces\n",
    "    filtered_string = re.sub(r'[^a-z., ]', '', input_string)\n",
    "    return filtered_string\n",
    "\n",
    "def remove_consecutive_letters(s):\n",
    "    if not s:\n",
    "        return s\n",
    "    \n",
    "    result = [s[0]]  # Start with the first character\n",
    "    for char in s[1:]:\n",
    "        if char != result[-1]:  # Only add if it's different from the last character\n",
    "            result.append(char)\n",
    "    \n",
    "    return ''.join(result)\n",
    "\n",
    "def process_prediction(csv_file):\n",
    "    clf_result = pd.read_csv(csv_file)\n",
    "    chars = clf_result[clf_result['Prob'] > 0.8][]['Key prediction'].to_list()\n",
    "    # chars = clf_result['Key prediction'].to_list()\n",
    "    processed = []\n",
    "\n",
    "    i = 0\n",
    "    while i < len(chars):\n",
    "        char = chars[i]\n",
    "        if char == 'dot':\n",
    "            processed.append('.')\n",
    "        elif char == 'comma': \n",
    "            processed.append(',')\n",
    "        elif char == 'space':\n",
    "            processed.append(' ')\n",
    "        elif char == 'delete':\n",
    "            if len(processed):\n",
    "                processed.pop()\n",
    "        else:\n",
    "            processed.append(char)\n",
    "   \n",
    "        i += 1\n",
    "    \n",
    "    # prediction = filter_string(''.join(processed))\n",
    "    # prediction = remove_consecutive_letters(prediction)\n",
    "    return ''.join(processed)\n",
    "\n",
    "def evaluate(prediction, gt):\n",
    "    prediction = filter_string(prediction)\n",
    "    print(prediction)\n",
    "    print(edit_distance_similarity(prediction, gt))\n",
    "    print(word_error_rate(gt, prediction))\n",
    "\n",
    "    return edit_distance_similarity(prediction, gt), word_error_rate(gt, prediction)\n",
    "    \n",
    "from openai import OpenAI\n",
    "def fix_text(text):\n",
    "    client = OpenAI(\n",
    "        api_key=OPEN_AI\n",
    "    )\n",
    "    completion = client.chat.completions.create(\n",
    "        model=\"gpt-4o-mini\",\n",
    "        seed=0,\n",
    "        messages=[\n",
    "            {\"role\": \"user\", \"content\": f\"Please correct this text, reply in one line:\\n {text}. \"}\n",
    "        ]\n",
    "    )\n",
    "\n",
    "    m = completion.choices[0].message.content\n",
    "    print(m)\n",
    "    return filter_string(m)\n"
   ]
  },
  {
   "cell_type": "code",
   "execution_count": 54,
   "metadata": {},
   "outputs": [
    {
     "data": {
      "text/plain": [
       "'ps dddderrrra eaam,,,   i   aolp ayyyu  llll aada  faaadtsssttc  iiis,  r rreeettt teeeepllllqueeeee  ee apppppoeeecciiaaatiioo vvnttt ll    ttt sssssss  tttuullyy  alluuee tttoo   eeeeee eevvvayoooneee ccooomee tttthheer   adddh  tthee aetsstt  ttttteeess   .ypuurrr  eeetttsssssssmmm aadd   ppooiiiiiivvve eeaaneeyyyeomaaadddee theeeeevveettaa redsssounddddgg  uuccccs..   e saanteeeddttt aakk a   moofeett tttttol  ttttttenddd  oouuu eeetrreelleatddeeto eecchh   offyyud wworrke dd ddeeddiiccatttoon ...  eeeeeenntt   ss   iikkeee ttthheeesssee  are   aall  tttooeen ff  apreeeeccciieaaattiioon  ffrr theee ancceedddllee effffyyyuu uuuuttt  liinotttoo  yuurrreeeleeess eeevverrydday. ss wwwee   oovee   oorwaarr,,,  es ccaaarrrqyy  ffforrwrrrdd   tthhhss pppiirriaaiittt   ll ccam aadereeee aaaddddtteemaaamm   wrr   yuuarr  oontriibbuuutoon s  r   inaallllluataleee atto  ouurr   cccooommapppaanny ucccccae,,   ndddd wwee   lool  ffawaaredd   ttt  ccchhieeesig  eeeeeenn  rrretre ommifleestonneesssss  eettthhe..    oonccche aa,  taannkaa  yu   olr bbeeeigggggg an dateeraaal ppaaet   oof  ou ea..   heraaaeees atooo oonttiiueuuuee ssucccccessss aanndd  mmayy   porr meemmeeeorrabbbeeee ooomenes   hauheeeddd..  bestt  rreegaaardds ,,,   kkaaattty'"
      ]
     },
     "execution_count": 54,
     "metadata": {},
     "output_type": "execute_result"
    }
   ],
   "source": [
    "prediction = process_prediction(f'stream_results/7_clf.csv')\n",
    "prediction"
   ]
  },
  {
   "cell_type": "code",
   "execution_count": 56,
   "metadata": {},
   "outputs": [
    {
     "name": "stdout",
     "output_type": "stream",
     "text": [
      "dear team, i would like to express my appreciation for the outstanding teamwork displayed in all the tasks weve accomplished. your efforts have made a significant impact and have certainly contributed to our success. i look forward to continuing this journey together. best regards, katy.\n",
      "0.2666666666666667\n",
      "0.8740740740740741\n"
     ]
    },
    {
     "data": {
      "text/plain": [
       "(0.2666666666666667, 0.8740740740740741)"
      ]
     },
     "execution_count": 56,
     "metadata": {},
     "output_type": "execute_result"
    }
   ],
   "source": [
    "pred = 'dear team, i would like to express my appreciation for the outstanding teamwork displayed in all the tasks weve accomplished. your efforts have made a significant impact and have certainly contributed to our success. i look forward to continuing this journey together. best regards, katy.'\n",
    "gt = 'dear team, i hope you all had a fantastic time, our recent employee appreciation event. it was truly a pleasure to see everyone come together and enjoy the festivities. your enthusiasm and positive enery made the event a resounding success. we wanted to take a moment to extend our heartfelt gratitude to each of your hard work and dedication. events like these are a small token of appreciation for the incredible effort you put into your roles every day. as we move forward, lets carry forward this spirit of camaraderies and teamwork. your contributions are invaluable to our company success, and we look forward to achieveing even greater milestones together. once again, thank you for being an integral part of our team. heres to continue success and many more memorable moments ahead. best regards, katty'\n",
    "evaluate(pred, gt)\n"
   ]
  },
  {
   "cell_type": "code",
   "execution_count": 29,
   "metadata": {},
   "outputs": [
    {
     "name": "stdout",
     "output_type": "stream",
     "text": [
      "ai ofdaera teame, i hope tyo aolo k aed a ikanatarastica it, o o ue poreicint stenfploratye e iaporeiciationcka e vent . is tit sas s trauly a ods ple aswe tuhe to ae i envaeryone colme together a aod jena py lsthe r aktestsasti vs ats. o y yo our keaentuhahpuaiswsm kasnd porseitivfe flsaeivniety a ma de ke theivent saka resopauansainga ucaesf ps. we swant skseda to take ksa jma amovamet s s sto teuxstene opre here fkataerote fgtrertistude sto aehch of youre ed work s asd dae dicaiton s. e fente s ike k these aetre a s maoa toene oaf aproecieartione f aro the k ai nchae diai cbvloe earfort ayou pt lkienotato y or so araoldes ae vfey dtay . s we amovae oraew ard a, erts ca ry aoaforward this s pirfiaitsa o cama af der e sa ad tema k k am aork . yoyou re ont aiobuation s ae ina olouartiebatole sato eour comaonspapany aucaels. nd awe lok forwared to a chaieves s isn aevaen gtearte r omiola estonsa gtethe is. once gain s, tania you for akngeitnge an santegaraloa parengpt o itour team . eares s ato ontintyeue swaucae s aend mny pey moere aoamemeorabloe omomentsi hahed s. baest re agards , keateyl.a\n"
     ]
    }
   ],
   "source": [
    "for model in ['ctrgcn']:\n",
    "    for f in ['7_clf.csv']:\n",
    "        prediction = process_prediction(f'stream_result/{model}/{f}')\n",
    "        print(prediction)\n",
    "        # fixed = fix_text(prediction)\n",
    "        # video_id = f.split('_')[0]\n",
    "        # edit, wer = evaluate(fixed, f'./datasets/topview/ground_truths/video_{video_id}.txt')\n",
    "        # with open(f'stream_result/{model}/{video_id}_predictions.txt', 'w') as file:\n",
    "        #     file.write(prediction + '\\n')\n",
    "        #     file.write('Corrected: ' + fixed + '\\n')\n",
    "        #     file.write('Edit distance ' + str(edit) + '\\n')\n",
    "        #     file.write('WER ' + str(wer) + '\\n')"
   ]
  },
  {
   "cell_type": "code",
   "execution_count": 148,
   "metadata": {},
   "outputs": [
    {
     "name": "stdout",
     "output_type": "stream",
     "text": [
      "sgod atenon, te boarad ajoafa diarectotres amertitngis hive beaen saschiedules s folowasaed jury fapeiousailolya ldconfirmed ay jublys octobet. the time flof eachfs fmentng dwaile bae amjm to njnon hoawebvesdeuetherljlodsgiasatkial datais swil be anounchaed at a olated date fjharodior atoi ealchi ojetinl. pleaese vetgl alr fre to contetcact ateitherda akethe larneya at , or me jsi you shoylold sahva ny auesto s.,. thank, yo\n"
     ]
    }
   ],
   "source": [
    "prediction = process_prediction(f'hyperformer/0_clf.csv')\n",
    "print(prediction)"
   ]
  },
  {
   "cell_type": "code",
   "execution_count": 167,
   "metadata": {},
   "outputs": [
    {
     "name": "stdout",
     "output_type": "stream",
     "text": [
      " the time of each meeting will be from ten to noon . however, further logistical details will be announced at a later date prior to each meeting. please feel free to contact either sk or lh if you have any questions. thank you. \n",
      "0.8601694915254238\n",
      "0.16279069767441862\n"
     ]
    },
    {
     "data": {
      "text/plain": [
       "(0.8601694915254238, 0.16279069767441862)"
      ]
     },
     "execution_count": 167,
     "metadata": {},
     "output_type": "execute_result"
    }
   ],
   "source": [
    "raw = 'sssss   dddeeer  ttaamaa   iiii   hhoooayooo    lll    h aa   faaatttaaaassssttiicca  ee,   jouu  eeeittt   ssteeplqyyeeeeer   ee  aapeecciiaatton   ettt ...      tttttttt   asssss  sttuuulllyyy   aa   dllleeaassreee    ttto  seee    eeevvyoooee    cccoome  ttttherraa   aadd   eeoooyy    sttthee   eeesstttssstttiiv..  yyyoourr      eeethhhiiissssssammm    aan ootivvee    aaeeyyyyy    saaaammmaaaddee  d  tttheeevveett   saaaa   eeessssoouuddig   aucccsssa...   ee   sswwnntttedddtto ttakk   a    a   mommett   atttoo tttextteend    ooour  heerttteett  gggdddttiiutttuudeee   ttto  eeeh    o  yourr   aaddd  wwwooorrkke     aadd   ddeedddiicciitttoon.   e eetttt    s iiikee    stttessee   a a  samma   tttooeeen    f  aapprreeecciiiiettiioon    foor  ttheee    iiincceedddicbbllee  sssefffart   yyoou tttt   sttttttttoo   yoorrr    eolllddeesss  eeeeeyy  dattyyy    ..   ssss wwe   ovve   forwwaaaddd  ,,   ttss  cccaarryyy   fooraaarrddd ttthhii   sppiiirriiiittt   aa     ccaammmaaa   aaaadeerrrreee  a   aaadd teemm   faamm   r   ..   yyoooouu  rr  oootttiibbuuoossss   ar   iinallluuaaaatttbbee    ttt  oor   cccooommaaaannaaaaniiy    uuccccsss,  annd  ee    llooo aaarddd  ttto  accchhhiieeevvveesiiisng   eeeveenn     geeeeatte rrr   miilleeattee ssssssssss teetttheer..   ooccce   ggiii ,,,  ttanq  yoouu   ooor   beeg  aan   ttteeeggraall    paaeeddttt  oo toour  teeammma .   hhaaarees   tooo  ootttiiitnteueee   succccceessss   aadd  mmm   mooor    aaammmeemmeeooorraabbbee   omet  hhhaeed .   bbbesstt   eeegggaadd  ,,    kaatttttya'\n",
    "\n",
    "fixed  = \"\"\"\n",
    "the time of each meeting will be from\n",
    "ten to noon . however, further logistical\n",
    "details will be announced at a later date\n",
    "prior to each meeting. please feel free\n",
    "to contact either sk or lh if you have any\n",
    "questions. thank you.\n",
    "\"\"\"\n",
    "evaluate(fixed, 'the time of each meeting will be am to noon however, further logistical details will be announced at a later date prior to each meeting. please feel free to contact either keith larney, or me if you should have any questions. thank you.')"
   ]
  },
  {
   "cell_type": "code",
   "execution_count": 32,
   "metadata": {},
   "outputs": [
    {
     "data": {
      "text/plain": [
       "'sssaaddiiiieeeaeiqquueiiiinnncccuk,,   iii iihhhiioopae  yyoouuue      aaarreee   ddtooiggg iweeloo   ,..   iiww    waanntteeeedd  tttoo  uuudpdddattte  uooou  oour    salaaatssstt    ijooojeeectt,,,,,  hhiicchh   hhhassss  bbbbeeeennn   uittee   atttheei ijjoooianueenneeykk,,,,,,   tttheei  wwookk   iiiinnnvvooollllllllvvveesss   sia  sssseerrriiireesss fi ccoomoeejxx  ttasssks   sssk   eaaacchhhiiiitttti iiittsss  ujniiiiauueeesss  ccchhaalllleelllleeenngggess  ..   oouurr   dkaaateeemmmmmmkk,,  iinncccccllluuuiiingg    kkkkkeiin   aannd  kzzzeeelldddaaak,,,   hhhisss  bbbebbbeeen    ddddiiiiiliiidggentotu  wwsooikiggg itttottikkkee   ikatteeissee iiissssuueesesssll.    diattreeeeeccceentllyyy    swweee   aaccceddd   diiisssserrvvverralll  iqquiiirreeeey ssiiitttettiiioooonnssi   saattttttt  eeeeegguiieeadddiiiiiimmmeedeeeiiitti aaaatttttiea tttheikdfflloykk,,,,   ee    mmagggeeeeeedd  tto  ddddddeessss tttheeemm  diiittthttheei ttthellp  ooooojjooouuriiiiiinnnnoattiivvvee   aaatteeecchhiinnniiieeueess  aandd  aauiicckkik   saadddaajjammeeetntssssl   tttheei  proooiccceeesssss   ashhaaa bbbbeeeen  uttte   ariiiigggggoooouussss    ,,,,   butt eeeeeee    idmmkkddgg  sssssiigggiiiiiiiidciaatitn     ssssattteiees,,a a..   rrrp  aorrooojdatt  iiis  ddddiiiveeenn  dbbbyy   addddvvvnnnccceeddddddd  allaoiittthimsssss  di   ddd   dccccuuuttttignggg  iiediiggee   aatteeetcccinnnooooooogyi. tttee  kee    ssspppeeeedditt  iicnncccluuueeeee    xxxaaar ddaatt   aannlluuyiiis   skk,,  iiiiizpiiiinggg ttthoooouggghhei  eeexxxxxtteeennxxiisiiivvveee    dddaaatttawettssaa,,   jnapprreeeeiiissseeedaa  mmeraaassuueeejmeammmeenttsalwwee    hiive   heaaaddd    tttoo  navvviiigggittteet   aattthhrooouuugghh  ttiicckksluu assceeennaaittiioaka,,but weeaee   ccniiideeenntt   iiann tthee dddiieeeeedcittiionn   wwwwee   aaee  hheeedddtnnggg..    uuuooouhhavvvee   aany   quuueeesst   oorr   nneeeddd  mmooore   dddttttiiiillusw ,,   leewwe  ffee ll    ffeeeee    ttoo  eeeaicchhh ooootttt ss.. ww     iieee   aavvviiiillbbbblle   ffoaa uiiicckkkkk     ccccaalll   iittttttt  ewtoouled  bbbe   mooree   covvveennniiitteett ll..    yyoouu    ri  ffeeeedddd  bbbbbbbbbcccckkkk    enndd  iiiiiitggggghtissss   ae hhhigghoyyy   avvvluudeeeddd  aadd iiiiiill   hheoppp   uuuss  aeeennsssuueee    aatttheeei   pppooe ct      mmmeeeettss   aaal    eexxppeetitiiittttoossss.  ttthhaiannkk   uuou   jooo    oouurr    iiccootttiiinneeee dssssoooorttlaa   aj  kueerrrtttjddiigg .  wee   llooookk   foorrwaadddd ktttohhaaarriiign mmooreee   dudaate  ssttth  uoouu  ssoooooonnllaa.    bbbeesstt   eeggeedsss  mmm,,,   jackkk   qa,, .   iiiiizzimmmmmeeeer...'"
      ]
     },
     "execution_count": 32,
     "metadata": {},
     "output_type": "execute_result"
    }
   ],
   "source": [
    "prediction = process_prediction('stream_result/hyperformer/6_clf.csv')\n",
    "prediction"
   ]
  },
  {
   "cell_type": "code",
   "execution_count": 33,
   "metadata": {},
   "outputs": [
    {
     "data": {
      "text/plain": [
       "'ss   aadddeet   a tteeeammmaa,,   iii   hhhoooe   yoo   olll   hhaaedd a  faaantttaaaasssstiicaaa  teeee,    l   joouur   eeeetttt   steeolqoeyeeeee   eeaaappppooeeeeciiiaaittoon    ee nttt aa..   ii  ttttt ssssss  stttuuullly   a  ialleeeassee    tto    eeee   eebvveetyooonnee   ccoomee  ttggtttheee     addd  eeuoooy     attteee  aaeesssttsstttiik   vvvittttteessssdll.  youur        eeettyhhiiiisssssmmmm  nd  pppiitiivvee    aeeeneerrt    ammaaaadddeed    ttteeeevveettt   saaa  eeessouudndddiggg   asuuccccsssssaa...   wwee    swannnt  eeeddtto  tttiik  a   mmoieeettt    atttoo  ttttexxittteendd    oouuu   heeeataaaffteeel  tt   ggggaeredddtiuuuttttueddeee   sfttoo  eeechh    ouuyoedddd wwooorkkke   aaaddd  dddeeddddiiiciiiittooonaa.   eeeenttt    ss  liiieeee   ttteessee    aer   a    sssimmaoo   tttoooeeeen    kk of  aarreeeedddiiiiieeatttioon    o  ttteei   sskkiiincceeedddiiccbbllee  saaeeffferttt  syyoou  auuttt   kssssiiinttttttoo  uoourr     srolldddes  eeevveeryeddatttyys   s    ssa.   ssss  wwwee    ovvv    foowwwwaarddddd k,,,    tttss  ccaarryy    iffooriiaarrdddd  ttthiii   ssppiiiiiiiiit saaa   oicccaimmmaa iaaaaadddeeerreeeedsaaaaaddttteemm   aaammm ks .   yyyoou   rr    oontiiibbbuuiionsss   ae   iinnaalllluuuaaaaatttiiibbbbleeet   atttoo  ooeur   icccooommmaannaaniyu   suucccccesss,,   nndd wwwee   looooooi  afffowaedddd   tt aiicchhiiieeevveess sng   eeeebeenn    eeeeetteeerrr    immiillliiaa etttooness sssssssssssss  eetthee ..    occce  ggiiii ,,,  thenkq  yooou    ooo  bbbbeeggggggg   aenniittttteee ggreaall    jaeeddt   ooo  iitoouur   tteeemmmms.   hheaaaarreess  attoooo  oontttiigeeeuee   sssuuccccceeessssss   edd   mmaay    jmoooorr  ssammmeemmeooorriiibbbboee  loooommeens  hhhuaaeeeeddd   sa..   bbbbbeestt   eeeegggggattdddss   ,,,   kettttyi     '"
      ]
     },
     "execution_count": 33,
     "metadata": {},
     "output_type": "execute_result"
    }
   ],
   "source": [
    "prediction = process_prediction('stream_result/hyperformer/7_clf.csv')\n",
    "prediction"
   ]
  },
  {
   "cell_type": "code",
   "execution_count": 34,
   "metadata": {},
   "outputs": [
    {
     "data": {
      "text/plain": [
       "'sshhellllooo   jjoooohhsja,,   ttiank   yooou    ffoorassshooopppppppiinngppattt ourr  swwwwwebbbbbbbbbbbsstittteeel.   sssttthee  wwwwee  suaaarraanntteeeep   ssyooooouur    sattiiss    ffaaacttttoonn f    wiitth ooouuurrr   hggghie  qqqqllit    rrrojjddduttttttsssss   addd     ccuusattooommeerrss    ssuupppoorttts..  iinncc    yooourrr  jsxppppperttttieesssaeee  wwwiittth tthee  oorddddeerrr ddiidd   ntt   sliivvppp  ttttttoo  uooouooorrr   hhhggh   sstaandddeaaddssss    ,   e    haave   isssuueessadddd  yoou   aa    aacc eerrreedddiiittt    si   ttthee   mmoouugngg   tt   iof  aaa    hhunddareedddda...  sppllleeesssee   allllloow    tttheeeee    to  jffiivvee  dddayy   foor   oouurrbbbbannkk    sttoo   pppppully satthiiss    cceeedddittt   dt  yooourrrrr   jjpacccccoooounttt  ss.    iif   yoouu     hhhsvve  nn  uuueesssttiioonnsssss,    ppeeee assee   vvisssiiittt     ccaaattooooojeerr    suuppppppprttaaa..  thhannk  yoouaaggaaaiiinnn  foorr  ssshoooppppppppiiinnggg   wwwiitttth   uss  wwwee    lloooiik    ffoowwaardddds    ttoo   ssevvviiinggg  yooou   ii  ttthe    uutt   uuuurreell.   jsiiinccceeeell  aan'"
      ]
     },
     "execution_count": 34,
     "metadata": {},
     "output_type": "execute_result"
    }
   ],
   "source": [
    "prediction = process_prediction('stream_result/hyperformer/19_clf.csv')\n",
    "prediction"
   ]
  },
  {
   "cell_type": "code",
   "execution_count": 35,
   "metadata": {},
   "outputs": [
    {
     "data": {
      "text/plain": [
       "'sssssllls,,    ii   tttiiinn   s    iii   ssshhhoooudddd  ivvee   suyoouu        llttttttlle   sabbbbccckggggroodddd   loon   sssmmaaalll     vveeentttrrrees..   bbiilllo   pppeerrrkkkinnsss    aaandd   p    hhhhaavvv  ra   ssst ooongg  pppperrjsssonaalll    aaaaddd pproooofffeeessssiiionaaal   aaertttioonnssipppplal   hee    is   aan     eexxxttttteeeemmlsuy   rraetttteattiiivvvee   iiniddiivvviiiuuaall..  hllllyyy  tttuuaallllly    ccooommmmsaattteeddd   fonn hiiimm  dtyy    asss  sssooome oooneee   wwwhhooo  thiinksswouuttsssidddee    ttthee  bbooxxxxx...    gill   aaattuuuaaarlllllyyy sssaaattee    iinn         ffbbbaarr   urr   yyyeeearrrrrsss    aaadd  sssiaiiddd   jttthee  ettttt   saatabbbddessabbbbbee   mmmaaaaarrrkeeett  wwwpoooullddd  bbbee  bbbbnndddwwiitddddtttttthhh  ss..   hhee   hhaasss   bbbeeee e    swwwccuucccccaeessssfulll   iiinn  tthhe    gaass  abbbjjsssiinnessssssa  wann   he   hhaass  hhhaadd   ssoommeoonnee   ttp   faiiilllttteerrrr   hiss   dddpasssa.   ssss ssssusachh  sshe    poooovviidddesss  aaaj  nfooaoommaaal    accoooonnsssiigggg roee   ttoo    annoonnaal.ahee  tthowww ssooouttt iiddaaaass  aaannddd ,,asa       e vv yy  ooncce    iiian   a   wwwiiille   aaaa   he   ccooommeess    upp awwiitth      ggteeateaooonela.   shhee   poooiiinatteeddd   jjouutt   en   aaajospmmmaooossss   ppriicciiingg  oooccxuuurrrrrrrrreenncee        iin  thhee  oooptiioonss  smmaarrr keetta,,   aa   mmmmaaaaar,kkeett   aii  jooommrllllluy  dddd nnttt   foolllloww    xlloosseeeeellly    s,,  ttttttii  ttiiinsslaaatteeddd   aqiitttoo  a  mmllaatttiiimmmiiiiiilllloiiioona   dddollaaaarrr  aattttrdddee   ffoor  sseeennooa..   ii   eettttuura,,    ii    hhaavv    aaaaaggeeeedddd  ttoo  hhhave    eenrooonn  siiinaaattteerjmiddaatttee  ssisss  ttaeeeess  wwwiiitttiiiinn  eeeaaasssonnaa..    i   wwwwwwwantttttttoo   eemmmmpphhsssssiiizaee   httt  aaccoootiiinnuueiinngg   jaaattis   reelltiionssspppp   sshooold bgeee  aacooonnsiiddrreddd         hhggh    spoiiooooriitaall  ii   amm   wwiiilllppiiigngg   aatto   acccccccetttppapptt   jjssmmeee    jjootthe  ccceeedddditt rriissskk s   eexppoossuuuee  faaass       accooott   ooofff    dooiingg  basssiinneesssssal   biiilo  nddrassttanndddss  kiiis   rrooddee   ss  ann  iiddaeepppeenddaeennttjiinnttth  mmarrrrrttt   aanndd  pppprrreeooormmmmsss   atthee  rriiht   rrriiskkk  aaeeeaawrrdddaaatttrrdddesssafooooorr  soooommepooone itth  jiiniiiteee  acappppiiiiitttiiiiiaaaaalaal   ii  pllaaaacee   aa vveerryyy hhhgh   accnfiidddccceeeencaee jiinbillll innttt  ccoonnddduuccctttiigggt   hiiihh     arrriissaa  aatttttradess aaal.  havviiingg ssiiddd  ttthtts,,    wwwwee   ccc erttiiinlllllyyy     enneeeeeeedd   too  mmmooooonniiiatttooorr  ssshhiiss   ceeddddiittt   aexxpppoosrreeee    aaanddd   looontiiinnuuee    atttoo  rreeetttuurireerr   wwllllsscccccssssa ll.   jjjut    ddrsssssttannddd   tttttthhhee   iss   aaaatt  aaaa    dddiiiffaaeeeeentt    slleveelll     jjooof   sssooohhhhsphhhiiijitiissstttttooon   aatttttatt  aa    oothheerrrr      sjjooojn   iiinvveenssttemmmentt   sggraddee   acooounnsaatterrrpppaartttyy...    jsi  uunddrrrsssttaanddd   sssatthheeerree    awwwrasss     sssooommee    ocoojnsccc eerrrnn   iin  raaageeegggaaarrrdddssss   sattooo  tttthhe  ttttrrasaxoo   zzzsssiixxxxs   sssppeeeadd   jjooppitioonn   dhhe  ttaanndddeedddd.  hhe  wwssss  aaabbbbsoollluutteelly   riittht bbboouutt   ttthee   valluedataaattioonn    aaanndd    dd  wwwwe      ssnnn  tttrreddiinggg  ddddeesttt  s,,,,,kks,,   keessw  tit    iisasss wwwweeeelolssss.   ttheeeee aaarraaaa    ccuuppplllee swwiioollllaaatteedd sppooojjddduutttsssss  ttthttttseenrrooojnws   adddooeessss   tot   ddddo  aaa   ggooooddd  jjoobbb   of   allllluiing    abgbbeecccaquussse   oor     sssysaattteemmmsss  liiiimaaattttattiiioonssssww .   tthiisss   jmmmpooooddeess  sccceaattteedddd  ddd  bgy  ssattthee  resssuueerrrrrrchhh    groogppppa a..    the   poojjbbbglleem  swwiittth tttthheesee   mmoooddllllss isss  tthtttt tthhery   arrrrree sssttr iiicttttlll    sstttthherooorrrreeeaatttiiaall  aaandd  dddd   ooo nnotttttkee  iiinttoo aaacccccccoooutttt   gaagggggaass    squuunddaattmmettttaaal   pppiicce    lliiimiittaatttiiion sal..  foorr   eeiissaattaannccee,,,,    it   iissss  lleeesssss   jjppoooooobblllggallleeee      aa,,  tthooouughheiinott iiiimmmppooosssssiiibglleee  ,,,s,,   ffoor www   rrrannssspppoootttssstttprreeedddd   ffffooorairoom aa ppoddduiiittioon   aaaaerrrreear  aattoo  a  mmmmmaaaaareeettt   arrreerar a  ttooo  ggooo    wwwiiittiiinn   ssvvaaarriiaablleee   ccoootttttthaannn  ttthee  moddlllsss  pppoooeedddiidiicttts..  ttiiss  iiitt   iiss   aaecccaeessssaaryy  ttoo  ppluy    jjccooorrreeeelllaaaatttioonn      ssssskkknnee   ssscuurrvveee   ann   ttoopp   soof  tthehhee   oovverrrlliiinng   ccooorrreeereerrlltttoon    ussedddd sss..    oobbbbjviiooooouulouy   sss,   ww   haaavvaee  tttiis   uuucccttiioooonnpss   iinn  ooourr   pppjiiiciiigngg   m  odlllsss a.      wwwasss  tttt     aawwaarree attiiss jmmmeeddddtthoooolloooguyyhhhedd  bnnnoott bbbeeeeen     sttrrnnssfareedddd   ttoo   attthee  alluuatttiiioonn  mmmooodllllsssssas..  ttisss   hhhissw  sssiiixccccee    bbee   ssswnn   bbbchhanggeddl.   fooornnsssstttinaaalltttteeellyaa,,    tthhieeesse  iinccciieeeennttsss  ateeendddtttoot  bee  sseesxxxtttrrmmeerroluyyrrrrrrrrerr  aa   ass  avvryy  ew  joojnnaaaianvvaseesstttaammeett gg  rddd   accooompppaannniiieesss   tttre   theesse  uyppeess   oof  ppooojuuutttssal   jjiiinaaaallluy  ,,,   oonn  fffiddaayy   bbiilll   awwwwaaantteeedd  too  dddoo aaa  tttttrrdaadddee  stthtt eeiiuucceee    sssatthiis esxxpoosssuuureee     ssttoo   r eeeeejnrroona.   ii   gg   aaavvee  mmpaa  maaggggiii  aattthe  goo  aheeeadd    wsttoo  addddoo  sstthee  tttrdddee  wwwiitthoutt   joonsslttiigngg   accedddiitttaa.   ii   ddoo     nnnoott  sbbbeeellliiivvveeevv    atttttt   accctteeedddd  jsoottooff   tstlliinnee   iiin  aaaproooiiiggg   aatss  ttrrddddee   condddidddiriiinggg   tthee  ciiirracccuujmmssattaceess  ss..   iif   yau    bbbeeellleieevvee       dddiiiffereennttoooys,,   pee ass    ddddviisseaaal.    tthnsss   s,,,    hjjjjooohnaaaa.. aa'"
      ]
     },
     "execution_count": 35,
     "metadata": {},
     "output_type": "execute_result"
    }
   ],
   "source": [
    "prediction = process_prediction('stream_result/hyperformer/20_clf.csv')\n",
    "prediction"
   ]
  },
  {
   "cell_type": "code",
   "execution_count": 36,
   "metadata": {},
   "outputs": [
    {
     "data": {
      "text/plain": [
       "'i    aaddeeeer    teeemmmmkk ihooppp   ttaoo    ooo haad   a   annapsttsstiiia  iieeee     oo    oouoe  apoeeeiccta  kkremooooorraeyye    appoooeeciiaaittionn    ee vvvknnnt .   iii    t tsss   tttuuoll      pooeeaeee  ttoo  eee  oeeevveonnne  cooommee  ogtthheeek  ddd   jeennppp     theee  eeesstttikkkvv .  oo uu      eupahhappaiiiissmmm  kn   pooiitiivaa  aeevvvaneey  mmaaadaeee   teeeevveet     kreeeopunddeggg  uccccos   ...   w   aawnnnt ed  ttoo ikk ae  aa   mmivmeentt   kttto   tteusttteennee   oou heearfiaeeea  ggaddttitttueeeee  sso aeech    ooeeedd   wwoooirrkkk    ad    seedddiiicittoonn o   e eenntt  a  iikkeee ttthesee   aer    aammaoo  toooieeen   oo   aaapppproeeecciiieentioon   ooo ttheeee   i nnccaaaeeeiiccoooe   aaeffooooo pptrt  okii nottoo   uuoouu      roooddddes   evveer attyy     o..   ss   ww    movvaa  ooooraaaawarrrdd  k,   ets cck  rrray ooaafooorraarrrdd   tiii     piiiriitt      o  iccca mmmaaa   adeer eeeee  kaaadd aeemmm k aamm  aaoooikk     yoa  onnbguutionss    aee  nnnaaaoooouuaaggaoeee   ato oou   cccooommmaa   nnnaannpy   suucccees    nnnd  aawwee   oooooookkfowredd     too  accccaiieeefae  innn   eevvaeenn areeeeteeeeerr    ommmiooo etoa aass   eeettthhee ...    oonnccae gain kk  haannkk yyu  oooo   eegggg  n  aaeteeggrrraaoo  appare   oof  aooouur  teemmm .   eeaaareaaa   aatoooo  onnniieeeuuee ssuucccaeeeass   and   mmannpa     ppy    mooo   ooommeemmeeeooorrrabboaee   oommooo mmeens   aeeeed o.  ggaeestt    eeaggaardds       kkkettttttyy        '"
      ]
     },
     "execution_count": 36,
     "metadata": {},
     "output_type": "execute_result"
    }
   ],
   "source": [
    "prediction = process_prediction('stream_result/ctrgcn/7_clf.csv')\n",
    "prediction"
   ]
  },
  {
   "cell_type": "code",
   "execution_count": 37,
   "metadata": {},
   "outputs": [
    {
     "data": {
      "text/plain": [
       "'kseeeear  kaueiinnncccykkk   ihpaiiiooopue  ooup arreee  dooogn eeoooa op.   iiaaa   saannnteeee   ttooo ppddaaoo  oou  ooou   ooaaattessssta daaooooojjeeecccatk,,   siccchh   aaasss    baeeenn   uiitteee  ktthheee  jooorauueennnneeekk.    tthee  oookkk  kiiinnnvoooallllllvvaaess   kkkkkk   skeriiireeess  oof  cooomaooeexxx   ttaakkk  ssk  kkk  eeccch   aiiit   iiit  unnniiauuues   ccchhaaaoooaeeooaaeenngggeess  .   oouuurr   kkkkkkeeemmmmkkk,   iinnnccccooouuupppinnngo  kkkkkkkeniina   aannd  eeeodddakkkk haaass   vvaageeeeenn   kkdd  iidooiiidddfggeenttoo aaoookkinng totaa kkkeee   kkktteeisseee  issssuessl  kkrrarrecckeenntoaaayy     aaaawee  aacccaaeddd   iooiissseaaavaeeerrrla kkaouuiiirkky   siittueaitiiooonnsssi  taaaaeeeguuuiidd  iiikmmmmmeeitte   attiin    tthkkoooukkk,,  aee   maegeeeedd   too  ddddooeoos  ttheemm  isaitth thee  aaeeooop  ooo aoooouuu iiinnnnnnovvtiivve  aecccinnniieaueiak  aannd  aauuickkkkk   aaddd aaajssseaammennntss  tthee  prooorcceess   paaaa   vaeeeen  uuttee    akkiiioooggooarrrroaoouuous   ,,,  kkkgtt aeeee  aee  iommaaikn  iisssiigggnnsiiiiaiiiccaaattna       taiiieee,,,  a    orrpa   ooooeccaaat   iis   ddiveeenn      apddvvanncaeeeeeddd   okkkooooariitthmss     addn    dcccccuuuuotiiinngg  iggee      atteeeecccannnnooooooooogyy ou oooeee kkee    espppeeeecttk   icnnnncccooouuueee okxxkkkar dkkkkkdattaa  aannooooouuyaiii   kkk   iiipiingg thhoooouugghe  eeexxxxxstteeennsssiissiiivaee  dddaatttaaaaaett aalkk,   nn  pprreeeecciiieseeekkkkkkkkkkk  mmmeeraassuurrmammeenntts olae  avvaae  hdd   ttoo anaavvviggattteee     tthroouuggga  trriickkk   sokeennaaarriioooaakkkkuuat  aaeee  aaee  ccccieeennnt  apian  thee  diiireatn   w  aeeee  pp heeeeddnng... f  uuoouu avvae    ann  ppuustion    ooa   neeed   mmmooeee  daertaiiola    a   ,,   poeeaaswwe   eeeooo   areeeee   tto  reeacchhoaooou    ...          aa   aee       vvvaaiiiioo  bbooae   oooa  aa  aaa puiiickkkkk     cc aaoooa            i   thaateeaooee   ee    mmooeee  oonnvveeeennnnniite...    uoouuu    feed  nbbbgccckkkkkk      add   innaiitttggghss  arre   okpphigggaooyu   aavvvaoued   add  aaiioooa    heeop   uu  leeennsssurree    kktthee  ppoojeicat     mmmeeeeetts   aooaa    eexppettiattnsss.  hannkk  u oooa    oouurr   cccoonnttiiaanneeee  kksspooorr lllllaa  a       a   uneerrrattaaannnsiinnnk .  aaee  oooooookk    aooooorrraaaaaaaeddd  oatt haaaarregg mmooreee  te     ttha  ou poooaaannalkkoo  baaeessstt   eraggaaareess     am,,   jaaacckkkk   ao,        iziiiimmmmeeee,ooolo'"
      ]
     },
     "execution_count": 37,
     "metadata": {},
     "output_type": "execute_result"
    }
   ],
   "source": [
    "prediction = process_prediction('stream_result/ctrgcn/6_clf.csv')\n",
    "prediction"
   ]
  },
  {
   "cell_type": "code",
   "execution_count": 38,
   "metadata": {},
   "outputs": [
    {
     "data": {
      "text/plain": [
       "'xxxdeolloo   jjooouhhnkk,,,,  tttonk yoou    ffoorrrassoooopppppppiiinnngppaatiurr rwwwweeegbbbbgssiiittteeelllll...   ottthe  ffd ggggsgaaaaaee   ggfluuaaarrrrraaanntteeee    suoooourr   sstttiiss   ffffccttoonniuf    wiitth ooouuurrr   hgggee  ff quuqqouutt  proorurrjjeddduuattttisfssssa  an    ccuuusotooommeera   ssuppppooorrrtt fol.... siinncce  yyoourr    aexsppppppeerrppttieeseee   fwittth tthhe    oorrdddeerrr krfdiidc  iinntt   apiivveeuurpp  zttttttoo uooourrro gha  ssstttaandddaeaarrdddss ,,,  ee  hhaabvvee  iisuueedd   pou  aaa   cccceeeerrrrrerciiitttt   dann  ttheee rmmoouunggg tt  iroofoof aaa    pnarreeeddaaa.....  ppooeaae   aooluow    ttteeee    rt   fffiivvee  dddpyyys fffoor  uoorrr  ebbaek   sttoo  pppooofatthhiss   cccarrriiureereeeiittt   rtt rooourrurrr   pccccccoooouunnttttii o.  iiff yoouuu    havvve   nnn    uuuueessstiioonnosssssss,,  peeeeaassee   vvviessiiittt   cuuaptttoooooeeerr puupppppprrrrtto... tthaaannk  yyyoouurrdkagggiiign zfoorr  ssshoooooppppppppiiinngg  wwii ttthh   uus   .. wwee   ooooiiik   ffoorrrrwwrrrrdddaa    tttoo   sseerrrvvviiivggg ouuu  ain tthe   ifpuutterree ko.....  siinnccccaaeereey  '"
      ]
     },
     "execution_count": 38,
     "metadata": {},
     "output_type": "execute_result"
    }
   ],
   "source": [
    "prediction = process_prediction('stream_result/ctrgcn/19_clf.csv')\n",
    "prediction"
   ]
  },
  {
   "cell_type": "code",
   "execution_count": 39,
   "metadata": {},
   "outputs": [
    {
     "data": {
      "text/plain": [
       "'soodooarrrrrududsssseooo,,,,  ii  thiiink  r  hoooodd rrpgiivvvee rou    a  oiitttttttooee ioobbbcckkkkggggoooruuedddd   fdoonn    mmmaoo  fvvvnnttrrreerksss...  bbiio   kspppeerrrriiifinnnsa   aaannn pii  hhhhaaavvee  rassttrroongg ikfpppeerriffofpppoonnall   ian  pprooofffffesssioooll  aerrrrttionnapshppprrl...  hheee  iii   aaannn eeexxsttttteeemerifo    dcrrrrrrrttttieeatttiiivvvee  fffinniddiivvviiiduaollrffff l... whooafyya   acttuuoooouuy   fccooommmmeentttteerrd  fonnahhiiimmmedtty sss  dsooomee proonnee   rahhooothiinkkss puuttiicdee   rrttthe  bbooxxxxx...   ikbgioool   fkoactttuuuuuollllyyy uuuuaattee    fin   fffaaa  rffffbbaarr   ffouurrrrr   yyyeeearrrrrrs   aaann  ssiiaiddd    nnttthee   annneettt   rftaabbekeeerkfsaabbbee   mmmmaaaerfrrrkkett pooooouooddd  bgee bbbnddppiittddtttthhe  fff..   hee   haasss  bbeeeeee enn   rfr kkkcccuucccccooeessssffuooor   dfuiinn tthee  rggaass   rdbbbunnssiinnaeessssiisaffa   ee  ppnnd he   uhasss   hhhadd   ppoommeeoonneeeeerrttto  ifffppfiiittteerrrr  hippiarrrssssi... ssssspsucchhserpprooovvviiddaesss aaanninoaooooormmaaor   koaccoooooonnofassotiiggggg  frore  ttoo reerrrnnroonna...etthhofuooaia  isss oouttt iddaaass  aannddd kkkk,,,,,,,   eerevvvv yyoonnccae    iian a  awiiooe  f,,   e   ccooomeeesr   uuupp aaawittth    ia  gggriaatieaaut oooeeeklla...  hee   jppppooooiiiinntteeeiid   fffouuutt  ann  piiaaaaoofkommmaaaooouuufuuoous  pppriicciinng  dooocccccoouuurrrurrrrrrrrraeenncce       nn tthhee oooppptiioonsss  immmaaarrriett,,,  faa  aammmmmmaaaaaaairrrrkkeettt    iif  annnooorrmmmraoooly   doonn  nnttt pffoolllpows   fadffffccczooossseeeeeoy   aa,, ttttiii aattiiiiianssooaaatteeddd  aagntooo  itttaa  fffmmmmpuooaatttiiimmmmiiiiiiillliiiionnao  ooolaaaarrrrrrr fatttaddeeee  fffoorr  aeeeennrroonegaooa....  ii  eeettuuaaf,,,  iiirr    hhaavvve    aaaggggreerrddd  rtttoo  javvee   eeennnndrrroorrn  irddinnttteerrrmmmdrrrrattee   suiistttirraaaeeess  fpwiiittthiiinn   ffeeaasssrrornl...  ii  rwwwwaaannttttttoo  semmmmpppmmppgaaiissiiiaee  ttthaatt  iifkffffccccoooniiinnuueiirnnggg  kaaotttis  rrreerrrrtiioonnssppppp   ffsoooold ggvee  cccooossiiderrffeeed  a rjiggge   pprroiiiooorrriitttyyo  faii aamm kiiifooppiinngg  ilattto cccciiicciieeetttpappttt   rossmmeeee   jfoofttthee   cccaeerrrddiitttt  ttarriiissskk  fs  eexpooossuuurr  rffass    accccooosstt  oooofff     ddooiiinngg bbuspssiinneesssssss..   bbiiool rrnnddeerrraassttnndddassss   kkkkiis  rroldee   sss  oannn  inndeeeopppeennddaeeennttp   fpfinnttthee mmaarrrrkkttt   raanndppppirrreerrrfooorrrmmmmpsso   fftthee  rriigtt   orrriisskkkk   fffdrrrerrwaaaddar attraaardaaesssaffoooooor   aaooommeppooaeaatttthh ariinnniittee  ffaacccappppiiittttiiiaaarff. ii pppooaaceee  ravveryyyrhagghe  rfflcccooffiiddddccccaeeeencce ppiinbbiooo nnottt  pficccooonddducccatiigg ppjjiughaaarrppriisskkk  attttttararraddeess   a...havvveeiiiigggesaaiidd  tttattttos,,   pwweee   cceeerrrrttaiiiinfollyyy  rnneeeeeeeeed  rtoo  rrdpmmmpoonniiitttooorrrr rfffsfffiiss  cckaedriiittt   ieexxxpppeooossiiurrrerrkorrer    r rfaadd   pttiicoooonttiiinnuueeer   rrdattoo  rrreeirtaaurrrrrer fffosscccccccssssssl...   ffjuusttt   ruuuddddrrrssssstaand  ttttatt  rree   iss   lffffaaatt  faaaa   ddiffffeeeeenntt   ooevvvveeoo  rfffoof  spooofupphhhhhpzzatiicsccaattttoonnrraarttattt aann  oothheerrrr r    fdjjjooonn   iivvanvvveeisteemtttnnmmmaennto   agggarrrdceeee   ccoooonnunnpattterrrppppaarrttyy.....   ffa ndderrrassttaaendd   ffstttheeerre   frrrassss     ssoommeee  cccooolcceeerrrrnne   iiinn   rrraaaagggeeegggggaaarrrrddsss    dtttooo tttttee ttttrrraanksskssccooo  ffdokzzrasssiicccxxxxxxs    sspreerrddaa   oopppitiooon  ifahee  tttraaannddeeddd ... hhe   aasss  faaabbbssooolluuutteeerllu  rrriigght oouutt   ttttee   vvvaoouuddaaattooonnn   raandd  nndd wee  ,,    ffoonnn   tttaraeddriingg  iidddieesssttk,,k,kkkkof,,,  knesa  titt  iiaasss wwweeeeeeooooooorrlloo...  ttheeeee  aarrrrrrdsa    ccoouuupppoleeeffppiooooolaatteedddeerrffpprorreeddduuuuttsss   ttahaattt  rrreennrrroonnar fcddoooeeessa  roott doo  aaaaa    gggoooddd   jjoobbbea  offf  vvvaooolfeigggg tbbbeeccccpuussse   off    fuuaattteemmmsss  foiiiiimmmittttatttiiioonnkkssp  .. ttthiiss   immmmpooddeess  xxccccrrrrtteedd   tdd  byybbbbsatttee  rrrssuuuuerrrrrrrcchh   ggroouuuuppp   f..   theee  pprojbbbbgbbboeemm faiittth tttheeeaeeee   mmmooddallllsss  rffdsss  tthaatt   thheeyyyyyyyyaaarrrrue  rsaasstttrrrriicccttty    fsttthheeerrrouoorrrrrreeeeattttiiicoo   raaandd ddddr rooo nnoott ttee  intttooo iccccccccoooouttt  rgggausggggges    fppopoodfuuudddaaattmmennttaaoo   pprocccccee  ooiiimmiittaaaatttiiioonnnss....  rfoorr  ppnsttaaannncceef,,,   iittt iiss   eeerrsssss   rffjjppprrooooooobbblggggbooeeee   rr  d,,,,  ttheruuuooouuhh ennott  iiimmmppppoosssiibbbooeee    ,,,,,,  fforrr faa   trraannnssspppooorrt  sssttttarrreeerd   rffffooorrrrroommaaa  pppprjuuuuuuiiitttiooonn   iaaaeerrrreerrr  attoo  a  mmmmmaaarrkkerttt  aarreerrrrrrrfa  tttooo ggoot   wwiitttiiinn  ssfvvvvaaarrrriirrbbleee    dccccooosttttttaan iatthee  mmodrssss   fpprrooorreeeiiriiiidiicottt..... tthiiss  ittt  iiiss   fanaeerrrrcccccckaeeessssaaarryy   kttto  appuoouyy   ccoooorrrreeeolrrraaattioonn  f  fiissskkkkneeeeeee   rrsskccuurevvee   ffon ttthttoop    fopf ttthee hhheee  oovvveerrfooouiinnggi  cccoooorrreeeerrreerrroooattooonn uusseud  f f.....  oobbbbvvvvissoouuvvoouuuuooouu  f,,  wwee haaaavvvee  ttthiis   ccccotoooooonnnpis  iinnooouurrrr  pprrdiiiccciingg  moollsss..l  ar rwwrsss ntttt     rsaaaaarrrre   ffdaatttissmmmaeerthoodddoooooooogyyy  spaaedd bbnnoot   bbeeeeenn    ttrrraaaannnssfferreedd  rtttoo  rrfffddtttee   vvaoouuuattiioonn vmmmooorlllfosss.  tthiiiss    hhaass    sssiicccceee   bbeee   ooeenn  bbbccaanngeeccoa..... foorrttuuuaaaoltttteeeeooyyaa,,    tthhiieereeessse  iiennpf ccciiedeennnttoss   teendd tttoote gge  eeexxstrrrrmeeoouyyyrrrrrrr  f   aasss  svveyyyy rfee   fanooonnaaainnvvvaaseesssttammenntt  tggeereree    cccooommppannniieeess   fttrrrree  tttheessee ttuuyyppprrra  ff  fpproeeruucaattssol..   iiinaaaoolluy  fu,,,  ooonn ppffrriddeeraayyy bbiipoo   awwwwaarntteeeddtttoo  rdooo ttaa   ttg ttrrddcee   atthaatt reepriuuucccee   oaaaispeeexxxooossuuree      ratoo  rreeeennrrroorrpdda..  ii   gggaaaeevvee   ssmmmmpkee  ammaaggggggiia    dttte  gggoo  gaeeeadda    fatttoo   fdddaoo  ftthe   ttttree   fiittthoouutt    rppccooosssottiigggg   ircccrreerriittttfff....   riii   ddoo    nnnottt    oocbbeetooggiiivvveeevveerr   ffttat  aii   cccateeed  fffputt ooff  ftfliiineee   rfiinn aaapppuooroovviigg   atthiss  tttraaddee   rcccoonsssddiiddrrrringgg   ttee   ccuuirrrccuaapummmmsstttnceeeess   ffs... iiff ou   bbeeoeeiiieeevveeerrr    rcdiiffffeerrennttooyyyr,,,  peeeraassee  dddvvvisseeeefa...   tthaansss ,,,  rdjjoonnolaa...da'"
      ]
     },
     "execution_count": 39,
     "metadata": {},
     "output_type": "execute_result"
    }
   ],
   "source": [
    "prediction = process_prediction('stream_result/ctrgcn/20_clf.csv')\n",
    "prediction"
   ]
  },
  {
   "cell_type": "code",
   "execution_count": 40,
   "metadata": {},
   "outputs": [
    {
     "ename": "FileNotFoundError",
     "evalue": "[Errno 2] No such file or directory: 'datasets/video-2/ground_truths/video_6.txt'",
     "output_type": "error",
     "traceback": [
      "\u001b[0;31m---------------------------------------------------------------------------\u001b[0m",
      "\u001b[0;31mFileNotFoundError\u001b[0m                         Traceback (most recent call last)",
      "Cell \u001b[0;32mIn[40], line 14\u001b[0m\n\u001b[1;32m      1\u001b[0m correction \u001b[38;5;241m=\u001b[39m \u001b[38;5;124m\"\"\"\u001b[39m\n\u001b[1;32m      2\u001b[0m \u001b[38;5;124mNondeer Aqueian,\u001b[39m\n\u001b[1;32m      3\u001b[0m \u001b[38;5;124mI hope you are doing well. I wanted to update you on the latest project, which has been quite challenging. The work involves a series of complex tasks, each with its own unique challenges. Our team, including Ken and Zelda, has been diligently working to tackle the issues we\u001b[39m\u001b[38;5;124m'\u001b[39m\u001b[38;5;124mve recently faced. We\u001b[39m\u001b[38;5;124m'\u001b[39m\u001b[38;5;124mve encountered several quirky situations that required immediate action. Thankfully, we managed to address them with the help of our innovative techniques and quick adjustments. The process has been quite rigorous, but we are making significant strides.\u001b[39m\n\u001b[0;32m   (...)\u001b[0m\n\u001b[1;32m     12\u001b[0m \u001b[38;5;124mJack Zimmerman\u001b[39m\n\u001b[1;32m     13\u001b[0m \u001b[38;5;124m\"\"\"\u001b[39m\n\u001b[0;32m---> 14\u001b[0m \u001b[43mevaluate\u001b[49m\u001b[43m(\u001b[49m\u001b[43mcorrection\u001b[49m\u001b[43m,\u001b[49m\u001b[43m \u001b[49m\u001b[38;5;124;43m'\u001b[39;49m\u001b[38;5;124;43mdatasets/video-2/ground_truths/video_6.txt\u001b[39;49m\u001b[38;5;124;43m'\u001b[39;49m\u001b[43m)\u001b[49m\n",
      "Cell \u001b[0;32mIn[31], line 92\u001b[0m, in \u001b[0;36mevaluate\u001b[0;34m(prediction, ground_truth_path)\u001b[0m\n\u001b[1;32m     89\u001b[0m prediction \u001b[38;5;241m=\u001b[39m filter_string(prediction)\n\u001b[1;32m     91\u001b[0m \u001b[38;5;66;03m# Open the file in read mode ('r')\u001b[39;00m\n\u001b[0;32m---> 92\u001b[0m \u001b[38;5;28;01mwith\u001b[39;00m \u001b[38;5;28;43mopen\u001b[39;49m\u001b[43m(\u001b[49m\u001b[43mground_truth_path\u001b[49m\u001b[43m,\u001b[49m\u001b[43m \u001b[49m\u001b[38;5;124;43m'\u001b[39;49m\u001b[38;5;124;43mr\u001b[39;49m\u001b[38;5;124;43m'\u001b[39;49m\u001b[43m)\u001b[49m \u001b[38;5;28;01mas\u001b[39;00m file:\n\u001b[1;32m     93\u001b[0m     \u001b[38;5;66;03m# Read the entire content of the file\u001b[39;00m\n\u001b[1;32m     94\u001b[0m     gt \u001b[38;5;241m=\u001b[39m file\u001b[38;5;241m.\u001b[39mread()\n\u001b[1;32m     96\u001b[0m \u001b[38;5;28mprint\u001b[39m(edit_distance_similarity(prediction, gt))\n",
      "File \u001b[0;32m~/.pyenv/versions/3.10.4/lib/python3.10/site-packages/IPython/core/interactiveshell.py:286\u001b[0m, in \u001b[0;36m_modified_open\u001b[0;34m(file, *args, **kwargs)\u001b[0m\n\u001b[1;32m    279\u001b[0m \u001b[38;5;28;01mif\u001b[39;00m file \u001b[38;5;129;01min\u001b[39;00m {\u001b[38;5;241m0\u001b[39m, \u001b[38;5;241m1\u001b[39m, \u001b[38;5;241m2\u001b[39m}:\n\u001b[1;32m    280\u001b[0m     \u001b[38;5;28;01mraise\u001b[39;00m \u001b[38;5;167;01mValueError\u001b[39;00m(\n\u001b[1;32m    281\u001b[0m         \u001b[38;5;124mf\u001b[39m\u001b[38;5;124m\"\u001b[39m\u001b[38;5;124mIPython won\u001b[39m\u001b[38;5;124m'\u001b[39m\u001b[38;5;124mt let you open fd=\u001b[39m\u001b[38;5;132;01m{\u001b[39;00mfile\u001b[38;5;132;01m}\u001b[39;00m\u001b[38;5;124m by default \u001b[39m\u001b[38;5;124m\"\u001b[39m\n\u001b[1;32m    282\u001b[0m         \u001b[38;5;124m\"\u001b[39m\u001b[38;5;124mas it is likely to crash IPython. If you know what you are doing, \u001b[39m\u001b[38;5;124m\"\u001b[39m\n\u001b[1;32m    283\u001b[0m         \u001b[38;5;124m\"\u001b[39m\u001b[38;5;124myou can use builtins\u001b[39m\u001b[38;5;124m'\u001b[39m\u001b[38;5;124m open.\u001b[39m\u001b[38;5;124m\"\u001b[39m\n\u001b[1;32m    284\u001b[0m     )\n\u001b[0;32m--> 286\u001b[0m \u001b[38;5;28;01mreturn\u001b[39;00m \u001b[43mio_open\u001b[49m\u001b[43m(\u001b[49m\u001b[43mfile\u001b[49m\u001b[43m,\u001b[49m\u001b[43m \u001b[49m\u001b[38;5;241;43m*\u001b[39;49m\u001b[43margs\u001b[49m\u001b[43m,\u001b[49m\u001b[43m \u001b[49m\u001b[38;5;241;43m*\u001b[39;49m\u001b[38;5;241;43m*\u001b[39;49m\u001b[43mkwargs\u001b[49m\u001b[43m)\u001b[49m\n",
      "\u001b[0;31mFileNotFoundError\u001b[0m: [Errno 2] No such file or directory: 'datasets/video-2/ground_truths/video_6.txt'"
     ]
    }
   ],
   "source": [
    "correction = \"\"\"\n",
    "Nondeer Aqueian,\n",
    "I hope you are doing well. I wanted to update you on the latest project, which has been quite challenging. The work involves a series of complex tasks, each with its own unique challenges. Our team, including Ken and Zelda, has been diligently working to tackle the issues we've recently faced. We've encountered several quirky situations that required immediate action. Thankfully, we managed to address them with the help of our innovative techniques and quick adjustments. The process has been quite rigorous, but we are making significant strides.\n",
    "\n",
    "Our project is driven by advanced algorithms and cutting-edge technology. The key aspect is accurate data analysis, sifting through extensive datasets, and precise measurements. We’ve had to navigate tricky scenarios, but we are confident in the direction we are heading.\n",
    "\n",
    "If you have any questions or need more details, please feel free to reach out. We are available for a quick call if that would be more convenient. Your feedback is highly valued and will help us ensure the project meets all expectations.\n",
    "\n",
    "Thank you for your continued support and understanding. We look forward to sharing more updates with you soon.\n",
    "\n",
    "Best regards,\n",
    "Jack Zimmerman\n",
    "\"\"\"\n",
    "evaluate(correction, 'datasets/video-2/ground_truths/video_6.txt')"
   ]
  },
  {
   "cell_type": "code",
   "execution_count": 20,
   "metadata": {},
   "outputs": [
    {
     "data": {
      "text/plain": [
       "'qqqdddeerr     tteemmammm,,     ii   hooopppaayyoo   lll     haaddd  aaa   faaannstttaaaaaaasssstttiicc  mee,  ojouu   reedccnettt    atteeeempllllyyyeeeeee   eee pappppprreeedcciiaaaatttioon  d  eeeee vvnnntt..   kii  ttt   aawassssd   ssstttuuuuulyy   aa  aaplleeewure    ttteo   seeeee   deeevveeeryoonnneee    ccoome  ttgettthheer aaaa  aaddd  eenujoyy  sdtthhee     ffeeeeaatttssatti  vvitttteieeo..  yyyooour    aadeehhuussiissaaasssmmm    aaandd  ptt vvveee   aseeeevvneeerryyyyyy    n   aammme dddeee e   ttthee ee veeeett   aaa    reeeaouunnnddiinngg   acccsess  ...   wweee    sswwannntt  edd  tto  ttaaakk    maw  mmomeeenntt   a   ttteoo  ttteeeezttteeenndd   ooouurr   hheaarrteeeelll t   gggrraaddttifuuuttuedeee    ftto   eee hh       oof  yyyoouure   rrdda  wwoorrkkee   dd   dneeedddeediccaattttond..  eee veennttt     ikkeee    adtthheeweee  arre a   sss mmmalll   ttlloeeenn      oeff   aaappppprreeedccdeiieatttioonn      ffoe  tthhee  iiiinncheeeddddiidccbbbllee   eee fffeleette  fnoo  opuutt   kkkkiinnnttto   yyooourr    frroellddddeess  eeeveeyye  ddaqttyyyy...   aw   wwweee  movveee   fforreewwarrdd   ,,,  eetts  ccaarrreyyy     afoorwwaarrrrdd   tthiiss  ssppppiirreeiitt    a   oof   ccaammma    aaddeeerrrieeeas     aaand tteemmm  anm   wwllrrk ...   yyooouue   oonttriibbuuttoon  sss   are    iinnaalllouuuatbttlleee      ttto   oour    ccooommmap nnppaannnyy     sssuuccccesss  ,,,  nnndd wwweee    llooook  aaffwwaarreddd    tttto  a cchhheeeeveeeinngg   eeevveennnn   ggrreeeeatteeerrre    mmmmkladeestttnness ass  tggeeeettthherem...   oonnnccee  gaaiinn k,,   tthhannkk   yyoou   ooor    kbbeeeeiggnnngg  aannn    kiitteeeeeggeerrnaal     ppparrrett  oof   ttoouurr  ttteemm  ..   hhraaaeensss   too   oonnttttinheueeee   ssuudcceeeesss    anndd  mmmayy    mmoooree  aaammeeemeeeoorraaabbbllee   jmmmoommeeens   hhhahheeddsdd   k..e  bbeeessattt   rreeeegggaarrrdddss  k,,,   kkkaatttttyyy'"
      ]
     },
     "execution_count": 20,
     "metadata": {},
     "output_type": "execute_result"
    }
   ],
   "source": [
    "prediction = process_prediction('stream_result/ctrgcn/7_clf.csv')\n",
    "prediction\n"
   ]
  },
  {
   "cell_type": "code",
   "execution_count": 24,
   "metadata": {},
   "outputs": [
    {
     "name": "stdout",
     "output_type": "stream",
     "text": [
      "0.8703703703703703\n",
      "0.2\n"
     ]
    }
   ],
   "source": [
    "correction = \"\"\"\n",
    "Dear Team,\n",
    "I hope you all had a fantastic time. I truly appreciated the recent event. It was an absolute pleasure to see everyone come together and enjoy the festivities. Your enthusiasm and participation made the event a resounding success.\n",
    "\n",
    "We wanted to take a moment to extend our heartfelt gratitude for your hard work and dedication. The event is a small token of appreciation for the incredible effort you put into your roles every day. As we move forward, let's carry this spirit of camaraderie and teamwork into our work. Your contributions are invaluable to our company’s success, and we look forward to achieving even greater milestones together.\n",
    "\n",
    "Once again, thank you for being an integral part of our team. Here's to continued success and many more memorable moments ahead.\n",
    "\n",
    "Best regards,\n",
    "Kathy\n",
    "\"\"\"\n",
    "evaluate(correction, 'datasets/video-2/ground_truths/video_7.txt')\n"
   ]
  },
  {
   "cell_type": "markdown",
   "metadata": {},
   "source": [
    "# Rightside view\n",
    "Chat can be found here: https://chatgpt.com/share/c9c7419a-9c45-4b5a-90d9-2bb2ff7c09f5"
   ]
  },
  {
   "cell_type": "code",
   "execution_count": 25,
   "metadata": {},
   "outputs": [
    {
     "data": {
      "text/plain": [
       "'deeaarrr qquucicccanccyy,,,,  i  hhioopeee uuuuyouua     are eddooinngnaweell,,...  ffii wwwannntteeedd   etto uhpddaaeee ttteeefyoouuu  oonn ooouuurrr aaatttesssat   fpporroooneeccttttt,,, wwhhiccchh   hhass beeeef      quutteee tthee efjooarrnnrieeeya...  tthheee awwworrkkk  ffinnnvvaccolllvveessa aa  assseerre iiseeess ajon pcccoomppleexx tasaksa eeeaaccchh awwieth  ittas aauuniiqaueee  cccchaallleeennggeess...   oourrr tteeemaa,, innccclluuddinnggefkkeeedvveenn   aanndd zzeelllddda,, haaa    avveeee nn  ddeilliigeenttllyy lcaawwoorkinngg etottaaccleee  aatthheesseee eisssueess..  rreeeccaenntauyy  awwee dfacceed aaaa assevvceerall  aaqurriirkeyy ssittuuaaraaattioonnss  tahh frequuiirreedd  iifmmmmediiaaatee  aaatteeeedddtttioonl... tthhaaannnkaaffullllyyf,,, wwee  maaamaaannaaaaggeeddd eto   aaddddddreheem  wwiithhh  tttheehhelp   ooff ourr  ffiiffnnnoovaaive tteeccchanaaiiauuiieess aaaandd qqquuiccka  aaaaaddaauussatammeenttsa...  tthee epprroocceeesssa  haassaa  eeeen  fqqfuuiieettteeeqrggooraoouuuf,, cbu aaaaeeaaare aaaamaaaknngg  ssiaggannnniiafficcaaant ssttrrrriiddesssao...  oouurr  pprroooneeect iss  ddrrivveenn  bayyy addddddvvvaaannccceedd aaallgoorrriithhmmsaaacndd cccuuttttiinngggeeedddvgee  eteeccchafnolloogguyf.. thheee kkeyuu aassaahppeectt ss  iincclluee xxxeraaayy  edattaaa   aaaaallaaysssssa, zzipppiaannggttrroooharroouuggah eeexxxttenaaivee  ddatsetc,, aannddppreeecciisseee fmmeeeaassureemeeen.. wweer aaaaaavveee ehaadd   ttoo anaavvviaaaaatttttt ee aatthrrouugghh ttriiccccckayy sseeeccceeennaaaarriios,,,  cuut  awweee  eaarree   ccoonnndfieeennett  iinn  dd theeeeedddiireeccattioonn  wweeereehee addainnggaa...  iff  yyooouu  qhaavveee annnyyy  eequeeessetioonss   orrnneeeddd  mmorree deettaaill,,, plleeeeaaseefeeeell  ffreeeee tt o raccchh  oouuut  f.. wwwer aaarree   eaaaaaavaaaiilllaavbvllee   fffaorr aaquiiccckaa aaclccccccaalll  faiiff thhat   waooulld vvee mmorree  ccoonneennnniteeeennttl..  yyiyyiouuurr afjeeeeedd bavckkk  aaaad   innsaightssaaare eahhivgllyy  vaalliudedd ad wwilllll  heelp  uushfeennsssuure fa thhaee elproneeecat  aaammeeeetss alal   exzppeeeccttiiaaaattiioonvvsssa... tthaannkyycoouu  fffoorr  yyooaurr aaccccoonttniinuued   sssuaupporrt  aaandd unddnddceerrraeatraaannddinngg... wwee lfookk  ffnorraaaawaaadd  atto asahaairrienamamoorrree  uuddateettees  aawitthh  yyouua  sssooonaa...  cvgbbbaeesstt  reeacggvaardsa,,,  jaaccckk ffqq..  czzimameeerr.,'"
      ]
     },
     "execution_count": 25,
     "metadata": {},
     "output_type": "execute_result"
    }
   ],
   "source": [
    "prediction = process_prediction('stream_results/rightside/video_6_clf.csv')\n",
    "prediction"
   ]
  },
  {
   "cell_type": "code",
   "execution_count": 158,
   "metadata": {},
   "outputs": [
    {
     "name": "stdout",
     "output_type": "stream",
     "text": [
      "0.028595458368376736\n",
      "186.0\n"
     ]
    },
    {
     "data": {
      "text/plain": [
       "(0.028595458368376736, 186.0)"
      ]
     },
     "execution_count": 158,
     "metadata": {},
     "output_type": "execute_result"
    }
   ],
   "source": [
    "correction = \"\"\"\n",
    "Dear Quiccanccy,\n",
    "\n",
    "I hope you are doing well. I wanted to update you on our latest project, which has been quite the journey. The work involves a series of complex tasks, each with its unique challenges. Our team, including Kevin and Zelda, has been diligently working to tackle these issues.\n",
    "\n",
    "Recently, we faced several quirky situations that required immediate attention. Thankfully, we managed to address them with the help of our innovative techniques and quick adjustments. The process has been tough, but we are making significant strides.\n",
    "\n",
    "Our project is driven by advanced algorithms and cutting-edge technology. Key aspects include X-ray data analysis, thorough testing, and precise measurements. We've had to navigate through tricky scenarios, but we are confident in the direction we are heading.\n",
    "\n",
    "If you have any questions or need more details, please feel free to reach out. We are available for a quick call if that would be more convenient. Your feedback and insights are highly valued and will help ensure that the project meets all expectations.\n",
    "\n",
    "Thank you for your continued support and understanding. We look forward to sharing more updates with you soon.\n",
    "\n",
    "Best regards,\n",
    "Jack Q. Czimamer\n",
    "\"\"\"\n",
    "evaluate(correction, 'datasets/video/ground_truths/video_6.txt')"
   ]
  },
  {
   "cell_type": "code",
   "execution_count": 27,
   "metadata": {},
   "outputs": [
    {
     "data": {
      "text/plain": [
       "'deear tteeaama,,,  ffaiie hoopee uyuyouuu  aalll afhhaaadd aa faaanattsstticf  tiaammee oiiuur  rrrreccceenttt emmpplleeoyyeee aaapppreeccciaatiioonn eevveennett...  ii tt cwaaasssttrruallyy aa  plleeaaseurre  ttt  sseeeee  eeevveerryyooneee  accoommeee  togggaeetthherr srtaanndd fjeeennaooyyaa   ttheee ffeestt haavvvifaattiss.  yyoouuurrrr  eeentthhhuusiaassmmma  aaand s poosssiittiivvvee  eenneergyyu  maadee rtthtthheeeeeevveentt aaa  arressoonnadiinnggea  suucccccessa.. wweee  waaaanntteddd  attoeetaakkee  aaa  mmeennntt  ttt oo seexxteendd oouuurr  qqhhheeaarrtaaffaeellt gattiitttttuude  attoeeeeeecchh   oooff  yyouuurr  aahaardd   wwworrrkk  aaanndd  deedddiiccaatiioonna...  eeedvveentts llikee  thpeeseee  aaree aaa   smaalla   tttooekkeen   ooouuuf aapppprreeeciiaattionnn  ffooro tt heeffiincccrrddibblle aeefforrq  ett uyyouu ppuutt isnntto   yyoouuurr erroollee  eeevvvaeeryayyla.... aaass mwwweemoooevveeeee foorawwaa,,  leetssaccaaaryyy aaforrawwwaaarddfatthhiissasspaarrrritt  off cccaammaarradeeeiirie  aaddd tteaamma  vvwwoorrk .. yyouuurr accccontnrrivbuutiioonssaaa aaaree aaaaicnavaaaalllouaavbblavallleeee fattoooyioourr cccooomppaanyy ssacuccccceea,aaannddwwee loloookkk  affoorrwwaardda a tt joo  aaaccchiieevvaaaanngeeveeneaavggreaaatteer  nnamfflsestoonneee   ss ttogdddgeeetheeer..   oonncccee aaaggaaaiian,,,   thhaank  yyyoouu fforrr beeegiiinnggg aainnttteeeeeggaaall  ppaaarrtt  of oourrr ttteaaamfa..  fheereee eesss   ttoo  ccoonttijannuuee   sauucccccess  aaanddd  mmmaaanyy  mmooreee  mmeemcvbaoarraavbabalee   ffmmeeeioomeeenttss aaaheeeaadd.....  cbbaesstt  rreaaggarss,,kaattttyyy....'"
      ]
     },
     "execution_count": 27,
     "metadata": {},
     "output_type": "execute_result"
    }
   ],
   "source": [
    "prediction = process_prediction('stream_results/rightside/video_7_clf.csv')\n",
    "prediction\n"
   ]
  },
  {
   "cell_type": "code",
   "execution_count": 28,
   "metadata": {},
   "outputs": [
    {
     "name": "stdout",
     "output_type": "stream",
     "text": [
      "0.9516908212560387\n",
      "0.09701492537313433\n"
     ]
    }
   ],
   "source": [
    "correction = \"\"\"\n",
    "Dear Team,\n",
    "\n",
    "I hope you all had a fantastic time at our recent employee appreciation event. It was truly a pleasure to see everyone come together and enjoy the festivities. Your enthusiasm and positive energy made the event a resounding success.\n",
    "\n",
    "We wanted to take a moment to extend our heartfelt gratitude to each of you for your hard work and dedication. Events like these are a small token of appreciation for the incredible effort you put into your roles every day.\n",
    "\n",
    "As we move forward, let's carry this spirit of camaraderie and teamwork with us. Your contributions are invaluable to our company's success, and we look forward to achieving even greater milestones together.\n",
    "\n",
    "Once again, thank you for being an integral part of our team. Here's to continued success and many more memorable moments ahead.\n",
    "\n",
    "Best regards,\n",
    "Kathy\n",
    "\"\"\"\n",
    "evaluate(correction, 'datasets/video/ground_truths/video_7.txt')"
   ]
  },
  {
   "cell_type": "markdown",
   "metadata": {},
   "source": [
    "# Hyperformer\n",
    "Chat can be found here: https://chatgpt.com/share/66b6aa50-a030-4e0b-9e50-ea77b5307179"
   ]
  },
  {
   "cell_type": "code",
   "execution_count": 29,
   "metadata": {},
   "outputs": [
    {
     "data": {
      "text/plain": [
       "'daaiierrr  qquaaiiiinnnccci,  iiiii  hhhhoooope   hyaoouuuaa  a   rrree   ddooiinn ww wsio  ..   iiiwwh  wwaannntteeeddd  ttt   upppddatei  uuhoouooouu  aaaattissst   ipppoohjeeccaatth,,,   whhicchha  hhhaassss   bbeen  aaiiiteee   ttthee jjoouunnineeey,   hhee wwoorrkka   kkiiinnvvoolalllvvvaaeesss   a   ssserrresss   ff  cooommeess   taaasss   sss h,   eaaa ccchhhwwiiitthhh   iiiittsss   annnniiiquuiesss   aaaaccchhhaaanllllaelllnennnggs  ..   oourri  dkteeemamm pa,,   iiannnnncccoluppuhiinngg    kkkkkeiinn    aaaandd   xbeeellda,,,   hhhassss   abbeeeen    kddaiiisllliiisgggnnntttlhyy iawwwookiiiinnng  tttoaakkkklleea  dsttteesssee iisssssuueesessss..   datrrrrreccaaeentllyyya    iwwweee   ffaaaccaaeddd   sveerralla  ikqquuiiirrkkky  sssiiiggstttutiioonss   sssahhaaa  ruuiiaadddd  iiimmmmeiiiaatteee  faaattttiiinnks   tthhkkfllllyha,,  wee   aaaggeeefddd   tttoadddddsssshtheem   wwwiiitthhatthh hhheelltpp  ooof  ooourr iiiinnnnnoattiiivvae    tticchainnfiiiqquuueesssi  fkaaanndd  quuicckks   ad aaaajmmmmnnttisss..   thhe  pppaoaccaessss   shhhass   bbbbeeeenn  uuiitee    rrriiiooggouussss   ,,,   sutttthweeerreee iaaakiiinng   ssiigniiaaiiidccaannntt     ssssttiieess,,,..   ooupp  pproojjecaatiiss   ddddaaiieenn   byy  aadvvannnnccaedddddd  kalloiiitthhamsss   adn    ccccuuutiiiinngggg  ieedddggge   d   ateeeeiccahannnnolllgggyd. thhee   ksey   sspppeeeeedttsss   iiiannnnccllluueee  axxxxxaaaaray ifadddaaattaaaaaa   aannaalyssiiss    ,,,   aiiipaiiiinngtthhhooouughhhha   eeessxxttteeennnssiiissiivveee   dddaaaatttaaassstttsss ,,,,   n  ppprrreendciiisseeff    mmeerrsaaaawsssuureemmmenntttiasss ,lwwee  hhhhavaa   hhhaeaaadddd   tttoo   nnaaavvviiigggaaitttee     tthhroouugghhha  ttiiidckkau acceeenaaaaniiissa, buttwweerarree aaaacccnnaiiidanntta   aiiinnn  hhee   ddiiireeedtiiinnn   ffwweee  aree  hhaddnnggk..  if uooouhhhavvv    anhh  ueeeisstt  oorr   nnneeeeedddd  ammmoree  dddaettiiila ss,,,  peeeasssee   ffeeeel   fffreeee  ttto  rreaaachhhaa  ooouttn..  wwee  a  eee  aaaavvvaaaiiiaabblee    fffo  aa  uuiiicckkkss     ccaall    siii  ttthhht wwwoolllldd   bbte   mmoorree   oovveeeennniiiiteennn..    youu  r   ffeeeeedddbbbbaccckkks    aanddd  iiinniiitggghhttahsss   a aare   shhhgaly  aaaa vveddd  aaann  wwwiiiill  hh   uuss  feeennnssuuree   ddtthheee   ppppproeedt    mmmeeeeertts   aaaaaa   eesxpaeettiiitttisssssa.   tthhhaaannnkk  uuu   foo  uauurr       ccconnttiiiinnnue d ksssppporrt aa    aaan   uunneerrrstttaaanndiiinngg  d.  wee   dlok    oaffffoorrwwwaaaddd ddttthhaaarreiiiinng mmorree  dddppaaai   iitth  yyoou  soooonnns..   bbbeessstt  eeeabaaardddssmm,,,,   jjaacckkk    aa.,    iiiaiizmmmmeeeert...'"
      ]
     },
     "execution_count": 29,
     "metadata": {},
     "output_type": "execute_result"
    }
   ],
   "source": [
    "prediction = process_prediction('stream_results/hyperformer/video_6_clf.csv')\n",
    "prediction"
   ]
  },
  {
   "cell_type": "code",
   "execution_count": 30,
   "metadata": {},
   "outputs": [
    {
     "name": "stdout",
     "output_type": "stream",
     "text": [
      "0.9401639344262295\n",
      "0.11616161616161616\n"
     ]
    }
   ],
   "source": [
    "correction = \"\"\"\n",
    "Dear Quinn,\n",
    "\n",
    "I hope you are doing well. I wanted to update you on the artist project, which has been quite the journey. The work involves a series of complex tasks, each with its unique challenges. Our team, including Ken and Zelda, has been diligently working to tackle these issues. Recently, we faced several quirky situations that required immediate attention. Thankfully, we managed to address them with the help of our innovative techniques and quick adjustments.\n",
    "\n",
    "The process has been rigorous, but we are making significant strides. Our project is driven by advanced algorithms and cutting-edge technology. The key aspects include accurate data analysis, extensive datasets, and precise measurements. We have had to navigate through a tricky scenario, but we are confident in the direction we are heading.\n",
    "\n",
    "If you have any questions or need more details, please feel free to reach out. We are available for a quick call if that would be more convenient. Your feedback and insights are greatly valued and will help us ensure the project meets expectations.\n",
    "\n",
    "Thank you for your continued support and understanding. We look forward to sharing more details with you soon.\n",
    "\n",
    "Best regards,\n",
    "Jack A. Ismer\n",
    "\"\"\"\n",
    "evaluate(correction, 'datasets/video-2/ground_truths/video_6.txt')"
   ]
  },
  {
   "cell_type": "code",
   "execution_count": 22,
   "metadata": {},
   "outputs": [
    {
     "data": {
      "text/plain": [
       "'ssldddarra    ttttammmm   iii   hhoyo  llll  haidddaa   aaannaattaaaaassssstt    ou rreitt   sseeppowyyyeeee   eeapprreeeciiaatinaa  eanntt ..    i  tt  sssss  s   tuull      ppleeaueee    ttt  sseee  evveernnnae    ccne ttheee    aad nh     thee   aeeastti v..uur      hhiiiisssssssssssmmm   aan piitivve   anney    sammaaaaddee  ttheeeevveet aa   reedssnddiin   cccaassss  ....   wweee   wwwnnntteddddttt     a mennt  f  tto  tsstenn    uuhh ttuddeee  ftto  weehhh     of ddddd  wworkkk   ddd   ddeedddiccinn .   e nnttt    iiikee   fttheessee  r     m   ttten  af  pppppreeiiiaaniion   fo  tthheee     iinncceddibbled  ffffaroopptt  iiinnttto  rr   rollldddss   veeeytty    ...   sss  wwwee   mo  oorwwwwdddd  ,,  ts  ccarrrfforwwwaddd  tthhii   ss iifiiiiitt      ccaama  aaaaeeerrreee      aaaddd  teemmm   am   kks.  hyoar   nnttiiibuiossss   e   iiinnaallluulee   tt     ccoommmmaannpaanniy    auucccss,   nndwee   llooi  fwdddd   ttt aaachhhiieessiiinn  eeveennn   eettt rrrr   mmmiet ssss  eetthheeess..   onnce  gaiiin  ,   tthhahyouu  oo   ieeiiiigg  an   intteeeggraal   hhpprtt  of   ttoo  tamm..   hhaaeesss   stto  ontttiiinuueeee  sssuucccaaeessss   aaanddd  mmnyy   mm  smmmmemmeoorribbeee  mmoommennt   hhheeddddd  ss.    bbbsstt  rreeggaaaaaddd   ,,  kkaaattttt'"
      ]
     },
     "execution_count": 22,
     "metadata": {},
     "output_type": "execute_result"
    }
   ],
   "source": [
    "prediction = process_prediction('stream_results/hyperformer/video_7_clf.csv')\n",
    "prediction"
   ]
  },
  {
   "cell_type": "code",
   "execution_count": 32,
   "metadata": {},
   "outputs": [
    {
     "name": "stdout",
     "output_type": "stream",
     "text": [
      "0.8080094228504122\n",
      "0.3333333333333333\n"
     ]
    }
   ],
   "source": [
    "correction = \"\"\"\n",
    "Dear Tam,\n",
    "\n",
    "I hope you had a fantastic time at the event. Your support and appreciation mean everything to us. It truly pleases us to see everyone come together and enjoy the occasion. Your enthusiasm and positive energy made the event a resounding success.\n",
    "\n",
    "We wanted to take a moment to express our heartfelt gratitude for your hard work and dedication. These are small tokens of appreciation for the incredible effort you've put into your role every day. As we move forward, let's carry this spirit as a team and continue our work with the same camaraderie and commitment. Your contributions are invaluable to our company’s success, and we look forward to achieving even greater milestones together.\n",
    "\n",
    "Once again, thank you for being an integral part of our team. Here's to continued success and many more memorable moments ahead.\n",
    "\n",
    "Best regards,\n",
    "Katy\n",
    "\"\"\"\n",
    "evaluate(correction, 'datasets/video-2/ground_truths/video_7.txt')"
   ]
  },
  {
   "cell_type": "markdown",
   "metadata": {},
   "source": [
    "## HF "
   ]
  },
  {
   "cell_type": "code",
   "execution_count": 164,
   "metadata": {},
   "outputs": [
    {
     "ename": "FileNotFoundError",
     "evalue": "[Errno 2] No such file or directory: 'hf_topview2_stream_results/video_10_clf.csv'",
     "output_type": "error",
     "traceback": [
      "\u001b[0;31m---------------------------------------------------------------------------\u001b[0m",
      "\u001b[0;31mFileNotFoundError\u001b[0m                         Traceback (most recent call last)",
      "Cell \u001b[0;32mIn[164], line 1\u001b[0m\n\u001b[0;32m----> 1\u001b[0m prediction \u001b[38;5;241m=\u001b[39m \u001b[43mprocess_prediction\u001b[49m\u001b[43m(\u001b[49m\u001b[38;5;124;43m'\u001b[39;49m\u001b[38;5;124;43mhf_topview2_stream_results/video_10_clf.csv\u001b[39;49m\u001b[38;5;124;43m'\u001b[39;49m\u001b[43m)\u001b[49m\n\u001b[1;32m      2\u001b[0m prediction\n",
      "Cell \u001b[0;32mIn[163], line 80\u001b[0m, in \u001b[0;36mprocess_prediction\u001b[0;34m(csv_file)\u001b[0m\n\u001b[1;32m     79\u001b[0m \u001b[38;5;28;01mdef\u001b[39;00m \u001b[38;5;21mprocess_prediction\u001b[39m(csv_file):\n\u001b[0;32m---> 80\u001b[0m     clf_result \u001b[38;5;241m=\u001b[39m \u001b[43mpd\u001b[49m\u001b[38;5;241;43m.\u001b[39;49m\u001b[43mread_csv\u001b[49m\u001b[43m(\u001b[49m\u001b[43mcsv_file\u001b[49m\u001b[43m)\u001b[49m\n\u001b[1;32m     81\u001b[0m     \u001b[38;5;66;03m# chars = clf_result[clf_result['Prob'] > 0.8]['Key prediction'].to_list()\u001b[39;00m\n\u001b[1;32m     82\u001b[0m     chars \u001b[38;5;241m=\u001b[39m clf_result[\u001b[38;5;124m'\u001b[39m\u001b[38;5;124mKey prediction\u001b[39m\u001b[38;5;124m'\u001b[39m]\u001b[38;5;241m.\u001b[39mto_list()\n",
      "File \u001b[0;32m~/.pyenv/versions/3.10.4/lib/python3.10/site-packages/pandas/util/_decorators.py:211\u001b[0m, in \u001b[0;36mdeprecate_kwarg.<locals>._deprecate_kwarg.<locals>.wrapper\u001b[0;34m(*args, **kwargs)\u001b[0m\n\u001b[1;32m    209\u001b[0m     \u001b[38;5;28;01melse\u001b[39;00m:\n\u001b[1;32m    210\u001b[0m         kwargs[new_arg_name] \u001b[38;5;241m=\u001b[39m new_arg_value\n\u001b[0;32m--> 211\u001b[0m \u001b[38;5;28;01mreturn\u001b[39;00m \u001b[43mfunc\u001b[49m\u001b[43m(\u001b[49m\u001b[38;5;241;43m*\u001b[39;49m\u001b[43margs\u001b[49m\u001b[43m,\u001b[49m\u001b[43m \u001b[49m\u001b[38;5;241;43m*\u001b[39;49m\u001b[38;5;241;43m*\u001b[39;49m\u001b[43mkwargs\u001b[49m\u001b[43m)\u001b[49m\n",
      "File \u001b[0;32m~/.pyenv/versions/3.10.4/lib/python3.10/site-packages/pandas/util/_decorators.py:331\u001b[0m, in \u001b[0;36mdeprecate_nonkeyword_arguments.<locals>.decorate.<locals>.wrapper\u001b[0;34m(*args, **kwargs)\u001b[0m\n\u001b[1;32m    325\u001b[0m \u001b[38;5;28;01mif\u001b[39;00m \u001b[38;5;28mlen\u001b[39m(args) \u001b[38;5;241m>\u001b[39m num_allow_args:\n\u001b[1;32m    326\u001b[0m     warnings\u001b[38;5;241m.\u001b[39mwarn(\n\u001b[1;32m    327\u001b[0m         msg\u001b[38;5;241m.\u001b[39mformat(arguments\u001b[38;5;241m=\u001b[39m_format_argument_list(allow_args)),\n\u001b[1;32m    328\u001b[0m         \u001b[38;5;167;01mFutureWarning\u001b[39;00m,\n\u001b[1;32m    329\u001b[0m         stacklevel\u001b[38;5;241m=\u001b[39mfind_stack_level(),\n\u001b[1;32m    330\u001b[0m     )\n\u001b[0;32m--> 331\u001b[0m \u001b[38;5;28;01mreturn\u001b[39;00m \u001b[43mfunc\u001b[49m\u001b[43m(\u001b[49m\u001b[38;5;241;43m*\u001b[39;49m\u001b[43margs\u001b[49m\u001b[43m,\u001b[49m\u001b[43m \u001b[49m\u001b[38;5;241;43m*\u001b[39;49m\u001b[38;5;241;43m*\u001b[39;49m\u001b[43mkwargs\u001b[49m\u001b[43m)\u001b[49m\n",
      "File \u001b[0;32m~/.pyenv/versions/3.10.4/lib/python3.10/site-packages/pandas/io/parsers/readers.py:950\u001b[0m, in \u001b[0;36mread_csv\u001b[0;34m(filepath_or_buffer, sep, delimiter, header, names, index_col, usecols, squeeze, prefix, mangle_dupe_cols, dtype, engine, converters, true_values, false_values, skipinitialspace, skiprows, skipfooter, nrows, na_values, keep_default_na, na_filter, verbose, skip_blank_lines, parse_dates, infer_datetime_format, keep_date_col, date_parser, dayfirst, cache_dates, iterator, chunksize, compression, thousands, decimal, lineterminator, quotechar, quoting, doublequote, escapechar, comment, encoding, encoding_errors, dialect, error_bad_lines, warn_bad_lines, on_bad_lines, delim_whitespace, low_memory, memory_map, float_precision, storage_options)\u001b[0m\n\u001b[1;32m    935\u001b[0m kwds_defaults \u001b[38;5;241m=\u001b[39m _refine_defaults_read(\n\u001b[1;32m    936\u001b[0m     dialect,\n\u001b[1;32m    937\u001b[0m     delimiter,\n\u001b[0;32m   (...)\u001b[0m\n\u001b[1;32m    946\u001b[0m     defaults\u001b[38;5;241m=\u001b[39m{\u001b[38;5;124m\"\u001b[39m\u001b[38;5;124mdelimiter\u001b[39m\u001b[38;5;124m\"\u001b[39m: \u001b[38;5;124m\"\u001b[39m\u001b[38;5;124m,\u001b[39m\u001b[38;5;124m\"\u001b[39m},\n\u001b[1;32m    947\u001b[0m )\n\u001b[1;32m    948\u001b[0m kwds\u001b[38;5;241m.\u001b[39mupdate(kwds_defaults)\n\u001b[0;32m--> 950\u001b[0m \u001b[38;5;28;01mreturn\u001b[39;00m \u001b[43m_read\u001b[49m\u001b[43m(\u001b[49m\u001b[43mfilepath_or_buffer\u001b[49m\u001b[43m,\u001b[49m\u001b[43m \u001b[49m\u001b[43mkwds\u001b[49m\u001b[43m)\u001b[49m\n",
      "File \u001b[0;32m~/.pyenv/versions/3.10.4/lib/python3.10/site-packages/pandas/io/parsers/readers.py:605\u001b[0m, in \u001b[0;36m_read\u001b[0;34m(filepath_or_buffer, kwds)\u001b[0m\n\u001b[1;32m    602\u001b[0m _validate_names(kwds\u001b[38;5;241m.\u001b[39mget(\u001b[38;5;124m\"\u001b[39m\u001b[38;5;124mnames\u001b[39m\u001b[38;5;124m\"\u001b[39m, \u001b[38;5;28;01mNone\u001b[39;00m))\n\u001b[1;32m    604\u001b[0m \u001b[38;5;66;03m# Create the parser.\u001b[39;00m\n\u001b[0;32m--> 605\u001b[0m parser \u001b[38;5;241m=\u001b[39m \u001b[43mTextFileReader\u001b[49m\u001b[43m(\u001b[49m\u001b[43mfilepath_or_buffer\u001b[49m\u001b[43m,\u001b[49m\u001b[43m \u001b[49m\u001b[38;5;241;43m*\u001b[39;49m\u001b[38;5;241;43m*\u001b[39;49m\u001b[43mkwds\u001b[49m\u001b[43m)\u001b[49m\n\u001b[1;32m    607\u001b[0m \u001b[38;5;28;01mif\u001b[39;00m chunksize \u001b[38;5;129;01mor\u001b[39;00m iterator:\n\u001b[1;32m    608\u001b[0m     \u001b[38;5;28;01mreturn\u001b[39;00m parser\n",
      "File \u001b[0;32m~/.pyenv/versions/3.10.4/lib/python3.10/site-packages/pandas/io/parsers/readers.py:1442\u001b[0m, in \u001b[0;36mTextFileReader.__init__\u001b[0;34m(self, f, engine, **kwds)\u001b[0m\n\u001b[1;32m   1439\u001b[0m     \u001b[38;5;28mself\u001b[39m\u001b[38;5;241m.\u001b[39moptions[\u001b[38;5;124m\"\u001b[39m\u001b[38;5;124mhas_index_names\u001b[39m\u001b[38;5;124m\"\u001b[39m] \u001b[38;5;241m=\u001b[39m kwds[\u001b[38;5;124m\"\u001b[39m\u001b[38;5;124mhas_index_names\u001b[39m\u001b[38;5;124m\"\u001b[39m]\n\u001b[1;32m   1441\u001b[0m \u001b[38;5;28mself\u001b[39m\u001b[38;5;241m.\u001b[39mhandles: IOHandles \u001b[38;5;241m|\u001b[39m \u001b[38;5;28;01mNone\u001b[39;00m \u001b[38;5;241m=\u001b[39m \u001b[38;5;28;01mNone\u001b[39;00m\n\u001b[0;32m-> 1442\u001b[0m \u001b[38;5;28mself\u001b[39m\u001b[38;5;241m.\u001b[39m_engine \u001b[38;5;241m=\u001b[39m \u001b[38;5;28;43mself\u001b[39;49m\u001b[38;5;241;43m.\u001b[39;49m\u001b[43m_make_engine\u001b[49m\u001b[43m(\u001b[49m\u001b[43mf\u001b[49m\u001b[43m,\u001b[49m\u001b[43m \u001b[49m\u001b[38;5;28;43mself\u001b[39;49m\u001b[38;5;241;43m.\u001b[39;49m\u001b[43mengine\u001b[49m\u001b[43m)\u001b[49m\n",
      "File \u001b[0;32m~/.pyenv/versions/3.10.4/lib/python3.10/site-packages/pandas/io/parsers/readers.py:1735\u001b[0m, in \u001b[0;36mTextFileReader._make_engine\u001b[0;34m(self, f, engine)\u001b[0m\n\u001b[1;32m   1733\u001b[0m     \u001b[38;5;28;01mif\u001b[39;00m \u001b[38;5;124m\"\u001b[39m\u001b[38;5;124mb\u001b[39m\u001b[38;5;124m\"\u001b[39m \u001b[38;5;129;01mnot\u001b[39;00m \u001b[38;5;129;01min\u001b[39;00m mode:\n\u001b[1;32m   1734\u001b[0m         mode \u001b[38;5;241m+\u001b[39m\u001b[38;5;241m=\u001b[39m \u001b[38;5;124m\"\u001b[39m\u001b[38;5;124mb\u001b[39m\u001b[38;5;124m\"\u001b[39m\n\u001b[0;32m-> 1735\u001b[0m \u001b[38;5;28mself\u001b[39m\u001b[38;5;241m.\u001b[39mhandles \u001b[38;5;241m=\u001b[39m \u001b[43mget_handle\u001b[49m\u001b[43m(\u001b[49m\n\u001b[1;32m   1736\u001b[0m \u001b[43m    \u001b[49m\u001b[43mf\u001b[49m\u001b[43m,\u001b[49m\n\u001b[1;32m   1737\u001b[0m \u001b[43m    \u001b[49m\u001b[43mmode\u001b[49m\u001b[43m,\u001b[49m\n\u001b[1;32m   1738\u001b[0m \u001b[43m    \u001b[49m\u001b[43mencoding\u001b[49m\u001b[38;5;241;43m=\u001b[39;49m\u001b[38;5;28;43mself\u001b[39;49m\u001b[38;5;241;43m.\u001b[39;49m\u001b[43moptions\u001b[49m\u001b[38;5;241;43m.\u001b[39;49m\u001b[43mget\u001b[49m\u001b[43m(\u001b[49m\u001b[38;5;124;43m\"\u001b[39;49m\u001b[38;5;124;43mencoding\u001b[39;49m\u001b[38;5;124;43m\"\u001b[39;49m\u001b[43m,\u001b[49m\u001b[43m \u001b[49m\u001b[38;5;28;43;01mNone\u001b[39;49;00m\u001b[43m)\u001b[49m\u001b[43m,\u001b[49m\n\u001b[1;32m   1739\u001b[0m \u001b[43m    \u001b[49m\u001b[43mcompression\u001b[49m\u001b[38;5;241;43m=\u001b[39;49m\u001b[38;5;28;43mself\u001b[39;49m\u001b[38;5;241;43m.\u001b[39;49m\u001b[43moptions\u001b[49m\u001b[38;5;241;43m.\u001b[39;49m\u001b[43mget\u001b[49m\u001b[43m(\u001b[49m\u001b[38;5;124;43m\"\u001b[39;49m\u001b[38;5;124;43mcompression\u001b[39;49m\u001b[38;5;124;43m\"\u001b[39;49m\u001b[43m,\u001b[49m\u001b[43m \u001b[49m\u001b[38;5;28;43;01mNone\u001b[39;49;00m\u001b[43m)\u001b[49m\u001b[43m,\u001b[49m\n\u001b[1;32m   1740\u001b[0m \u001b[43m    \u001b[49m\u001b[43mmemory_map\u001b[49m\u001b[38;5;241;43m=\u001b[39;49m\u001b[38;5;28;43mself\u001b[39;49m\u001b[38;5;241;43m.\u001b[39;49m\u001b[43moptions\u001b[49m\u001b[38;5;241;43m.\u001b[39;49m\u001b[43mget\u001b[49m\u001b[43m(\u001b[49m\u001b[38;5;124;43m\"\u001b[39;49m\u001b[38;5;124;43mmemory_map\u001b[39;49m\u001b[38;5;124;43m\"\u001b[39;49m\u001b[43m,\u001b[49m\u001b[43m \u001b[49m\u001b[38;5;28;43;01mFalse\u001b[39;49;00m\u001b[43m)\u001b[49m\u001b[43m,\u001b[49m\n\u001b[1;32m   1741\u001b[0m \u001b[43m    \u001b[49m\u001b[43mis_text\u001b[49m\u001b[38;5;241;43m=\u001b[39;49m\u001b[43mis_text\u001b[49m\u001b[43m,\u001b[49m\n\u001b[1;32m   1742\u001b[0m \u001b[43m    \u001b[49m\u001b[43merrors\u001b[49m\u001b[38;5;241;43m=\u001b[39;49m\u001b[38;5;28;43mself\u001b[39;49m\u001b[38;5;241;43m.\u001b[39;49m\u001b[43moptions\u001b[49m\u001b[38;5;241;43m.\u001b[39;49m\u001b[43mget\u001b[49m\u001b[43m(\u001b[49m\u001b[38;5;124;43m\"\u001b[39;49m\u001b[38;5;124;43mencoding_errors\u001b[39;49m\u001b[38;5;124;43m\"\u001b[39;49m\u001b[43m,\u001b[49m\u001b[43m \u001b[49m\u001b[38;5;124;43m\"\u001b[39;49m\u001b[38;5;124;43mstrict\u001b[39;49m\u001b[38;5;124;43m\"\u001b[39;49m\u001b[43m)\u001b[49m\u001b[43m,\u001b[49m\n\u001b[1;32m   1743\u001b[0m \u001b[43m    \u001b[49m\u001b[43mstorage_options\u001b[49m\u001b[38;5;241;43m=\u001b[39;49m\u001b[38;5;28;43mself\u001b[39;49m\u001b[38;5;241;43m.\u001b[39;49m\u001b[43moptions\u001b[49m\u001b[38;5;241;43m.\u001b[39;49m\u001b[43mget\u001b[49m\u001b[43m(\u001b[49m\u001b[38;5;124;43m\"\u001b[39;49m\u001b[38;5;124;43mstorage_options\u001b[39;49m\u001b[38;5;124;43m\"\u001b[39;49m\u001b[43m,\u001b[49m\u001b[43m \u001b[49m\u001b[38;5;28;43;01mNone\u001b[39;49;00m\u001b[43m)\u001b[49m\u001b[43m,\u001b[49m\n\u001b[1;32m   1744\u001b[0m \u001b[43m\u001b[49m\u001b[43m)\u001b[49m\n\u001b[1;32m   1745\u001b[0m \u001b[38;5;28;01massert\u001b[39;00m \u001b[38;5;28mself\u001b[39m\u001b[38;5;241m.\u001b[39mhandles \u001b[38;5;129;01mis\u001b[39;00m \u001b[38;5;129;01mnot\u001b[39;00m \u001b[38;5;28;01mNone\u001b[39;00m\n\u001b[1;32m   1746\u001b[0m f \u001b[38;5;241m=\u001b[39m \u001b[38;5;28mself\u001b[39m\u001b[38;5;241m.\u001b[39mhandles\u001b[38;5;241m.\u001b[39mhandle\n",
      "File \u001b[0;32m~/.pyenv/versions/3.10.4/lib/python3.10/site-packages/pandas/io/common.py:856\u001b[0m, in \u001b[0;36mget_handle\u001b[0;34m(path_or_buf, mode, encoding, compression, memory_map, is_text, errors, storage_options)\u001b[0m\n\u001b[1;32m    851\u001b[0m \u001b[38;5;28;01melif\u001b[39;00m \u001b[38;5;28misinstance\u001b[39m(handle, \u001b[38;5;28mstr\u001b[39m):\n\u001b[1;32m    852\u001b[0m     \u001b[38;5;66;03m# Check whether the filename is to be opened in binary mode.\u001b[39;00m\n\u001b[1;32m    853\u001b[0m     \u001b[38;5;66;03m# Binary mode does not support 'encoding' and 'newline'.\u001b[39;00m\n\u001b[1;32m    854\u001b[0m     \u001b[38;5;28;01mif\u001b[39;00m ioargs\u001b[38;5;241m.\u001b[39mencoding \u001b[38;5;129;01mand\u001b[39;00m \u001b[38;5;124m\"\u001b[39m\u001b[38;5;124mb\u001b[39m\u001b[38;5;124m\"\u001b[39m \u001b[38;5;129;01mnot\u001b[39;00m \u001b[38;5;129;01min\u001b[39;00m ioargs\u001b[38;5;241m.\u001b[39mmode:\n\u001b[1;32m    855\u001b[0m         \u001b[38;5;66;03m# Encoding\u001b[39;00m\n\u001b[0;32m--> 856\u001b[0m         handle \u001b[38;5;241m=\u001b[39m \u001b[38;5;28;43mopen\u001b[39;49m\u001b[43m(\u001b[49m\n\u001b[1;32m    857\u001b[0m \u001b[43m            \u001b[49m\u001b[43mhandle\u001b[49m\u001b[43m,\u001b[49m\n\u001b[1;32m    858\u001b[0m \u001b[43m            \u001b[49m\u001b[43mioargs\u001b[49m\u001b[38;5;241;43m.\u001b[39;49m\u001b[43mmode\u001b[49m\u001b[43m,\u001b[49m\n\u001b[1;32m    859\u001b[0m \u001b[43m            \u001b[49m\u001b[43mencoding\u001b[49m\u001b[38;5;241;43m=\u001b[39;49m\u001b[43mioargs\u001b[49m\u001b[38;5;241;43m.\u001b[39;49m\u001b[43mencoding\u001b[49m\u001b[43m,\u001b[49m\n\u001b[1;32m    860\u001b[0m \u001b[43m            \u001b[49m\u001b[43merrors\u001b[49m\u001b[38;5;241;43m=\u001b[39;49m\u001b[43merrors\u001b[49m\u001b[43m,\u001b[49m\n\u001b[1;32m    861\u001b[0m \u001b[43m            \u001b[49m\u001b[43mnewline\u001b[49m\u001b[38;5;241;43m=\u001b[39;49m\u001b[38;5;124;43m\"\u001b[39;49m\u001b[38;5;124;43m\"\u001b[39;49m\u001b[43m,\u001b[49m\n\u001b[1;32m    862\u001b[0m \u001b[43m        \u001b[49m\u001b[43m)\u001b[49m\n\u001b[1;32m    863\u001b[0m     \u001b[38;5;28;01melse\u001b[39;00m:\n\u001b[1;32m    864\u001b[0m         \u001b[38;5;66;03m# Binary mode\u001b[39;00m\n\u001b[1;32m    865\u001b[0m         handle \u001b[38;5;241m=\u001b[39m \u001b[38;5;28mopen\u001b[39m(handle, ioargs\u001b[38;5;241m.\u001b[39mmode)\n",
      "\u001b[0;31mFileNotFoundError\u001b[0m: [Errno 2] No such file or directory: 'hf_topview2_stream_results/video_10_clf.csv'"
     ]
    }
   ],
   "source": [
    "prediction = process_prediction('hf_topview2_stream_results/video_10_clf.csv')\n",
    "prediction"
   ]
  },
  {
   "cell_type": "code",
   "execution_count": 166,
   "metadata": {},
   "outputs": [
    {
     "name": "stdout",
     "output_type": "stream",
     "text": [
      "dear team, i hope you all had a fantastic time at our recent event. it was truly a pleasure to have everyone come together and enjoy the festivities. your enthusiasm and positive energy made the event a resounding success. we wanted to take a moment to extend our heartfelt gratitude to each of you for your dedication. events like this are a true testament to the appreciation we have for the incredible effort you put into your work every day. as we move forward, lets carry the spirit of camaraderie and teamwork with us. your contributions are invaluable to our companys success, and we look forward to achieving even greater milestones together. once again, thank you for being such an integral part of our team. heres to continued success and many more memorable moments ahead. best regards, kathy \n",
      "0.8930348258706468\n",
      "0.21641791044776118\n"
     ]
    },
    {
     "data": {
      "text/plain": [
       "(0.8930348258706468, 0.21641791044776118)"
      ]
     },
     "execution_count": 166,
     "metadata": {},
     "output_type": "execute_result"
    }
   ],
   "source": [
    "correction = \"\"\"Dear team,\n",
    "I hope you all had a fantastic time at our recent event. It was truly a pleasure to have everyone come together and enjoy the festivities. Your enthusiasm and positive energy made the event a resounding success.\n",
    "We wanted to take a moment to extend our heartfelt gratitude to each of you for your dedication. Events like this are a true testament to the appreciation we have for the incredible effort you put into your work every day.\n",
    "As we move forward, let's carry the spirit of camaraderie and teamwork with us. Your contributions are invaluable to our company's success, and we look forward to achieving even greater milestones together.\n",
    "Once again, thank you for being such an integral part of our team. Here's to continued success and many more memorable moments ahead.\n",
    "Best regards, Kathy\n",
    "\"\"\"\n",
    "gt = \"dear team, i hope you all had a fanstastic time at our recent employee event. it was truly a pleasure to see everyone come together and enjoy the festivities. your enthusiasm and positive energy made the event a resounding success. we wanted to take a moment to extend our heartfelt gratitute to each of your hard work and dedication. events like these are a small token of appreciation for the incrediable effort you put into your roles everyday. as we move forward, lets carry forward this spirit of camaraderie and teamwork. your contributions are invaluable to our company success, and we look forward to achieving even greater milestones together. once again, thank you for begin an integral part of our team. heres to continue success and many more memorable moments ahead. best regards, katty\"\n",
    "evaluate(correction, gt)"
   ]
  },
  {
   "cell_type": "code",
   "execution_count": 34,
   "metadata": {},
   "outputs": [
    {
     "data": {
      "text/plain": [
       "'xxraatmgaihoe yoyo al zzad a fnazastaaccsc ass, rrreeccett a ou  rcaen emplye  eeeveta  ws ul a apeesue osee eveyoeaoetee anddonhotergiestivvitress  .yyy entuurrhuiiaam andpsitvive  eeyzdde eevet  aaa eesounding  esucess. e wswated  otare iz ammeethat teend ou etfeelatt gru  e oich aof yu ad of add  dedictnon veents lt heeee ar afaal ttaoe o aappoiieciatonnr frte inddceeeddaaaale fefret yyo u tt  so  froles eedd. ass e overr fraard  d, ts caryfrrwwad this spirit  of caamaaaeaaadrr  fand steamaerdk yoursyu rr cotribuions saee   pinvaqduinble aou ompy succs adwe lood foorwwearrdd tl eechleiin  deet  greateer amileeatoes agthroce  aainn  ,ank u o  agn an etiteerrrl att f  u ta ee ast aotuiiqe  asucesssf aad ayoe amoraal oents aded.esreads   at'"
      ]
     },
     "execution_count": 34,
     "metadata": {},
     "output_type": "execute_result"
    }
   ],
   "source": [
    "prediction = process_prediction('/Users/haily/Documents/GitHub/Research Learning/clf.csv')\n",
    "prediction"
   ]
  },
  {
   "cell_type": "code",
   "execution_count": 31,
   "metadata": {},
   "outputs": [
    {
     "name": "stdout",
     "output_type": "stream",
     "text": [
      "0.6420382165605096\n",
      "0.5783132530120482\n"
     ]
    }
   ],
   "source": [
    "correction = \"\"\"\n",
    "Jennifer, thanks for hosting the meeting yesterday. Sorry I had to leave early, but I had to meet with Beth for a personal matter. I believe there was a lot of good information exchanged, which is why it was unfortunate that I had to leave so soon. I am certainly aware that there were different opinions shared, but we did not have a chance to discuss them in detail. Regarding the relationship between our company and Enron, it is important to keep this very clear in our forward strategy. At the end of the day, maintaining clear communication and aligning our goals is crucial. I accept responsibility for any issues in the relationship. If my corporate talks involve deals with Enron, we still have to manage the account carefully. Peter expressed concerns about that. He has always preserved the integrity of the account team by ensuring responsibility to the customer. That is why we need to keep Dave informed and make sure no actions are taken without his knowledge. He is not the decision-maker or dealmaker, but as you are well aware, the contact with Enron has impacted other business opportunities within Enron. Dave is fully responsible for Enron and should be involved in resolving any situations that impact our relationship with Enron. I need your help in guiding the organization to avoid situations where Enron will continue to influence our business transactions. Dave needs to have a complete understanding of how his business transactions shape our dealings with Enron. He will understand the situation and how it can impact the business at Enron.\n",
    "\"\"\"\n",
    "evaluate(correction, 'datasets/topview-2/ground_truths/video_11.txt')"
   ]
  },
  {
   "cell_type": "code",
   "execution_count": 5,
   "metadata": {},
   "outputs": [
    {
     "data": {
      "text/plain": [
       "'innniiiffer,,  hhnnssrsstiiinnggg     thee  mmeeeenngg   yyeessseerrrddday,,..  ssoorrrry     ii  heeaadd    oo  lleeaffvee   buut  fi haaddd   oo  mmeeeetiteee    wwith    bbbeeettth  pppeerrrlllmmnn....  ii    lleiievvee  te rrre  wwssss aaaa llo  ggooddd  iinfformmmtiiionn  ccchaanngeddd  nnd  ttt isswwyseeaann sso   ll... i  cccerrrttiinlllyyy  ammawwwayy  iihh   affffddfiiiffffeennntiiinnssitt  toeenoonn   at  iid  nnntt    avvee eefffforsee  m....rreeegggaaarrddiigg ssttee eellttiioonnsspppp  aaeeeeeeeeennnggcoomma   aan  nnnronn....,  iinn   dddottoo    mmmakkke   sssooe  tthgsss  a   vvrrrryyy   ccllerr   iinn   rrggooo  forrrrrrrdd rrsstrrrrraatteeeggggya.. a  thee end ffoohee   dyy,,,  te   ccccccssunnttttam,,, ddaave  sssuauarrliinnnpppp   uugggt   neeff,,   ammmyyeff,   aaaaandd eerrrrryy,,,  wnn   thheespppooonnsssiabiiiiiiiittyyy sor te  eennron rrrlltiionnsssiipp...  iiff mmmycccccoorpppoorraeefllllkkkssar  aaammakkingg  dddllss wiiiitth ennoonn ,,  ee sssttiilll   avve   oo  omaaagge thh   ccccounnnt..... peeeeeerr abblllaaccckkmmoore liissss vverrryyyllrrr aaabboot ttttthtts... hee   rssass aaaallwys   pppprrrreesseerrvveettttee  iiinnerggggriitty fff e  acccccuuunttt  teaammm aasss   eggiiiingg resspisblleee ffoo   ee   cccsoommeerr....  tth  iiiiss wyseeee nneeed   oo kkeee   daaavvveee  aacccsdd   nndd  knnwiinngg  ttat annssaacccionnsssrrkiggapllacccewiiiinnggg nnoronn. e   isssnott   e    ddeecccccccisiimmaakkker oorddals  lllike  thee  ebss  onnn,,   buut    assyyo  wwrrrrrrrreellllsserooff ,,  heee esss cccconnraaacccctt  hssss  iimmpppaarieedd ooterr  sssiiineesssss  oooopoorrrtunnteeess  wwwiiiiiinn   ennrrnoon..... vvvvesss frrrrleereepsppooonniiittttbillittyyysseeeenrronn aaaand mmakkiingggsrtt  eeee have rsssollutionss  ffffoorrs  siitttyttiioonnsssss tthtiiimmppaacccctte seeltinssiiiipp  wwiit  eennnroonn .....  ii   eeedd yyyo  r   helpe wwiitth   lllleennonnn    oorrggaanniiiaaaaattionss  oo  aaaarrrooounndd   hiiim ,,   siiiitttiosslikee   eebbsss iilll   cconnnttiiiiinnnuuee....   hhee   saasss  oo  vv    totttaalll iiiicccctr  fooff   abbiusssiinneeesssssf annssaaaacccctiionnss   haaapppeiinngg  aa   nnon...  ffee iilll  funddrtsssstandd  ooo hsee sitttuaaiinnn     nn  iiipppppmmpacsppaccc   bbiussiinneessss    aatt ndd  ffonroon....'"
      ]
     },
     "execution_count": 5,
     "metadata": {},
     "output_type": "execute_result"
    }
   ],
   "source": [
    "# HF 2\n",
    "prediction = process_prediction('stream_results/hf_3/video_11_clf.csv')\n",
    "prediction"
   ]
  }
 ],
 "metadata": {
  "kernelspec": {
   "display_name": "Python 3",
   "language": "python",
   "name": "python3"
  },
  "language_info": {
   "codemirror_mode": {
    "name": "ipython",
    "version": 3
   },
   "file_extension": ".py",
   "mimetype": "text/x-python",
   "name": "python",
   "nbconvert_exporter": "python",
   "pygments_lexer": "ipython3",
   "version": "3.10.4"
  }
 },
 "nbformat": 4,
 "nbformat_minor": 2
}
