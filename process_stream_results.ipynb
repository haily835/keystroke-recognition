{
 "cells": [
  {
   "cell_type": "code",
   "execution_count": 20,
   "metadata": {},
   "outputs": [],
   "source": [
    "import pandas as pd\n",
    "import google.generativeai as genai\n",
    "import os\n",
    "import re\n",
    "from configs.api_keys import GEMINI_API_KEY\n",
    "\n",
    "# metrics \n",
    "def edit_distance_similarity(str1, str2):\n",
    "    m, n = len(str1), len(str2)\n",
    "    dp = [[0] * (n + 1) for _ in range(m + 1)]\n",
    "\n",
    "    for i in range(m + 1):\n",
    "        for j in range(n + 1):\n",
    "            if i == 0:\n",
    "                dp[i][j] = j  # If str1 is empty, insert all characters of str2\n",
    "            elif j == 0:\n",
    "                dp[i][j] = i  # If str2 is empty, remove all characters of str1\n",
    "            elif str1[i - 1] == str2[j - 1]:\n",
    "                dp[i][j] = dp[i - 1][j - 1]  # If last characters are the same, ignore them\n",
    "            else:\n",
    "                dp[i][j] = 1 + min(dp[i][j - 1],  # Insert\n",
    "                                   dp[i - 1][j],  # Remove\n",
    "                                   dp[i - 1][j - 1])  # Replace\n",
    "\n",
    "    edit_dist = dp[m][n]\n",
    "    max_len = max(m, n)\n",
    "    similarity = 1 - (edit_dist / max_len)\n",
    "\n",
    "    return similarity\n",
    "\n",
    "def edit_distance(str1, str2):\n",
    "    m, n = len(str1), len(str2)\n",
    "    dp = [[0] * (n + 1) for _ in range(m + 1)]\n",
    "\n",
    "    for i in range(m + 1):\n",
    "        for j in range(n + 1):\n",
    "            if i == 0:\n",
    "                dp[i][j] = j  # If str1 is empty, insert all characters of str2\n",
    "            elif j == 0:\n",
    "                dp[i][j] = i  # If str2 is empty, remove all characters of str1\n",
    "            elif str1[i - 1] == str2[j - 1]:\n",
    "                dp[i][j] = dp[i - 1][j - 1]  # If last characters are the same, ignore them\n",
    "            else:\n",
    "                dp[i][j] = 1 + min(dp[i][j - 1],  # Insert\n",
    "                                   dp[i - 1][j],  # Remove\n",
    "                                   dp[i - 1][j - 1])  # Replace\n",
    "    return dp[m][n]\n",
    "\n",
    "def word_error_rate(reference, hypothesis):\n",
    "    reference_words = reference.split()\n",
    "    hypothesis_words = hypothesis.split()\n",
    "    edit_dist = edit_distance(reference_words, hypothesis_words)\n",
    "    return edit_dist / len(reference_words)\n",
    "\n",
    "\n",
    "def character_error_rate(reference, hypothesis):\n",
    "    reference_chars = list(reference)\n",
    "    hypothesis_chars = list(hypothesis)\n",
    "    edit_dist = edit_distance(reference_chars, hypothesis_chars)\n",
    "    return edit_dist / len(reference_chars)\n",
    "\n",
    "\n",
    "def get_gemini_correction(text, api_key):\n",
    "    genai.configure(api_key=api_key)\n",
    "    model = genai.GenerativeModel('gemini-1.0-pro-latest')\n",
    "    response = model.generate_content(f\"\"\"Please fix this email English text. Use only lowercase letters, commas, and periods. Answer in one line: \\n {text}\"\"\",\n",
    "                                      safety_settings={\n",
    "                                        'HATE': 'BLOCK_NONE',\n",
    "                                        'HARASSMENT': 'BLOCK_NONE',\n",
    "                                        'SEXUAL' : 'BLOCK_NONE',\n",
    "                                        'DANGEROUS' : 'BLOCK_NONE'}\n",
    "                                        )\n",
    "\n",
    "   \n",
    "    return response.text\n",
    "\n",
    "def process_prediction(csv_file):\n",
    "    clf_result = pd.read_csv(csv_file)\n",
    "    chars = clf_result[clf_result['Prob'] > 0.9]['Key prediction'].to_list()\n",
    "\n",
    "    processed = []\n",
    "\n",
    "    i = 0\n",
    "    while i < len(chars):\n",
    "        char = chars[i]\n",
    "        if char == 'dot': processed.append('.')\n",
    "        elif char == 'comma': processed.append(',')\n",
    "        elif char == 'space': processed.append(' ')\n",
    "        elif char == 'delete':\n",
    "            if len(processed):\n",
    "                processed.pop()\n",
    "        else:\n",
    "            processed.append(char)\n",
    "        i += 1\n",
    "    return ''.join(processed)\n",
    "\n",
    "def filter_string(input_string):\n",
    "    # Keep only lowercase and uppercase letters, dots, and commas\n",
    "    filtered_string = re.sub(r'[^a-zA-Z., ]', '', input_string)\n",
    "    return filtered_string\n",
    "\n",
    "def evaluate(csv_file, ground_truth_path):\n",
    "    prediction = process_prediction(csv_file)\n",
    "    print('prediction: ', prediction)\n",
    "    correction = get_gemini_correction(prediction, GEMINI_API_KEY)\n",
    "    \n",
    "    correction = filter_string(correction)\n",
    "    print('correction: ', correction)\n",
    "\n",
    "    # Open the file in read mode ('r')\n",
    "    with open(ground_truth_path, 'r') as file:\n",
    "        # Read the entire content of the file\n",
    "        gt = file.read()\n",
    "\n",
    "    print(edit_distance_similarity(correction, gt))\n",
    "    print(word_error_rate(gt, correction))"
   ]
  },
  {
   "cell_type": "code",
   "execution_count": 21,
   "metadata": {},
   "outputs": [
    {
     "name": "stdout",
     "output_type": "stream",
     "text": [
      "prediction:  kknonddeeerrr  aaqqquiiannnccyy kk,,  ii   hhhhoopppee  yooou     aaaarree   ddopn  wweeelll   a..    iww    wwwanntteeeeedd  tto   upppddaattee   yyo   oo  lattesttt  aprroojeecctttlk,,,, whhcchhh   hhhass     bbteeennn  qquuitteee    attthhee   jjjjoonuunnnneee k,,...   tthhee  worrkkk   innnvvllllllvvveeees  aaaa  sseeerrrireen  f  ccoommpeeedxx   ttaaask   ss  k,  eeaa dch wiitthh     its   uupnnniqquuies   aaccchhhhaallllellllleenngea...   oour   kteaamm  kk,,,   iinnncccllludduuueddinngg  kkkeennn    aandd  zzeeeelldddaaa,,,  hhhas  bgbgeeeen   aadddeiiddlkiaggeentloyy   ajwwwokkinnng ttottt   jaakkkelleeee  ktttesee   isssssuueel   rrreeedccceeeelllyyy     kkwweee  faacceedd      ffaasseeerfvvvveeeraall   aqquuuiiirrkkyy    ssiiiatttuuattiiooonnss   atthht   eeeguuiiireeasddd  iimmmmeeedeaaatteee   aaaattttttiin   tthhakaaffulllyy  kk,,  wwee   mmannggeeeeeaddd  ttto  adddeeesws  theemm   iitthh tthhe hheppp   oooof  ooour  innnnnoattiivvee     tteeechnnnniiequuuee   aaaanndd  eqqucckk   addjjaeeennttsssk   tthhee  ppooocceeeessssa  ahhaw  bgeeenn  uitteee  arrellggoopoussss  ,,    buttt  tweee  aere  adjmmmakiiinn  aasssiiggnnkkiaiiccattntt      sssstttreeeks,...   oorppp   ppoooejctttt  iss   akkddeeivveeenn    bbyy  adddvvnnnnnceeeeddeddd   aalllloeiitthhmwssjj   addd   dccccuuttttttinngg  eeddggee tteeeeecccahhknnnnollllpggyy  k... tthe keeeyyy   wwpppeeeettta   iinnnncccoouueeeee   aaaaaxxxxaaayyy   aaadddaattaaaaa   aannallyyyyssss  k,,   zkkkppppiinnngg tthhoouggghh   eeexxtttteeennnsssivveee  ddddaaatttaasetttwa,,,   nn ppprreeecciiwweee aaaaa   maaawssssurrmeeeentt  ss   ..wweeee   hhvvveee  haaddd   tto    nnaavvvieegaatttteeee    attthhhooouugghhe ttreiicyy   kkaksssceeenaarrriiosss ak,, bbuutt   wwee aeree  ccnfkiddeeenntt  kkan  dtthhee   ddddireeecctttiinnnn    awweeee  aaarree   ahheeaaddnnngg..   yyoo  havvvee anayy   qquuee  oor   nneeeeeeddd   aammoree   ddetttaaillj,,,  plleeaasweee  feeeelll   ffreeeeee  to   eeaacchhh     oott  ... wee ee  aaavvakkklldabble     aafa  qquuccckkkkk    ccaaalllll    k  ttthhtt  wwwoooledd bbee  mmmooree   onvvveeeeknnnnieennt...   yyoouu   kkkrn   eeeeddbbbbaccckkka    andd   innnittteghhtttw  aaaarree  ahgghhloyy  fvvallfuueeeddd  aaaddd  wwiiilll   hhepp  uussw  akkeeennsuree        ttheee    pporojeettt    mmmeeeemttw  aallll    aeeexxpeeetttiatttionsss...  tthhaannkk   yyou    oo    yyoour   aaaccconnntiiinnrruuee assppppooortt    aaandd  auudneeeraatttaaanndddddinng  .., wee    allook   foorrwwwaaaddd  tttshhaaareiiinng  moree  ldaatee  s whh  yyoo   sooooonn  ...   bbbesttt   raggaaarrdds   m,,   jadckkk   aaqqk,,  zzzzzikmmeeerr...\n",
      "correction:  kindly acknowledge you are doing well a.. i intended to update you on latest project late,,,,, which has been quite at the juncture k... the work involves a series of complex tasks s k, e and d with its unique challenges... our team k,,, including kenn and zelda,,, has been diligently working to tackle these issues lately k,,,,, we faced several quirky situations that required immediate actions unfortunately k,, we managed to address them with the help of our innovative technique and quick adjustments the process has been quite religious ,, but we are making significant strides,... our project is aided by advanced allotment schemes add and cutting edge technology k... the key aspect is inhouse analytical data analysis k,,, enabling us to pin through extensive dataset to,,,,, precisely measure sustainable results .. we have had to navigate through tricky scenarios ak,, but we are confident that the directions we are heading.. if you have any queries or need more details,,, please feel free to reach out ... i am available for a quick call k that would be more convenient... your feedback and insights are highly valued and will help us ensure the project meets with all expectations... thank you for your continued support and understanding.., we look forward to sharing more updates with you soon ... best regards m, jadck ack,, zzzzzikmeeerr...\n",
      "0.8147058823529412\n",
      "0.41414141414141414\n"
     ]
    }
   ],
   "source": [
    "evaluate('stream_results/topview/video_6_clf.csv', 'datasets/video-2/ground_truths/video_6.txt')"
   ]
  },
  {
   "cell_type": "code",
   "execution_count": 28,
   "metadata": {},
   "outputs": [
    {
     "name": "stdout",
     "output_type": "stream",
     "text": [
      "0.9360655737704918\n"
     ]
    }
   ],
   "source": [
    "fixed = 'konder aquaincy, i hope you are doing well. i wanted to update you on our latest project, which has been quite the journey. the work involves a series of complex tasks, each with its unique challenges. our team, including ken and zelda, has been diligently working to tackle the issues we recently faced, overcoming several quirky situations that required immediate action. thankfully, we managed to address them with the help of our innovative techniques and quick adjustments. the process has been rigorous, but we are making significant strides. our project is driven by advanced algorithms and cutting-edge technology. the key aspect is accurate data analysis, sifting through extensive datasets with precise measurements. we have had to navigate tricky scenarios, but we are confident in the direction we are heading. if you have any questions or need more details, please feel free to reach out. we are available for a quick call if that would be more convenient. your feedback and insight are highly valued and will help us ensure the project meets all expectations. thank you for your continued support and understanding. we look forward to sharing more updates with you soon. best regards, jack quimby zimmer.'\n",
    "with open('datasets/video-2/ground_truths/video_6.txt', 'r') as file:\n",
    "    # Read the entire content of the file\n",
    "    gt = file.read()\n",
    "    print(edit_distance_similarity(gt, fixed))"
   ]
  },
  {
   "cell_type": "code",
   "execution_count": 23,
   "metadata": {},
   "outputs": [
    {
     "name": "stdout",
     "output_type": "stream",
     "text": [
      "prediction:  qqdddeerr     tteemmammm,,     ii   hooopppeaayyoo   ll     haaddd  aa   faannstttaaaaaaassstttiicc  e,  ojou   eedccnettt   tteeeemllllyyyeeeee   eee pppppprreeedcciiaaaatttioon   eeeee vvnnntt..  ii  tt   aawassssd   ssttuuuulyy   aa  aplleeewure    ttt   seeeee   deeevveeroonnee    ccoome  ttetthheer aaaa  aaddd  eenujoyy  dtthee    ffeeeeatttssatt  vvittttieo..  yyyooour    aeeehhuussiissaasssmmm    aaandd  tt vvveee   aeeeevvneeerryyyyyy      aammedddeee e   tttheeee veeeett   aaa   reeeaouunnnddiinngg   acccsess ...  wweee    sswwnnntt edd  to  ttaaakk    maw  mmomeeenntt      ttteoo  ttteeeettteeenndd   ooouurr   hearteeeelll t   gggraaddtifuuutuedeee    to   eee hh       oof yyoouure rrdd  wwoorrkkee  dd  deeedddediccaattttn..  eee veenttt     ikkeee    tthheeeee  arre a   sss mmmall   ttloeeenn     oeff   aaappppprreeedcciieatttioonn      ffoe  tthhee  iiiinnceeeddddiidccbbllee   eeefffette oo opuut   kkkkiinnntto   yyoourr   rrollddddeess eeeveyye  ddaqttyyyy...   aw  wwweee  movveee   forrewwarrdd   ,,,  eetts  caarrryy    afoorwaarrrrdd   tthiiss  ssppppiirreeitt   a   of   ccaammma   aaddeeerrieeeas     aaand teemmm  a   wrk...   yyooouu   oontriibbuttoon  s   are   iinnaalouuuatttleee    tto   oour    ccooommmap nnppaanny     sssucccesss  ,,,  nndd wwweee    looook  aaffwwarreddd    ttto  acchheeeeveeeinngg   eeevveenn   ggrreeeeatteeerrre    mmmmklaetttess ass  tggeeeetthhere...   oonnncee  gaaiinnk,,   tthhannkk   yyoou  ooor    bbeeeegnngg  aannn    kitteeeeeggerrnaal    ppparrtt  oof   ttoouur  ttteem ..   hhraaaaeens  too  oontttineueeee   ssuudcceeeesss    andd  mmmayy     mmore  aaammeeemeeeoorraaabbbllee   mmmommeeens   hhahheedsdd  ..e  bbeeessattt   rreeggaarrrdddss  k,,,   kkkaatttttyyy\n",
      "correction:  qqdddeerr tteemmammm, i hope you all had a faannstttaaaaaaassstttiicc e, ojou edccnettt tteeemllllyyyeeeee eee pppppprreeedcciiaaaatttioon eeee vvnnntt.. i tt aawassssd sstuuuulyy aa aplleeewure ttt seeeee deeevveeroonnee ccoome ttetthheer aaaa aaddd eenujoyy dtthee fffeeeeatttssatt vvittttieo. your aeeehhuussiissaasssmmm aaand tt vvveee aeeeevvneeerryyyyyy aaammedddeee e tttheeee veeeett aaa reeaouunnnddiinngg acccess... weee sswwnntt edd to ttaaakk maw mmmomeeenntt ttteoo tteeteeeettteeenndd ooouurr hearteeeelll t ggggraaddtifuuutuedeee to eee hh oof yyoouure rrdd wwoorrkkee dd deeedddediccaattttn. eee veenttt ikkeee tthheeeee arre a sss mmmall ttloeeenn oef aaappppprreeedcciieatttioonn ffoe tthhee iiiinnceeeddddiidccbbllee eeefffette oo opuut kkkkiinnntto yyoourr rrollddddeess eeeveyye ddaqttyyyy. aw wwweee movveee forrewwarrdd,,, eetts caarrryy afoorwaarrrrdd tthiiss ssppppiirreeitt a of ccaammma aaddeeerrieeeas aaand teemmm a wrk. yyooouu oontriibbuttoon ss are iinnaalouuuatttleee tto oour coooommmap nnppaanny sssucccesss,,, nndd wwweee loooook aaffwwarreddd tttto accchheeeeveeeinngg eeeevveenn gggrreeeeatteeerrre mmmmklaetttess ass tggeeeetthhere. oonnncee gaaiinnk,, tthhannkk yyoou oorr bbbeeeegnngg aannn kitteeeeeggerrnaal pppparrtt oof ttoouur tttteem. hhraaaaeens too oontttineueeee ssudcceeeesss aadd mmmayyy mmore aaammeeemeeeoorraaabbbllee mmmommeeens hhahheedsdd. e bbeessattt rreeggaarrrdddss k,,, kkkkaatttttyyy\n",
      "0.4892881824464409\n",
      "1.0666666666666667\n"
     ]
    }
   ],
   "source": [
    "evaluate(\n",
    "    'stream_results/topview/video_7_clf.csv', \n",
    "    'datasets/video-2/ground_truths/video_7.txt'\n",
    ")"
   ]
  },
  {
   "cell_type": "code",
   "execution_count": 27,
   "metadata": {},
   "outputs": [
    {
     "name": "stdout",
     "output_type": "stream",
     "text": [
      "0.8962962962962963\n"
     ]
    }
   ],
   "source": [
    "fixed = \"dear team, i hope you all had a fantastic time, enjoyed the event. it was truly a pleasure to see everyone come together and enjoy the feats at the event. your enthusiasm and the energy made the event a resounding success. we want to take a moment to extend our heartfelt gratitude to each of you for your work and dedication. the event like this is a small token of appreciation for the incredible effort put into your roles every day. as we move forward, let's carry this spirit of camaraderie and teamwork. your contributions are invaluable to our company’s success, and we look forward to achieving even greater milestones together. once again, thank you for being an integral part of our team. here's to continued success and many more memorable moments ahead. best regards, katy\"\n",
    "with open('datasets/video-2/ground_truths/video_7.txt', 'r') as file:\n",
    "    # Read the entire content of the file\n",
    "    gt = file.read()\n",
    "    print(edit_distance_similarity(gt, fixed))"
   ]
  },
  {
   "cell_type": "code",
   "execution_count": 24,
   "metadata": {},
   "outputs": [
    {
     "name": "stdout",
     "output_type": "stream",
     "text": [
      "prediction:  deearrr qquuiccanccyy,,,,  i  hhioopeee uuuuyouua     are eddooinngnaweell,...  ffii wwwannntteeedd   etto uhpddaaeee tteeefyoouu  oonn ooouuurraaatttesssat   fpporroooneeccttttt,,, wwhhicchh   hass beeeef      quutteee ttheeefjooarrnnreey...  tthheeeawwworrkkk  finnnvvaolllvveessa a  ssseerreiiseeess aon ccoomppleexx tasaksa eeeaaccchh awwieth  itts aauuniiaueee  cccchaallleeenngees ...   oourr tteeemaam,, inccclluddinnggekkeedvveen   aannd zeellddda,, haaa    avveeenn  ddeilliigeenttllyy lcaawwoorkinngg tottacckkleee  aatthheeeee eisssuess..  rreeeccenntauyy  wwee dfacceedaaa assevveerall  aaquiirkeyy ssittuuaaraaattioonnss  tah frequiirredd  iifmmmmediiaaatee  aaatteeeeddtttioon.. tthhaaannnkaaffullllyyf,,, wwee  maaamaaannaaaaggeeddd to   aaddddddrheem wwiithhh  tttheehhelp   ooff ourr  fiiffnnooaaive tteecchanaaiiaueess aaaandd qqquiccka  aaaaddaauussatammeenttsa... tthee epprroocceeesssa  haassa  eeeen  fquuiiettteeerggooraoouu,, bu aaaeeaaare aaaaaaaknngg  ssaggnnnniiafficcaant sstrrriiddessao...  oouurr  pprroooeeect iss  ddrriveenn  bayy addddddvvaaannccceedd aaallgoorrriithmmsaandd cccuttttiingggeeedddvgee  eteecccafnolloogguyf.. thheee kkeyu assahppeectt ss  iincclluee xxxeraaayy  edattaaa  aaaallaaysssssa, zzipppaannggttrrooharroouuggh eexxxttenaaivee  ddatsetc,, aanndppreecciisseee fmmeeeaassureemeeen.. wweer aaaaaavvee ehadd   ttoo anaavviaaaatttttteeaatthrrouugghh ttriiccccckayy sseeeccceennaaaarrios,,  cuut  awweee  aree   ccoonnndfieenntt  iinn  dd theeeeedddiireeccttionn  wweeerehee addainnga...  iff  yyouoouu  haavveee annyy  eequeeesstioonss   orrnneeeddd  mmorree deettaai,,, pleeeaaseefeeeell ffreeeee tto racchh oouuut  f.. wwwer aarree  eaaaaaavaailllaavvllee   ffaorraaquiiccckaa aacccccccaalll  aiff thhat   waooulld vvee mmorree ccoonneennniteeeennttl..  yyyyouuur afjeeeeeddbavckkk  aaaad   innsaightssaaare ehhgllyy  vaalliudedd ad wwilllll  heelpuushfeenssuure a thhae elproeeecat aaammeeeetss alal   exzppeeecctiiaaaattiioonvvssa... tthaannkyycoouu fffoorr yyooaurr aacccconttniinuued   ssuaupporrt aaandd unddnddceerraatraannddinngg... wee lfookk ffnorraaawaaadd atto asahaarrinamaoorrree uddateettees  aawitthh  yyouu  sssooonaa..  cvbbbaeestt  reaggaardsa,  jaaccckk ffq..  czimameeerr.,\n",
      "correction:  dear quiccancy, i hope you are doing well. wanted to update you on our project, which has been quite the journey. the work involves a series of complex tasks, each with its unique challenge. our team, including keven and zeldda, have been diligently working to tackle these issues. recently we faced several awkward situations that required immediate attention. thankfully, we managed to address them with the help of our innovative techniques and quick adjustments. the process has been gradually progressing, but we are making significant strides. our project is driven by advanced algorithms and cuttingedge technology. the key aspects include xray data analysis, zipping through extensive datasets, and precise measurements. we have had to navigate through tricky scenarios, but we are confident in the direction we are heading. if you have any questions or need more details, please feel free to reach out. we are available for a quick call if that would be more convenient. your feedback and insights are highly valued and will help ensure that the project meets all expectations. thank you for your continued support and understanding. we look forward to sharing more updates with you soon. best regards, jack f. czimamer,\n",
      "0.9528071602929211\n",
      "0.1\n"
     ]
    }
   ],
   "source": [
    "evaluate('stream_results/video_6_clf.csv', 'datasets/video/ground_truths/video_6.txt')"
   ]
  },
  {
   "cell_type": "code",
   "execution_count": 25,
   "metadata": {},
   "outputs": [
    {
     "name": "stdout",
     "output_type": "stream",
     "text": [
      "prediction:  deear tteeaama,,,  ffaiie hoopee uyuyouu  aalll afhhaaadd aa faattsstticf tiaammee oiuurrrrreccceenttt emmpplleeoyyeee aapppeecciaatiioonneevveennett...  iitt cwaaasssttrrully aa plleeaasurre  ttt  sseeeee  eeevveerryyooneee  ccoommeee  togggaeetthherr srtaanndd fjeeennaooyya   ttheee ffeestt aavvvifaattiss.  yyoouuurrrr  eeentthhuusiaassmmma  aaand s poosssiittiivvee  eenneergyy  maadee  tthtthheeeeeeveentt aaa  arressnnadiinnggea  suucccccessa.. wweee  waaaanntteddd  ttoetaakkee aaa  mmeennntt  tttoo seexxteendd oouuurrqqhheeaarrtaaffaeellt gattiitttttuude  attoeeeeeecchh   oooff  yyouuurr aaaardd  wwworrrkk  aaanndd  deedddiiccaatiioonna...  eeedvveenttsllike tpeeseee aareeaaa  sammaalla   tttooekkeen ooouuuf aappppreeeciiattionnn  ffoor ttheeffiincccrrddiblle eefforr  ettuyyouu ppuutt inntto   yyoouuurr rroollee eeevaeeryayyla.... aass mwwweemoooevveeeee foorawwaa,, letssaccaaaryy aaforrawwwaaarddfatthiissasspararritt  off cccaammaarradeeiirie  aaddd tteaamma vawwoorrk .. yyouuurr accccontrrivbuutiioonssaaa aaareeaaaaicnavaaaallluaavbblavllleeee attooyoourr cccoomppaanyy ssauccccceea,aanddwwee loookkk  affoorrwwaardda att joo  aacchiieevvaaaanneveenaavggreaaatteer nmflsestoonneee  ss ttodddgeeetheeer..  oonncccee aaaggaaaiian,,,   thhaank  yyyoouu fforrr beeiiinggg aainnttteeeeeggaaall  ppaaarrtt  of oourrr ttteaaama..  heereeeess   ttoo  coonttijnnuuee   suucccccess aandd  mmmaaanyy  mmooreee  mmeemvbaoarraavbablee  mmeeoomeeenttss haaaheeeaadd....  cbbaestt rraaggarss,,kaattttyy....\n",
      "correction:  dear team, i hope you all had a fantastic time at our recent employee appreciation event. it was truly a pleasure to see everyone come together and enjoy the festivities. your enthusiasm and positive energy made the event a resounding success. we wanted to take a moment to extend our heartfelt gratitude for your hard work and dedication. events like these are a small token of appreciation for the incredible effort you put into your roles every day. as we move forward, lets carry this spirit of camaraderie and teamwork forward. your contributions are invaluable to our companys success, and we look forward to achieving even greater milestones together. once again, thank you for being an integral part of our team. heres to continued success and many more memorable moments ahead. best regards, katty.\n",
      "0.9591078066914498\n",
      "0.08955223880597014\n"
     ]
    }
   ],
   "source": [
    "evaluate(\n",
    "    'stream_results/video_7_clf.csv', \n",
    "    'datasets/video/ground_truths/video_7.txt'\n",
    ")"
   ]
  }
 ],
 "metadata": {
  "kernelspec": {
   "display_name": "Python 3",
   "language": "python",
   "name": "python3"
  },
  "language_info": {
   "codemirror_mode": {
    "name": "ipython",
    "version": 3
   },
   "file_extension": ".py",
   "mimetype": "text/x-python",
   "name": "python",
   "nbconvert_exporter": "python",
   "pygments_lexer": "ipython3",
   "version": "3.10.4"
  }
 },
 "nbformat": 4,
 "nbformat_minor": 2
}
