{
 "cells": [
  {
   "cell_type": "code",
   "execution_count": 23,
   "metadata": {},
   "outputs": [],
   "source": [
    "import pandas as pd\n",
    "import re\n",
    "\n",
    "# metrics \n",
    "def edit_distance_similarity(str1, str2):\n",
    "    m, n = len(str1), len(str2)\n",
    "    dp = [[0] * (n + 1) for _ in range(m + 1)]\n",
    "\n",
    "    for i in range(m + 1):\n",
    "        for j in range(n + 1):\n",
    "            if i == 0:\n",
    "                dp[i][j] = j  # If str1 is empty, insert all characters of str2\n",
    "            elif j == 0:\n",
    "                dp[i][j] = i  # If str2 is empty, remove all characters of str1\n",
    "            elif str1[i - 1] == str2[j - 1]:\n",
    "                dp[i][j] = dp[i - 1][j - 1]  # If last characters are the same, ignore them\n",
    "            else:\n",
    "                dp[i][j] = 1 + min(dp[i][j - 1],  # Insert\n",
    "                                   dp[i - 1][j],  # Remove\n",
    "                                   dp[i - 1][j - 1])  # Replace\n",
    "\n",
    "    edit_dist = dp[m][n]\n",
    "    max_len = max(m, n)\n",
    "    similarity = 1 - (edit_dist / max_len)\n",
    "\n",
    "    return similarity\n",
    "\n",
    "def edit_distance(str1, str2):\n",
    "    m, n = len(str1), len(str2)\n",
    "    dp = [[0] * (n + 1) for _ in range(m + 1)]\n",
    "\n",
    "    for i in range(m + 1):\n",
    "        for j in range(n + 1):\n",
    "            if i == 0:\n",
    "                dp[i][j] = j  # If str1 is empty, insert all characters of str2\n",
    "            elif j == 0:\n",
    "                dp[i][j] = i  # If str2 is empty, remove all characters of str1\n",
    "            elif str1[i - 1] == str2[j - 1]:\n",
    "                dp[i][j] = dp[i - 1][j - 1]  # If last characters are the same, ignore them\n",
    "            else:\n",
    "                dp[i][j] = 1 + min(dp[i][j - 1],  # Insert\n",
    "                                   dp[i - 1][j],  # Remove\n",
    "                                   dp[i - 1][j - 1])  # Replace\n",
    "    return dp[m][n]\n",
    "\n",
    "def word_error_rate(reference, hypothesis):\n",
    "    reference_words = reference.split()\n",
    "    hypothesis_words = hypothesis.split()\n",
    "    edit_dist = edit_distance(reference_words, hypothesis_words)\n",
    "    return edit_dist / len(reference_words)\n",
    "\n",
    "\n",
    "def character_error_rate(reference, hypothesis):\n",
    "    reference_chars = list(reference)\n",
    "    hypothesis_chars = list(hypothesis)\n",
    "    edit_dist = edit_distance(reference_chars, hypothesis_chars)\n",
    "    return edit_dist / len(reference_chars)\n",
    "\n",
    "def filter_string(input_string):\n",
    "    # Convert to lowercase and remove newlines\n",
    "    input_string = input_string.lower().replace('\\n', ' ')\n",
    "    # Keep only lowercase letters, dots, commas, and spaces\n",
    "    filtered_string = re.sub(r'[^a-z., ]', '', input_string)\n",
    "    return filtered_string\n",
    "\n",
    "def process_prediction(csv_file):\n",
    "    clf_result = pd.read_csv(csv_file)\n",
    "    chars = clf_result[clf_result['Prob'] > 0.8]['Key prediction'].to_list()\n",
    "\n",
    "    processed = []\n",
    "\n",
    "    i = 0\n",
    "    while i < len(chars):\n",
    "        char = chars[i]\n",
    "        if char == 'dot': processed.append('.')\n",
    "        elif char == 'comma': processed.append(',')\n",
    "        elif char == 'space': processed.append(' ')\n",
    "        elif char == 'delete':\n",
    "            if len(processed):\n",
    "                processed.pop()\n",
    "        else:\n",
    "            processed.append(char)\n",
    "        i += 1\n",
    "    \n",
    "    prediction = filter_string(''.join(processed))\n",
    "    return prediction\n",
    "\n",
    "def evaluate(prediction, ground_truth_path):\n",
    "    prediction = filter_string(prediction)\n",
    "    \n",
    "    # Open the file in read mode ('r')\n",
    "    with open(ground_truth_path, 'r') as file:\n",
    "        # Read the entire content of the file\n",
    "        gt = file.read()\n",
    "\n",
    "    print(edit_distance_similarity(prediction, gt))\n",
    "    print(word_error_rate(gt, prediction))"
   ]
  },
  {
   "cell_type": "markdown",
   "metadata": {},
   "source": [
    "# Topview\n",
    "\n",
    "Chat can be found here: https://chatgpt.com/share/2b75070b-6326-4a22-9a20-814f23f83c6d"
   ]
  },
  {
   "cell_type": "code",
   "execution_count": 17,
   "metadata": {},
   "outputs": [
    {
     "data": {
      "text/plain": [
       "'kkkknondddeeerrr  aaqqqueiiannnccyy  kk,,  ii   ahhhhioopppee   yyooou     aaaarree   ddoopng  www  wweeelll   a..    iiww    wwwanntteeeeedd  tto   uupppddaatttee   yyno    oo  alttesstttt   apprroojjeecctttlak,,,,  whhhcchhh   hhhass       bbteeennn   qquuuitteee    attthhee    jjjjoonuunnnneee  k,,,...   tthhee  worrkkk   kinnnvvollllllavvveeeeasa  aaaaa  sseeerrrirreen  off  ccoommppeeedxx   ttaaask   adss  k,,  eeaa dch  wiittthh     itss   uupnnniqquuuieess   aaccchhhhaalllleellllleenngesa...   oour   kteaamm  kkk,,,   iinnncccllluudduuuieddinngg  pkkkeennnn    aandd    zzzeeeelldddaaa,,,,  hhhasws  bgebgeeeeen   aadddaeiiddlkiaggeeentttloyy   ajwwwokkinnng ttoottt   jaakkkelleeee  kttteswee   isssssuueeel   rrreeedccceeeetlllyyy     kkwweee   faacceeddf      ffaasseeerfvvvvveeeraalla   aqqquuuiiirrkkyy    sssiiiattttuuattiiooonnss   attthht   eeeguuiiireeaaasddd  iimmmmeeddeeedeaaatteee   aaaattttttiinn   tthhakaaffuulollyy  kk,,  wwee   mmmannggeeeeeaddd  ttto  adddeeesws   theemm   diitthh  tthhed  hheppp   oooof  looour   iinnnnnooattiivvee     kktteeecchinnnniiequuuee   aaaanndd  eqquccckk   aaaddjjjaeeennttsssk   tthhee  pprooocceeeessssa  aahhaw  bgeeenn   uitteee  arrri ellggoopooussss  ,,    bbuuttt  tweee  aere  adjmmmakiiinn  aasssiiggnnkkkiaiicccatttnntt      asssstttrrieeeks,...   oorppp   ppooooejcctttt  iss   akkddeeivveeenn    dbbyy  aadddvvvnnnnnceeeeddeddd   kkaalllloeiitthhmmwsjjjj   addd   dccccuuttttttinnggg  keeddggee  dtteeeeeecccaihhknnnnnoollllopggyy  k... tthhee  keeeyyy   wwpppeeeeedtttas   iinnnncccooouueeeee   aaaaaaxxxxaaayyy   aaaasdddaattaaaaaa    aannaallyyyysssss  k,,   zakkkippppiinnngg tthhooouggghh   eeexxktttteeennnssssiivveeee   ddddaaatttaa setttwa,,,,   nnd ppprreeecciiiwweee aaaaa   kmmnaaaawssssurremeeeentt  ess   ..wweeee   hhhvvveee  hhaasddd   ttto    nnaanvvvieeggaatttteeee    attthhhooouugghhe ttreiickuyy   kkaakssskceeeennaaarrriiosss  ak,, bbuutt   wwee aeree  cccnnfkiddeeenntt   kkkan  dttthhee   ddddireeecctttiinnnn    afkswweeee  aaarree   a hheeaaddfnnngg...    yyyoo  havvvee anayy   qquueesstt  oor   nneeeeeeddd   aammmoree   ddetttaailljassw,,,  plleeaasweee  feeeellle   ffreeeeee  tto   eeaacchhh      oott  ... we ee  kaaavvaakkkklldabble     aafja  qquuiccckkkkk    cccaaallllll    k  ttthhttt   wwwooolledd bbee   mmmooree   donvvveeeeeknnnniiteennt ...   yyoouu   kkkrn   eeeedd bbbbaccckkka    aandd    innnitttghhtttw  aaaarree  ahgghhloyy  afs avvallfuueeeddd  aaaddd  wwiiilll   hheppeq  uussw  akkkeeennsuree        ttheee    pporojeetttt     mmmeeeeemttwww  aallll     aeeedxxpeeetttiatttionsss...  tthhaannkk   yyou    oo    yyooouur   aaaccconnntiiinnrruuee assuppppooortt    aaanndd  auuddneeeraatttaaannndddddinng  .., wee    allook    llsfooorrwwwaaaarddd   sttt shhaaarreiiinnng  mmooree   llldddaatee  ss wtthh  yyoo   sooooonn  a...   bbbeesttt   raaggaaarrddss   m,,,   jadckkk   jaaqqk,,  zzzzzzikkmmmmeeerrr...'"
      ]
     },
     "execution_count": 17,
     "metadata": {},
     "output_type": "execute_result"
    }
   ],
   "source": [
    "prediction = process_prediction('stream_results/topview/video_6_clf.csv')\n",
    "prediction"
   ]
  },
  {
   "cell_type": "code",
   "execution_count": 22,
   "metadata": {},
   "outputs": [
    {
     "name": "stdout",
     "output_type": "stream",
     "text": [
      " nondeer aqueian, i hope you are doing well. i wanted to update you on the latest project, which has been quite challenging. the work involves a series of complex tasks, each with its own unique challenges. our team, including ken and zelda, has been diligently working to tackle the issues weve recently faced. weve encountered several quirky situations that required immediate action. thankfully, we managed to address them with the help of our innovative techniques and quick adjustments. the process has been quite rigorous, but we are making significant strides.  our project is driven by advanced algorithms and cuttingedge technology. the key aspect is accurate data analysis, sifting through extensive datasets, and precise measurements. weve had to navigate tricky scenarios, but we are confident in the direction we are heading.  if you have any questions or need more details, please feel free to reach out. we are available for a quick call if that would be more convenient. your feedback is highly valued and will help us ensure the project meets all expectations.  thank you for your continued support and understanding. we look forward to sharing more updates with you soon.  best regards, jack zimmerman \n",
      "0.9065573770491804\n",
      "0.16666666666666666\n"
     ]
    }
   ],
   "source": [
    "correction = \"\"\"\n",
    "Nondeer Aqueian,\n",
    "I hope you are doing well. I wanted to update you on the latest project, which has been quite challenging. The work involves a series of complex tasks, each with its own unique challenges. Our team, including Ken and Zelda, has been diligently working to tackle the issues we've recently faced. We've encountered several quirky situations that required immediate action. Thankfully, we managed to address them with the help of our innovative techniques and quick adjustments. The process has been quite rigorous, but we are making significant strides.\n",
    "\n",
    "Our project is driven by advanced algorithms and cutting-edge technology. The key aspect is accurate data analysis, sifting through extensive datasets, and precise measurements. We’ve had to navigate tricky scenarios, but we are confident in the direction we are heading.\n",
    "\n",
    "If you have any questions or need more details, please feel free to reach out. We are available for a quick call if that would be more convenient. Your feedback is highly valued and will help us ensure the project meets all expectations.\n",
    "\n",
    "Thank you for your continued support and understanding. We look forward to sharing more updates with you soon.\n",
    "\n",
    "Best regards,\n",
    "Jack Zimmerman\n",
    "\"\"\"\n",
    "evaluate(correction, 'datasets/video-2/ground_truths/video_6.txt')"
   ]
  },
  {
   "cell_type": "code",
   "execution_count": 20,
   "metadata": {},
   "outputs": [
    {
     "data": {
      "text/plain": [
       "'qqqdddeerr     tteemmammm,,     ii   hooopppaayyoo   lll     haaddd  aaa   faaannstttaaaaaaasssstttiicc  mee,  ojouu   reedccnettt    atteeeempllllyyyeeeeee   eee pappppprreeedcciiaaaatttioon  d  eeeee vvnnntt..   kii  ttt   aawassssd   ssstttuuuuulyy   aa  aaplleeewure    ttteo   seeeee   deeevveeeryoonnneee    ccoome  ttgettthheer aaaa  aaddd  eenujoyy  sdtthhee     ffeeeeaatttssatti  vvitttteieeo..  yyyooour    aadeehhuussiissaaasssmmm    aaandd  ptt vvveee   aseeeevvneeerryyyyyy    n   aammme dddeee e   ttthee ee veeeett   aaa    reeeaouunnnddiinngg   acccsess  ...   wweee    sswwannntt  edd  tto  ttaaakk    maw  mmomeeenntt   a   ttteoo  ttteeeezttteeenndd   ooouurr   hheaarrteeeelll t   gggrraaddttifuuuttuedeee    ftto   eee hh       oof  yyyoouure   rrdda  wwoorrkkee   dd   dneeedddeediccaattttond..  eee veennttt     ikkeee    adtthheeweee  arre a   sss mmmalll   ttlloeeenn      oeff   aaappppprreeedccdeiieatttioonn      ffoe  tthhee  iiiinncheeeddddiidccbbbllee   eee fffeleette  fnoo  opuutt   kkkkiinnnttto   yyooourr    frroellddddeess  eeeveeyye  ddaqttyyyy...   aw   wwweee  movveee   fforreewwarrdd   ,,,  eetts  ccaarrreyyy     afoorwwaarrrrdd   tthiiss  ssppppiirreeiitt    a   oof   ccaammma    aaddeeerrrieeeas     aaand tteemmm  anm   wwllrrk ...   yyooouue   oonttriibbuuttoon  sss   are    iinnaalllouuuatbttlleee      ttto   oour    ccooommmap nnppaannnyy     sssuuccccesss  ,,,  nnndd wwweee    llooook  aaffwwaarreddd    tttto  a cchhheeeeveeeinngg   eeevveennnn   ggrreeeeatteeerrre    mmmmkladeestttnness ass  tggeeeettthherem...   oonnnccee  gaaiinn k,,   tthhannkk   yyoou   ooor    kbbeeeeiggnnngg  aannn    kiitteeeeeggeerrnaal     ppparrrett  oof   ttoouurr  ttteemm  ..   hhraaaeensss   too   oonnttttinheueeee   ssuudcceeeesss    anndd  mmmayy    mmoooree  aaammeeemeeeoorraaabbbllee   jmmmoommeeens   hhhahheeddsdd   k..e  bbeeessattt   rreeeegggaarrrdddss  k,,,   kkkaatttttyyy'"
      ]
     },
     "execution_count": 20,
     "metadata": {},
     "output_type": "execute_result"
    }
   ],
   "source": [
    "prediction = process_prediction('stream_results/topview/video_7_clf.csv')\n",
    "prediction\n"
   ]
  },
  {
   "cell_type": "code",
   "execution_count": 24,
   "metadata": {},
   "outputs": [
    {
     "name": "stdout",
     "output_type": "stream",
     "text": [
      "0.8703703703703703\n",
      "0.2\n"
     ]
    }
   ],
   "source": [
    "correction = \"\"\"\n",
    "Dear Team,\n",
    "I hope you all had a fantastic time. I truly appreciated the recent event. It was an absolute pleasure to see everyone come together and enjoy the festivities. Your enthusiasm and participation made the event a resounding success.\n",
    "\n",
    "We wanted to take a moment to extend our heartfelt gratitude for your hard work and dedication. The event is a small token of appreciation for the incredible effort you put into your roles every day. As we move forward, let's carry this spirit of camaraderie and teamwork into our work. Your contributions are invaluable to our company’s success, and we look forward to achieving even greater milestones together.\n",
    "\n",
    "Once again, thank you for being an integral part of our team. Here's to continued success and many more memorable moments ahead.\n",
    "\n",
    "Best regards,\n",
    "Kathy\n",
    "\"\"\"\n",
    "evaluate(correction, 'datasets/video-2/ground_truths/video_7.txt')\n"
   ]
  },
  {
   "cell_type": "markdown",
   "metadata": {},
   "source": [
    "# Rightside view\n",
    "Chat can be found here: https://chatgpt.com/share/c9c7419a-9c45-4b5a-90d9-2bb2ff7c09f5"
   ]
  },
  {
   "cell_type": "code",
   "execution_count": 25,
   "metadata": {},
   "outputs": [
    {
     "data": {
      "text/plain": [
       "'deeaarrr qquucicccanccyy,,,,  i  hhioopeee uuuuyouua     are eddooinngnaweell,,...  ffii wwwannntteeedd   etto uhpddaaeee ttteeefyoouuu  oonn ooouuurrr aaatttesssat   fpporroooneeccttttt,,, wwhhiccchh   hhass beeeef      quutteee tthee efjooarrnnrieeeya...  tthheee awwworrkkk  ffinnnvvaccolllvveessa aa  assseerre iiseeess ajon pcccoomppleexx tasaksa eeeaaccchh awwieth  ittas aauuniiqaueee  cccchaallleeennggeess...   oourrr tteeemaa,, innccclluuddinnggefkkeeedvveenn   aanndd zzeelllddda,, haaa    avveeee nn  ddeilliigeenttllyy lcaawwoorkinngg etottaaccleee  aatthheesseee eisssueess..  rreeeccaenntauyy  awwee dfacceed aaaa assevvceerall  aaqurriirkeyy ssittuuaaraaattioonnss  tahh frequuiirreedd  iifmmmmediiaaatee  aaatteeeedddtttioonl... tthhaaannnkaaffullllyyf,,, wwee  maaamaaannaaaaggeeddd eto   aaddddddreheem  wwiithhh  tttheehhelp   ooff ourr  ffiiffnnnoovaaive tteeccchanaaiiauuiieess aaaandd qqquuiccka  aaaaaddaauussatammeenttsa...  tthee epprroocceeesssa  haassaa  eeeen  fqqfuuiieettteeeqrggooraoouuuf,, cbu aaaaeeaaare aaaamaaaknngg  ssiaggannnniiafficcaaant ssttrrrriiddesssao...  oouurr  pprroooneeect iss  ddrrivveenn  bayyy addddddvvvaaannccceedd aaallgoorrriithhmmsaaacndd cccuuttttiinngggeeedddvgee  eteeccchafnolloogguyf.. thheee kkeyuu aassaahppeectt ss  iincclluee xxxeraaayy  edattaaa   aaaaallaaysssssa, zzipppiaannggttrroooharroouuggah eeexxxttenaaivee  ddatsetc,, aannddppreeecciisseee fmmeeeaassureemeeen.. wweer aaaaaavveee ehaadd   ttoo anaavvviaaaaatttttt ee aatthrrouugghh ttriiccccckayy sseeeccceeennaaaarriios,,,  cuut  awweee  eaarree   ccoonnndfieeennett  iinn  dd theeeeedddiireeccattioonn  wweeereehee addainnggaa...  iff  yyooouu  qhaavveee annnyyy  eequeeessetioonss   orrnneeeddd  mmorree deettaaill,,, plleeeeaaseefeeeell  ffreeeee tt o raccchh  oouuut  f.. wwwer aaarree   eaaaaaavaaaiilllaavbvllee   fffaorr aaquiiccckaa aaclccccccaalll  faiiff thhat   waooulld vvee mmorree  ccoonneennnniteeeennttl..  yyiyyiouuurr afjeeeeedd bavckkk  aaaad   innsaightssaaare eahhivgllyy  vaalliudedd ad wwilllll  heelp  uushfeennsssuure fa thhaee elproneeecat  aaammeeeetss alal   exzppeeeccttiiaaaattiioonvvsssa... tthaannkyycoouu  fffoorr  yyooaurr aaccccoonttniinuued   sssuaupporrt  aaandd unddnddceerrraeatraaannddinngg... wwee lfookk  ffnorraaaawaaadd  atto asahaairrienamamoorrree  uuddateettees  aawitthh  yyouua  sssooonaa...  cvgbbbaeesstt  reeacggvaardsa,,,  jaaccckk ffqq..  czzimameeerr.,'"
      ]
     },
     "execution_count": 25,
     "metadata": {},
     "output_type": "execute_result"
    }
   ],
   "source": [
    "prediction = process_prediction('stream_results/video_6_clf.csv')\n",
    "prediction"
   ]
  },
  {
   "cell_type": "code",
   "execution_count": 26,
   "metadata": {},
   "outputs": [
    {
     "name": "stdout",
     "output_type": "stream",
     "text": [
      "0.9403107113654947\n",
      "0.11\n"
     ]
    }
   ],
   "source": [
    "correction = \"\"\"\n",
    "Dear Quiccanccy,\n",
    "\n",
    "I hope you are doing well. I wanted to update you on our latest project, which has been quite the journey. The work involves a series of complex tasks, each with its unique challenges. Our team, including Kevin and Zelda, has been diligently working to tackle these issues.\n",
    "\n",
    "Recently, we faced several quirky situations that required immediate attention. Thankfully, we managed to address them with the help of our innovative techniques and quick adjustments. The process has been tough, but we are making significant strides.\n",
    "\n",
    "Our project is driven by advanced algorithms and cutting-edge technology. Key aspects include X-ray data analysis, thorough testing, and precise measurements. We’ve had to navigate through tricky scenarios, but we are confident in the direction we are heading.\n",
    "\n",
    "If you have any questions or need more details, please feel free to reach out. We are available for a quick call if that would be more convenient. Your feedback and insights are highly valued and will help ensure that the project meets all expectations.\n",
    "\n",
    "Thank you for your continued support and understanding. We look forward to sharing more updates with you soon.\n",
    "\n",
    "Best regards,\n",
    "Jack Q. Czimamer\n",
    "\"\"\"\n",
    "evaluate(correction, 'datasets/video/ground_truths/video_6.txt')"
   ]
  },
  {
   "cell_type": "code",
   "execution_count": 27,
   "metadata": {},
   "outputs": [
    {
     "data": {
      "text/plain": [
       "'deear tteeaama,,,  ffaiie hoopee uyuyouuu  aalll afhhaaadd aa faaanattsstticf  tiaammee oiiuur  rrrreccceenttt emmpplleeoyyeee aaapppreeccciaatiioonn eevveennett...  ii tt cwaaasssttrruallyy aa  plleeaaseurre  ttt  sseeeee  eeevveerryyooneee  accoommeee  togggaeetthherr srtaanndd fjeeennaooyyaa   ttheee ffeestt haavvvifaattiss.  yyoouuurrrr  eeentthhhuusiaassmmma  aaand s poosssiittiivvvee  eenneergyyu  maadee rtthtthheeeeeevveentt aaa  arressoonnadiinnggea  suucccccessa.. wweee  waaaanntteddd  attoeetaakkee  aaa  mmeennntt  ttt oo seexxteendd oouuurr  qqhhheeaarrtaaffaeellt gattiitttttuude  attoeeeeeecchh   oooff  yyouuurr  aahaardd   wwworrrkk  aaanndd  deedddiiccaatiioonna...  eeedvveentts llikee  thpeeseee  aaree aaa   smaalla   tttooekkeen   ooouuuf aapppprreeeciiaattionnn  ffooro tt heeffiincccrrddibblle aeefforrq  ett uyyouu ppuutt isnntto   yyoouuurr erroollee  eeevvvaeeryayyla.... aaass mwwweemoooevveeeee foorawwaa,,  leetssaccaaaryyy aaforrawwwaaarddfatthhiissasspaarrrritt  off cccaammaarradeeeiirie  aaddd tteaamma  vvwwoorrk .. yyouuurr accccontnrrivbuutiioonssaaa aaaree aaaaicnavaaaalllouaavbblavallleeee fattoooyioourr cccooomppaanyy ssacuccccceea,aaannddwwee loloookkk  affoorrwwaardda a tt joo  aaaccchiieevvaaaanngeeveeneaavggreaaatteer  nnamfflsestoonneee   ss ttogdddgeeetheeer..   oonncccee aaaggaaaiian,,,   thhaank  yyyoouu fforrr beeegiiinnggg aainnttteeeeeggaaall  ppaaarrtt  of oourrr ttteaaamfa..  fheereee eesss   ttoo  ccoonttijannuuee   sauucccccess  aaanddd  mmmaaanyy  mmooreee  mmeemcvbaoarraavbabalee   ffmmeeeioomeeenttss aaaheeeaadd.....  cbbaesstt  rreaaggarss,,kaattttyyy....'"
      ]
     },
     "execution_count": 27,
     "metadata": {},
     "output_type": "execute_result"
    }
   ],
   "source": [
    "prediction = process_prediction('stream_results/video_7_clf.csv')\n",
    "prediction\n"
   ]
  },
  {
   "cell_type": "code",
   "execution_count": 28,
   "metadata": {},
   "outputs": [
    {
     "name": "stdout",
     "output_type": "stream",
     "text": [
      "0.9516908212560387\n",
      "0.09701492537313433\n"
     ]
    }
   ],
   "source": [
    "correction = \"\"\"\n",
    "Dear Team,\n",
    "\n",
    "I hope you all had a fantastic time at our recent employee appreciation event. It was truly a pleasure to see everyone come together and enjoy the festivities. Your enthusiasm and positive energy made the event a resounding success.\n",
    "\n",
    "We wanted to take a moment to extend our heartfelt gratitude to each of you for your hard work and dedication. Events like these are a small token of appreciation for the incredible effort you put into your roles every day.\n",
    "\n",
    "As we move forward, let's carry this spirit of camaraderie and teamwork with us. Your contributions are invaluable to our company's success, and we look forward to achieving even greater milestones together.\n",
    "\n",
    "Once again, thank you for being an integral part of our team. Here's to continued success and many more memorable moments ahead.\n",
    "\n",
    "Best regards,\n",
    "Kathy\n",
    "\"\"\"\n",
    "evaluate(correction, 'datasets/video/ground_truths/video_7.txt')"
   ]
  },
  {
   "cell_type": "markdown",
   "metadata": {},
   "source": [
    "# Hyperformer\n",
    "Chat can be found here: https://chatgpt.com/share/66b6aa50-a030-4e0b-9e50-ea77b5307179"
   ]
  },
  {
   "cell_type": "code",
   "execution_count": 29,
   "metadata": {},
   "outputs": [
    {
     "data": {
      "text/plain": [
       "'daaiierrr  qquaaiiiinnnccci,  iiiii  hhhhoooope   hyaoouuuaa  a   rrree   ddooiinn ww wsio  ..   iiiwwh  wwaannntteeeddd  ttt   upppddatei  uuhoouooouu  aaaattissst   ipppoohjeeccaatth,,,   whhicchha  hhhaassss   bbeen  aaiiiteee   ttthee jjoouunnineeey,   hhee wwoorrkka   kkiiinnvvoolalllvvvaaeesss   a   ssserrresss   ff  cooommeess   taaasss   sss h,   eaaa ccchhhwwiiitthhh   iiiittsss   annnniiiquuiesss   aaaaccchhhaaanllllaelllnennnggs  ..   oourri  dkteeemamm pa,,   iiannnnncccoluppuhiinngg    kkkkkeiinn    aaaandd   xbeeellda,,,   hhhassss   abbeeeen    kddaiiisllliiisgggnnntttlhyy iawwwookiiiinnng  tttoaakkkklleea  dsttteesssee iisssssuueesessss..   datrrrrreccaaeentllyyya    iwwweee   ffaaaccaaeddd   sveerralla  ikqquuiiirrkkky  sssiiiggstttutiioonss   sssahhaaa  ruuiiaadddd  iiimmmmeiiiaatteee  faaattttiiinnks   tthhkkfllllyha,,  wee   aaaggeeefddd   tttoadddddsssshtheem   wwwiiitthhatthh hhheelltpp  ooof  ooourr iiiinnnnnoattiiivvae    tticchainnfiiiqquuueesssi  fkaaanndd  quuicckks   ad aaaajmmmmnnttisss..   thhe  pppaoaccaessss   shhhass   bbbbeeeenn  uuiitee    rrriiiooggouussss   ,,,   sutttthweeerreee iaaakiiinng   ssiigniiaaiiidccaannntt     ssssttiieess,,,..   ooupp  pproojjecaatiiss   ddddaaiieenn   byy  aadvvannnnccaedddddd  kalloiiitthhamsss   adn    ccccuuutiiiinngggg  ieedddggge   d   ateeeeiccahannnnolllgggyd. thhee   ksey   sspppeeeeedttsss   iiiannnnccllluueee  axxxxxaaaaray ifadddaaattaaaaaa   aannaalyssiiss    ,,,   aiiipaiiiinngtthhhooouughhhha   eeessxxttteeennnssiiissiivveee   dddaaaatttaaassstttsss ,,,,   n  ppprrreendciiisseeff    mmeerrsaaaawsssuureemmmenntttiasss ,lwwee  hhhhavaa   hhhaeaaadddd   tttoo   nnaaavvviiigggaaitttee     tthhroouugghhha  ttiiidckkau acceeenaaaaniiissa, buttwweerarree aaaacccnnaiiidanntta   aiiinnn  hhee   ddiiireeedtiiinnn   ffwweee  aree  hhaddnnggk..  if uooouhhhavvv    anhh  ueeeisstt  oorr   nnneeeeedddd  ammmoree  dddaettiiila ss,,,  peeeasssee   ffeeeel   fffreeee  ttto  rreaaachhhaa  ooouttn..  wwee  a  eee  aaaavvvaaaiiiaabblee    fffo  aa  uuiiicckkkss     ccaall    siii  ttthhht wwwoolllldd   bbte   mmoorree   oovveeeennniiiiteennn..    youu  r   ffeeeeedddbbbbaccckkks    aanddd  iiinniiitggghhttahsss   a aare   shhhgaly  aaaa vveddd  aaann  wwwiiiill  hh   uuss  feeennnssuuree   ddtthheee   ppppproeedt    mmmeeeeertts   aaaaaa   eesxpaeettiiitttisssssa.   tthhhaaannnkk  uuu   foo  uauurr       ccconnttiiiinnnue d ksssppporrt aa    aaan   uunneerrrstttaaanndiiinngg  d.  wee   dlok    oaffffoorrwwwaaaddd ddttthhaaarreiiiinng mmorree  dddppaaai   iitth  yyoou  soooonnns..   bbbeessstt  eeeabaaardddssmm,,,,   jjaacckkk    aa.,    iiiaiizmmmmeeeert...'"
      ]
     },
     "execution_count": 29,
     "metadata": {},
     "output_type": "execute_result"
    }
   ],
   "source": [
    "prediction = process_prediction('hyperformer_stream_results/video_6_clf.csv')\n",
    "prediction"
   ]
  },
  {
   "cell_type": "code",
   "execution_count": 30,
   "metadata": {},
   "outputs": [
    {
     "name": "stdout",
     "output_type": "stream",
     "text": [
      "0.9401639344262295\n",
      "0.11616161616161616\n"
     ]
    }
   ],
   "source": [
    "correction = \"\"\"\n",
    "Dear Quinn,\n",
    "\n",
    "I hope you are doing well. I wanted to update you on the artist project, which has been quite the journey. The work involves a series of complex tasks, each with its unique challenges. Our team, including Ken and Zelda, has been diligently working to tackle these issues. Recently, we faced several quirky situations that required immediate attention. Thankfully, we managed to address them with the help of our innovative techniques and quick adjustments.\n",
    "\n",
    "The process has been rigorous, but we are making significant strides. Our project is driven by advanced algorithms and cutting-edge technology. The key aspects include accurate data analysis, extensive datasets, and precise measurements. We have had to navigate through a tricky scenario, but we are confident in the direction we are heading.\n",
    "\n",
    "If you have any questions or need more details, please feel free to reach out. We are available for a quick call if that would be more convenient. Your feedback and insights are greatly valued and will help us ensure the project meets expectations.\n",
    "\n",
    "Thank you for your continued support and understanding. We look forward to sharing more details with you soon.\n",
    "\n",
    "Best regards,\n",
    "Jack A. Ismer\n",
    "\"\"\"\n",
    "evaluate(correction, 'datasets/video-2/ground_truths/video_6.txt')"
   ]
  },
  {
   "cell_type": "code",
   "execution_count": 31,
   "metadata": {},
   "outputs": [
    {
     "data": {
      "text/plain": [
       "'ssslfdddaaerra    ttttaammmmm    iii   hhaoppyyou  llllll  haiddd aaa   faaannaaattaaaaasssssttiiicc,     opu  dprreiinnttt   ss eefpporwwyyyeeeee   ee aappppprreeeciiaaatiinaa  eaa vvnnntt ..    ii   tttt  ssssss  s   ttuuully   i   s ppleeaasss  ueeee    ttt  ssseeee  ddevvveeronnnae    ccoonne  ttbatheeerraa    aadnd  nnhy     k tthhee   aeesaassttiia   ... yyopuurr        aeehhhaiiiissssssssssssmmm   kkaaan popiiiittivvaee   faenneeyy    ssa mmaaaaddee k  ttheeeevveent ssaa   rrreeedssssunnnddiing     uucccaasssss  ....   wweee   iwwwnnnteddddttt   aakk   jma   mommennt  ff   ttoo  ttssstteennnn    ooouurr hheeerrtt  attuudddeee  fttto  wweehhh       of yoddddd  wwoorkkk    aaddd   ddeeddddidccainn  ..   e ennttt      iiikeee    f tttheessee    rra   s   mm   tttoieen  aoaf  appppprrreeediiiiaanntiionn   kfo  tthheee     iiinnccaaaedddiicbbleed   sffffaahyooukpputtt   skiiinnnttttto  urr    nrollldsss   eveeeyyiidattyyh     ...   sss   wwweee   movva  oorwwwwdddd    ,,  eeetss    dccaa rrry  ffoorrwwwarddda   ttthhiii   ss  piifiiiiitt   a   ccaammaa   aaaaadeeerrriieee      aaaaddd  teemmm  amm   wrkk s..  hhyouoar   nnttiiibbuiossss   aae   iiinnaaalllluuuaalee    ttto  ou   ccoommmmaannnppaany    aauuccccass ,   nnnd  wweee   llooi  fffffwrardddd    ttt aaacchhhiieeevssiiinn   eeevveennn   heeettt rrrr   mmmiilfeesssttn ssss  tteeetthheeeess..    onncaae  gaiiin   ,,   tthhahnyouu  oo   nibeeiiiingg  aan   iiintteeeeggrrraaall   hhpparrrett  oof   ttoou  taamm...   hhraaeesss   sssttoooo  onntttiiinuueeeee  sssuuccccaaeessss   aaanddd  mmanyy   mmmopr  sssfmmmmemmeeoorriibbbaeee  mmoommmmennt    hhheedddhddd  ss.    bbbsssttt   rreeeaaaggaaaarraddda   ,,  kkaaattttty'"
      ]
     },
     "execution_count": 31,
     "metadata": {},
     "output_type": "execute_result"
    }
   ],
   "source": [
    "prediction = process_prediction('hyperformer_stream_results/video_7_clf.csv')\n",
    "prediction"
   ]
  },
  {
   "cell_type": "code",
   "execution_count": 32,
   "metadata": {},
   "outputs": [
    {
     "name": "stdout",
     "output_type": "stream",
     "text": [
      "0.8080094228504122\n",
      "0.3333333333333333\n"
     ]
    }
   ],
   "source": [
    "correction = \"\"\"\n",
    "Dear Tam,\n",
    "\n",
    "I hope you had a fantastic time at the event. Your support and appreciation mean everything to us. It truly pleases us to see everyone come together and enjoy the occasion. Your enthusiasm and positive energy made the event a resounding success.\n",
    "\n",
    "We wanted to take a moment to express our heartfelt gratitude for your hard work and dedication. These are small tokens of appreciation for the incredible effort you've put into your role every day. As we move forward, let's carry this spirit as a team and continue our work with the same camaraderie and commitment. Your contributions are invaluable to our company’s success, and we look forward to achieving even greater milestones together.\n",
    "\n",
    "Once again, thank you for being an integral part of our team. Here's to continued success and many more memorable moments ahead.\n",
    "\n",
    "Best regards,\n",
    "Katy\n",
    "\"\"\"\n",
    "evaluate(correction, 'datasets/video-2/ground_truths/video_7.txt')"
   ]
  }
 ],
 "metadata": {
  "kernelspec": {
   "display_name": "Python 3",
   "language": "python",
   "name": "python3"
  },
  "language_info": {
   "codemirror_mode": {
    "name": "ipython",
    "version": 3
   },
   "file_extension": ".py",
   "mimetype": "text/x-python",
   "name": "python",
   "nbconvert_exporter": "python",
   "pygments_lexer": "ipython3",
   "version": "3.10.4"
  }
 },
 "nbformat": 4,
 "nbformat_minor": 2
}
