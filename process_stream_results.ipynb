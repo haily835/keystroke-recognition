{
 "cells": [
  {
   "cell_type": "code",
   "execution_count": 13,
   "metadata": {},
   "outputs": [],
   "source": [
    "import pandas as pd\n",
    "import google.generativeai as genai\n",
    "import os\n",
    "import re\n",
    "from configs.api_keys import GEMINI_API_KEY\n",
    "\n",
    "# metrics \n",
    "def edit_distance_similarity(str1, str2):\n",
    "    m, n = len(str1), len(str2)\n",
    "    dp = [[0] * (n + 1) for _ in range(m + 1)]\n",
    "\n",
    "    for i in range(m + 1):\n",
    "        for j in range(n + 1):\n",
    "            if i == 0:\n",
    "                dp[i][j] = j  # If str1 is empty, insert all characters of str2\n",
    "            elif j == 0:\n",
    "                dp[i][j] = i  # If str2 is empty, remove all characters of str1\n",
    "            elif str1[i - 1] == str2[j - 1]:\n",
    "                dp[i][j] = dp[i - 1][j - 1]  # If last characters are the same, ignore them\n",
    "            else:\n",
    "                dp[i][j] = 1 + min(dp[i][j - 1],  # Insert\n",
    "                                   dp[i - 1][j],  # Remove\n",
    "                                   dp[i - 1][j - 1])  # Replace\n",
    "\n",
    "    edit_dist = dp[m][n]\n",
    "    max_len = max(m, n)\n",
    "    similarity = 1 - (edit_dist / max_len)\n",
    "\n",
    "    return similarity\n",
    "\n",
    "def edit_distance(str1, str2):\n",
    "    m, n = len(str1), len(str2)\n",
    "    dp = [[0] * (n + 1) for _ in range(m + 1)]\n",
    "\n",
    "    for i in range(m + 1):\n",
    "        for j in range(n + 1):\n",
    "            if i == 0:\n",
    "                dp[i][j] = j  # If str1 is empty, insert all characters of str2\n",
    "            elif j == 0:\n",
    "                dp[i][j] = i  # If str2 is empty, remove all characters of str1\n",
    "            elif str1[i - 1] == str2[j - 1]:\n",
    "                dp[i][j] = dp[i - 1][j - 1]  # If last characters are the same, ignore them\n",
    "            else:\n",
    "                dp[i][j] = 1 + min(dp[i][j - 1],  # Insert\n",
    "                                   dp[i - 1][j],  # Remove\n",
    "                                   dp[i - 1][j - 1])  # Replace\n",
    "    return dp[m][n]\n",
    "\n",
    "def word_error_rate(reference, hypothesis):\n",
    "    reference_words = reference.split()\n",
    "    hypothesis_words = hypothesis.split()\n",
    "    edit_dist = edit_distance(reference_words, hypothesis_words)\n",
    "    return edit_dist / len(reference_words)\n",
    "\n",
    "\n",
    "def character_error_rate(reference, hypothesis):\n",
    "    reference_chars = list(reference)\n",
    "    hypothesis_chars = list(hypothesis)\n",
    "    edit_dist = edit_distance(reference_chars, hypothesis_chars)\n",
    "    return edit_dist / len(reference_chars)\n",
    "\n",
    "\n",
    "def get_gemini_correction(text, api_key):\n",
    "    genai.configure(api_key=api_key)\n",
    "    model = genai.GenerativeModel('gemini-1.0-pro-latest')\n",
    "    response = model.generate_content(f\"\"\"Please fix this email English text by removing duplicated or necessary letters, comma or period. Please perform spell checking and fix grammar\n",
    "                                      Use only lowercase letters, commas, and periods. Try to match the letter as much as you can.\n",
    "                                      Answer in one line \\n {text}\"\"\",\n",
    "                                      safety_settings={\n",
    "                                        'HATE': 'BLOCK_NONE',\n",
    "                                        'HARASSMENT': 'BLOCK_NONE',\n",
    "                                        'SEXUAL' : 'BLOCK_NONE',\n",
    "                                        'DANGEROUS' : 'BLOCK_NONE'}\n",
    "                                        )\n",
    "\n",
    "   \n",
    "    return response.text\n",
    "\n",
    "def process_prediction(csv_file):\n",
    "    clf_result = pd.read_csv(csv_file)\n",
    "    chars = clf_result[clf_result['Prob'] > 0.9]['Key prediction'].to_list()\n",
    "\n",
    "    processed = []\n",
    "\n",
    "    i = 0\n",
    "    while i < len(chars):\n",
    "        char = chars[i]\n",
    "        if char == 'dot': processed.append('.')\n",
    "        elif char == 'comma': processed.append(',')\n",
    "        elif char == 'space': processed.append(' ')\n",
    "        elif char == 'delete':\n",
    "            if len(processed):\n",
    "                processed.pop()\n",
    "        else:\n",
    "            processed.append(char)\n",
    "        i += 1\n",
    "    return ''.join(processed)\n",
    "\n",
    "def filter_string(input_string):\n",
    "    # Keep only lowercase and uppercase letters, dots, and commas\n",
    "    filtered_string = re.sub(r'[^a-zA-Z., ]', '', input_string)\n",
    "    return filtered_string\n",
    "\n",
    "def evaluate(csv_file, ground_truth_path):\n",
    "    prediction = process_prediction(csv_file)\n",
    "    print('prediction: ', prediction)\n",
    "    correction = get_gemini_correction(prediction, GEMINI_API_KEY)\n",
    "    \n",
    "    correction = filter_string(correction)\n",
    "    print('correction: ', correction)\n",
    "\n",
    "    # Open the file in read mode ('r')\n",
    "    with open(ground_truth_path, 'r') as file:\n",
    "        # Read the entire content of the file\n",
    "        gt = file.read()\n",
    "\n",
    "    print(edit_distance_similarity(correction, gt))\n",
    "    print(word_error_rate(gt, correction))"
   ]
  },
  {
   "cell_type": "code",
   "execution_count": 14,
   "metadata": {},
   "outputs": [
    {
     "name": "stdout",
     "output_type": "stream",
     "text": [
      "prediction:  kknonddeeerrr  aaqqquiiannnccyy kk,,  ii   hhhhoopppee  yooou     aaaarree   ddopn  wweeelll   a..    iww    wwwanntteeeeedd  tto   upppddaattee   yyo   oo  lattesttt  aprroojeecctttlk,,,, whhcchhh   hhhass     bbteeennn  qquuitteee    attthhee   jjjjoonuunnnneee k,,...   tthhee  worrkkk   innnvvllllllvvveeees  aaaa  sseeerrrireen  f  ccoommpeeedxx   ttaaask   ss  k,  eeaa dch wiitthh     its   uupnnniqquuies   aaccchhhhaallllellllleenngea...   oour   kteaamm  kk,,,   iinnncccllludduuueddinngg  kkkeennn    aandd  zzeeeelldddaaa,,,  hhhas  bgbgeeeen   aadddeiiddlkiaggeentloyy   ajwwwokkinnng ttottt   jaakkkelleeee  ktttesee   isssssuueel   rrreeedccceeeelllyyy     kkwweee  faacceedd      ffaasseeerfvvvveeeraall   aqquuuiiirrkkyy    ssiiiatttuuattiiooonnss   atthht   eeeguuiiireeasddd  iimmmmeeedeaaatteee   aaaattttttiin   tthhakaaffulllyy  kk,,  wwee   mmannggeeeeeaddd  ttto  adddeeesws  theemm   iitthh tthhe hheppp   oooof  ooour  innnnnoattiivvee     tteeechnnnniiequuuee   aaaanndd  eqqucckk   addjjaeeennttsssk   tthhee  ppooocceeeessssa  ahhaw  bgeeenn  uitteee  arrellggoopoussss  ,,    buttt  tweee  aere  adjmmmakiiinn  aasssiiggnnkkiaiiccattntt      sssstttreeeks,...   oorppp   ppoooejctttt  iss   akkddeeivveeenn    bbyy  adddvvnnnnnceeeeddeddd   aalllloeiitthhmwssjj   addd   dccccuuttttttinngg  eeddggee tteeeeecccahhknnnnollllpggyy  k... tthe keeeyyy   wwpppeeeettta   iinnnncccoouueeeee   aaaaaxxxxaaayyy   aaadddaattaaaaa   aannallyyyyssss  k,,   zkkkppppiinnngg tthhoouggghh   eeexxtttteeennnsssivveee  ddddaaatttaasetttwa,,,   nn ppprreeecciiwweee aaaaa   maaawssssurrmeeeentt  ss   ..wweeee   hhvvveee  haaddd   tto    nnaavvvieegaatttteeee    attthhhooouugghhe ttreiicyy   kkaksssceeenaarrriiosss ak,, bbuutt   wwee aeree  ccnfkiddeeenntt  kkan  dtthhee   ddddireeecctttiinnnn    awweeee  aaarree   ahheeaaddnnngg..   yyoo  havvvee anayy   qquuee  oor   nneeeeeeddd   aammoree   ddetttaaillj,,,  plleeaasweee  feeeelll   ffreeeeee  to   eeaacchhh     oott  ... wee ee  aaavvakkklldabble     aafa  qquuccckkkkk    ccaaalllll    k  ttthhtt  wwwoooledd bbee  mmmooree   onvvveeeeknnnnieennt...   yyoouu   kkkrn   eeeeddbbbbaccckkka    andd   innnittteghhtttw  aaaarree  ahgghhloyy  fvvallfuueeeddd  aaaddd  wwiiilll   hhepp  uussw  akkeeennsuree        ttheee    pporojeettt    mmmeeeemttw  aallll    aeeexxpeeetttiatttionsss...  tthhaannkk   yyou    oo    yyoour   aaaccconnntiiinnrruuee assppppooortt    aaandd  auudneeeraatttaaanndddddinng  .., wee    allook   foorrwwwaaaddd  tttshhaaareiiinng  moree  ldaatee  s whh  yyoo   sooooonn  ...   bbbesttt   raggaaarrdds   m,,   jadckkk   aaqqk,,  zzzzzikmmeeerr...\n",
      "correction:  knowledgeable acquaintances, i hope you are doing well. i wanted to update you on our latest project, which has been quite the journey. the work involves a series of complex tasks, each with its unique challenges. our team, including ken and zelda, has diligently been working to tackle these issues recently. we faced several quirky situations that required immediate action. thankfully, we managed to address them with the help of our innovative technique and quick adjustments. the process has been quite rigorous, but we are making significant strides. our project is driven by advanced algorithms and cuttingedge technology. the key aspect is incorporating accurate data analysis, ensuring precise measurements. we have had to navigate through tricky scenarios, but we are confident that our direction is leading us in the right direction. if you have any questions or need more details, please feel free to reach out. we are available for a quick call, which would be more convenient. your feedback and insights are highly valued and will help us ensure that the project meets all expectations. thank you for your continued support and understanding. we look forward to sharing more updates with you soon. best regards, jadck ack, zzzzkkmmmer.\n",
      "0.8742994395516412\n",
      "0.20707070707070707\n"
     ]
    }
   ],
   "source": [
    "evaluate('stream_results/topview/video_6_clf.csv', 'datasets/video-2/ground_truths/video_6.txt')"
   ]
  },
  {
   "cell_type": "code",
   "execution_count": 15,
   "metadata": {},
   "outputs": [
    {
     "name": "stdout",
     "output_type": "stream",
     "text": [
      "prediction:  qqdddeerr     tteemmammm,,     ii   hooopppeaayyoo   ll     haaddd  aa   faannstttaaaaaaassstttiicc  e,  ojou   eedccnettt   tteeeemllllyyyeeeee   eee pppppprreeedcciiaaaatttioon   eeeee vvnnntt..  ii  tt   aawassssd   ssttuuuulyy   aa  aplleeewure    ttt   seeeee   deeevveeroonnee    ccoome  ttetthheer aaaa  aaddd  eenujoyy  dtthee    ffeeeeatttssatt  vvittttieo..  yyyooour    aeeehhuussiissaasssmmm    aaandd  tt vvveee   aeeeevvneeerryyyyyy      aammedddeee e   tttheeee veeeett   aaa   reeeaouunnnddiinngg   acccsess ...  wweee    sswwnnntt edd  to  ttaaakk    maw  mmomeeenntt      ttteoo  ttteeeettteeenndd   ooouurr   hearteeeelll t   gggraaddtifuuutuedeee    to   eee hh       oof yyoouure rrdd  wwoorrkkee  dd  deeedddediccaattttn..  eee veenttt     ikkeee    tthheeeee  arre a   sss mmmall   ttloeeenn     oeff   aaappppprreeedcciieatttioonn      ffoe  tthhee  iiiinnceeeddddiidccbbllee   eeefffette oo opuut   kkkkiinnntto   yyoourr   rrollddddeess eeeveyye  ddaqttyyyy...   aw  wwweee  movveee   forrewwarrdd   ,,,  eetts  caarrryy    afoorwaarrrrdd   tthiiss  ssppppiirreeitt   a   of   ccaammma   aaddeeerrieeeas     aaand teemmm  a   wrk...   yyooouu   oontriibbuttoon  s   are   iinnaalouuuatttleee    tto   oour    ccooommmap nnppaanny     sssucccesss  ,,,  nndd wwweee    looook  aaffwwarreddd    ttto  acchheeeeveeeinngg   eeevveenn   ggrreeeeatteeerrre    mmmmklaetttess ass  tggeeeetthhere...   oonnncee  gaaiinnk,,   tthhannkk   yyoou  ooor    bbeeeegnngg  aannn    kitteeeeeggerrnaal    ppparrtt  oof   ttoouur  ttteem ..   hhraaaaeens  too  oontttineueeee   ssuudcceeeesss    andd  mmmayy     mmore  aaammeeemeeeoorraaabbbllee   mmmommeeens   hhahheedsdd  ..e  bbeeessattt   rreeggaarrrdddss  k,,,   kkkaatttttyyy\n",
      "correction:  dearest temmmm, i hope you all had a fantassstic day of jounrney, itelly perrdiciiaattin evey thiin.. it wassssd study awpleure fpr seee deevornnee coome, togethher enjoy the featts vittieo.. your enthusiasm and the very everyyy ameded the vet a reeaoundiing accesss. wees wnt ed to tak maw momennt sss teetend our herteeeel gratitute to ehh oof your  rrd work an deddiedicatin.. weent nt likee theese a sssmal token oof appreciaetin foe the incedible efect of your rolldees everyyyyy daay.. as weee movee forwarr, etts carry afoarward thiiss spirit a ofer camma aderiees aand team wir .. your contritutins s are inaluable to our coompanny success, nnd weeee look afwardeed too acheeeving even greaatttter milests getheeree.. onnce gain,, thannk you or being a n integral part o touur team.. hareens to continus succees and may many more memorial momenns aheed.. beeest regaars k,,, katty\n",
      "0.7094594594594594\n",
      "0.7777777777777778\n"
     ]
    }
   ],
   "source": [
    "evaluate(\n",
    "    'stream_results/topview/video_7_clf.csv', \n",
    "    'datasets/video-2/ground_truths/video_7.txt'\n",
    ")"
   ]
  },
  {
   "cell_type": "code",
   "execution_count": 10,
   "metadata": {},
   "outputs": [
    {
     "name": "stdout",
     "output_type": "stream",
     "text": [
      "prediction:  deearrr qquuiccanccyy,,,,  i  hhioopeee uuuuyouua     are eddooinngnaweell,...  ffii wwwannntteeedd   etto uhpddaaeee tteeefyoouu  oonn ooouuurraaatttesssat   fpporroooneeccttttt,,, wwhhicchh   hass beeeef      quutteee ttheeefjooarrnnreey...  tthheeeawwworrkkk  finnnvvaolllvveessa a  ssseerreiiseeess aon ccoomppleexx tasaksa eeeaaccchh awwieth  itts aauuniiaueee  cccchaallleeenngees ...   oourr tteeemaam,, inccclluddinnggekkeedvveen   aannd zeellddda,, haaa    avveeenn  ddeilliigeenttllyy lcaawwoorkinngg tottacckkleee  aatthheeeee eisssuess..  rreeeccenntauyy  wwee dfacceedaaa assevveerall  aaquiirkeyy ssittuuaaraaattioonnss  tah frequiirredd  iifmmmmediiaaatee  aaatteeeeddtttioon.. tthhaaannnkaaffullllyyf,,, wwee  maaamaaannaaaaggeeddd to   aaddddddrheem wwiithhh  tttheehhelp   ooff ourr  fiiffnnooaaive tteecchanaaiiaueess aaaandd qqquiccka  aaaaddaauussatammeenttsa... tthee epprroocceeesssa  haassa  eeeen  fquuiiettteeerggooraoouu,, bu aaaeeaaare aaaaaaaknngg  ssaggnnnniiafficcaant sstrrriiddessao...  oouurr  pprroooeeect iss  ddrriveenn  bayy addddddvvaaannccceedd aaallgoorrriithmmsaandd cccuttttiingggeeedddvgee  eteecccafnolloogguyf.. thheee kkeyu assahppeectt ss  iincclluee xxxeraaayy  edattaaa  aaaallaaysssssa, zzipppaannggttrrooharroouuggh eexxxttenaaivee  ddatsetc,, aanndppreecciisseee fmmeeeaassureemeeen.. wweer aaaaaavvee ehadd   ttoo anaavviaaaatttttteeaatthrrouugghh ttriiccccckayy sseeeccceennaaaarrios,,  cuut  awweee  aree   ccoonnndfieenntt  iinn  dd theeeeedddiireeccttionn  wweeerehee addainnga...  iff  yyouoouu  haavveee annyy  eequeeesstioonss   orrnneeeddd  mmorree deettaai,,, pleeeaaseefeeeell ffreeeee tto racchh oouuut  f.. wwwer aarree  eaaaaaavaailllaavvllee   ffaorraaquiiccckaa aacccccccaalll  aiff thhat   waooulld vvee mmorree ccoonneennniteeeennttl..  yyyyouuur afjeeeeeddbavckkk  aaaad   innsaightssaaare ehhgllyy  vaalliudedd ad wwilllll  heelpuushfeenssuure a thhae elproeeecat aaammeeeetss alal   exzppeeecctiiaaaattiioonvvssa... tthaannkyycoouu fffoorr yyooaurr aacccconttniinuued   ssuaupporrt aaandd unddnddceerraatraannddinngg... wee lfookk ffnorraaawaaadd atto asahaarrinamaoorrree uddateettees  aawitthh  yyouu  sssooonaa..  cvbbbaeestt  reaggaardsa,  jaaccckk ffq..  czimameeerr.,\n",
      "correction:  dear quick nancy, i hope you are doing well, i wanted to update you on our project, which has been quite the journey... the work involves a series of complex tasks each with its unique challenges... our team, including kevind and zeldda, have been diligently working to tackle the issues. recently we faced several quirky situations that required immediate attention. thankfully, we managed to address them with the help of our innovative techniques and quick adjustments... the process has been gradually smoother, but are making significant strides... our project is driven by advanced algorithms and cuttingedge technology. the key aspects include xray data analysis, zipping through extensive dataset, and precise measurements. we have had to navigate through tricky scenarios, but we are confident in the direction we are heading... if you have any questions or need more detail, please feel free to reach out. we are available for a quick call if that would be more convenient... your feedback and insights are highly valued and will help ensure the project meets all expectations... thank you for your continued support and understanding... we look forward to sharing more updates with you soon.. best regards, jack f. czimamer,\n",
      "0.9433198380566802\n",
      "0.145\n"
     ]
    }
   ],
   "source": [
    "evaluate('stream_results/video_6_clf.csv', 'datasets/video/ground_truths/video_6.txt')"
   ]
  },
  {
   "cell_type": "code",
   "execution_count": 18,
   "metadata": {},
   "outputs": [
    {
     "name": "stdout",
     "output_type": "stream",
     "text": [
      "prediction:  deear tteeaama,,,  ffaiie hoopee uyuyouu  aalll afhhaaadd aa faattsstticf tiaammee oiuurrrrreccceenttt emmpplleeoyyeee aapppeecciaatiioonneevveennett...  iitt cwaaasssttrrully aa plleeaasurre  ttt  sseeeee  eeevveerryyooneee  ccoommeee  togggaeetthherr srtaanndd fjeeennaooyya   ttheee ffeestt aavvvifaattiss.  yyoouuurrrr  eeentthhuusiaassmmma  aaand s poosssiittiivvee  eenneergyy  maadee  tthtthheeeeeeveentt aaa  arressnnadiinnggea  suucccccessa.. wweee  waaaanntteddd  ttoetaakkee aaa  mmeennntt  tttoo seexxteendd oouuurrqqhheeaarrtaaffaeellt gattiitttttuude  attoeeeeeecchh   oooff  yyouuurr aaaardd  wwworrrkk  aaanndd  deedddiiccaatiioonna...  eeedvveenttsllike tpeeseee aareeaaa  sammaalla   tttooekkeen ooouuuf aappppreeeciiattionnn  ffoor ttheeffiincccrrddiblle eefforr  ettuyyouu ppuutt inntto   yyoouuurr rroollee eeevaeeryayyla.... aass mwwweemoooevveeeee foorawwaa,, letssaccaaaryy aaforrawwwaaarddfatthiissasspararritt  off cccaammaarradeeiirie  aaddd tteaamma vawwoorrk .. yyouuurr accccontrrivbuutiioonssaaa aaareeaaaaicnavaaaallluaavbblavllleeee attooyoourr cccoomppaanyy ssauccccceea,aanddwwee loookkk  affoorrwwaardda att joo  aacchiieevvaaaanneveenaavggreaaatteer nmflsestoonneee  ss ttodddgeeetheeer..  oonncccee aaaggaaaiian,,,   thhaank  yyyoouu fforrr beeiiinggg aainnttteeeeeggaaall  ppaaarrtt  of oourrr ttteaaama..  heereeeess   ttoo  coonttijnnuuee   suucccccess aandd  mmmaaanyy  mmooreee  mmeemvbaoarraavbablee  mmeeoomeeenttss haaaheeeaadd....  cbbaestt rraaggarss,,kaattttyy....\n",
      "correction:  dear team, i hope you all had a fantastic time at our recent employee appreciation event. it was truly a pleasure to see everyone come together and enjoy the festivities. your enthusiasm and positive energy made the event a resounding success. we wanted to take a moment to extend our heartfelt gratitude to each of you for your hard work and dedication. events like these are a small token of appreciation for the incredible effort you put into your roles every day. as we move forward, lets carry forward this spirit of camaraderie and teamwork. your contributions are invaluable to our companys success, and we look forward to achieving greater milestones together. once again, thank you for being an integral part of our team. heres to continued success and many more memorable moments ahead. best regards, katty.\n",
      "0.9742962056303549\n",
      "0.06716417910447761\n"
     ]
    }
   ],
   "source": [
    "evaluate(\n",
    "    'stream_results/video_7_clf.csv', \n",
    "    'datasets/video/ground_truths/video_7.txt'\n",
    ")"
   ]
  }
 ],
 "metadata": {
  "kernelspec": {
   "display_name": "Python 3",
   "language": "python",
   "name": "python3"
  },
  "language_info": {
   "codemirror_mode": {
    "name": "ipython",
    "version": 3
   },
   "file_extension": ".py",
   "mimetype": "text/x-python",
   "name": "python",
   "nbconvert_exporter": "python",
   "pygments_lexer": "ipython3",
   "version": "3.10.4"
  }
 },
 "nbformat": 4,
 "nbformat_minor": 2
}
