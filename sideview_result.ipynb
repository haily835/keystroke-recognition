{
 "cells": [
  {
   "cell_type": "markdown",
   "metadata": {},
   "source": [
    "# Classification results"
   ]
  },
  {
   "cell_type": "code",
   "execution_count": 10,
   "metadata": {},
   "outputs": [
    {
     "name": "stdout",
     "output_type": "stream",
     "text": [
      "Clf:\n",
      "HYPERGT_SIDEVIEW & 0.9011 & 0.8427 & 0.8166 & 0.8015 \\\\ \\hline\n",
      "Detection:\n",
      "HYPERGT_SIDEVIEW & 0.9557 & 0.9076 & 0.8922 & 0.8783 \\\\ \\hline\n"
     ]
    },
    {
     "name": "stderr",
     "output_type": "stream",
     "text": [
      "/Users/haily/.pyenv/versions/3.10.4/lib/python3.10/site-packages/sklearn/metrics/_classification.py:1509: UndefinedMetricWarning: Precision is ill-defined and being set to 0.0 in labels with no predicted samples. Use `zero_division` parameter to control this behavior.\n",
      "  _warn_prf(average, modifier, f\"{metric.capitalize()} is\", len(result))\n"
     ]
    }
   ],
   "source": [
    "from utils.calculate_metrics import calculate_metrics\n",
    "from sklearn.metrics import classification_report\n",
    "\n",
    "print(\"Clf:\")\n",
    "\n",
    "for model in ['HyperGT_sideview']:\n",
    "    result, _, _ = calculate_metrics(f\"./ckpts/{model}/clf/clf_test_results.csv\")\n",
    "    print(f\"{model.upper()} & {result} \\\\\\\\ \\hline\")\n",
    "    # calculate_metrics(f\"./ckpts/{model}/det/det_test_results.csv\")\n",
    "    \n",
    "print(\"Detection:\")\n",
    "\n",
    "for model in ['HyperGT_sideview']:\n",
    "    result, _, _ = calculate_metrics(f\"./ckpts/{model}/det/det_test_results.csv\")\n",
    "    print(f\"{model.upper()} & {result} \\\\\\\\ \\hline\")"
   ]
  },
  {
   "cell_type": "code",
   "execution_count": 11,
   "metadata": {},
   "outputs": [
    {
     "name": "stdout",
     "output_type": "stream",
     "text": [
      "              precision    recall  f1-score   support\n",
      "\n",
      "           a     0.7973    0.7375    0.7662       160\n",
      "           b     0.8750    0.8235    0.8485        17\n",
      "           c     0.9403    0.9844    0.9618        64\n",
      "       comma     1.0000    0.8500    0.9189        20\n",
      "           d     0.8250    0.9041    0.8627        73\n",
      "      delete     0.9557    0.9742    0.9649       155\n",
      "         dot     0.9189    1.0000    0.9577        34\n",
      "           e     0.9273    0.9410    0.9341       271\n",
      "           f     0.7778    0.8485    0.8116        33\n",
      "           g     0.9744    0.8636    0.9157        44\n",
      "           h     0.9167    0.9041    0.9103        73\n",
      "           i     0.9750    0.9070    0.9398       129\n",
      "           j     0.6667    0.4444    0.5333         9\n",
      "           k     0.9333    0.5600    0.7000        25\n",
      "           l     0.9808    0.8226    0.8947        62\n",
      "           m     0.6923    0.5000    0.5806        36\n",
      "           n     0.8473    0.8810    0.8638       126\n",
      "           o     0.9574    0.9247    0.9408       146\n",
      "           p     0.8636    0.9500    0.9048        40\n",
      "           q     0.7143    0.4167    0.5263        12\n",
      "           r     0.9130    0.9692    0.9403       130\n",
      "           s     0.8421    0.8649    0.8533       111\n",
      "       space     0.8849    0.9727    0.9267       403\n",
      "           t     0.9532    0.9702    0.9617       168\n",
      "           u     0.9333    0.9032    0.9180        93\n",
      "           v     0.8333    0.7812    0.8065        32\n",
      "           w     0.8519    0.7188    0.7797        32\n",
      "           x     0.5714    0.6667    0.6154         6\n",
      "           y     0.9600    0.9600    0.9600        50\n",
      "           z     0.0000    0.0000    0.0000         3\n",
      "\n",
      "    accuracy                         0.9011      2557\n",
      "   macro avg     0.8427    0.8015    0.8166      2557\n",
      "weighted avg     0.8997    0.9011    0.8984      2557\n",
      "\n"
     ]
    },
    {
     "name": "stderr",
     "output_type": "stream",
     "text": [
      "/Users/haily/.pyenv/versions/3.10.4/lib/python3.10/site-packages/sklearn/metrics/_classification.py:1509: UndefinedMetricWarning: Precision is ill-defined and being set to 0.0 in labels with no predicted samples. Use `zero_division` parameter to control this behavior.\n",
      "  _warn_prf(average, modifier, f\"{metric.capitalize()} is\", len(result))\n",
      "/Users/haily/.pyenv/versions/3.10.4/lib/python3.10/site-packages/sklearn/metrics/_classification.py:1509: UndefinedMetricWarning: Precision is ill-defined and being set to 0.0 in labels with no predicted samples. Use `zero_division` parameter to control this behavior.\n",
      "  _warn_prf(average, modifier, f\"{metric.capitalize()} is\", len(result))\n",
      "/Users/haily/.pyenv/versions/3.10.4/lib/python3.10/site-packages/sklearn/metrics/_classification.py:1509: UndefinedMetricWarning: Precision is ill-defined and being set to 0.0 in labels with no predicted samples. Use `zero_division` parameter to control this behavior.\n",
      "  _warn_prf(average, modifier, f\"{metric.capitalize()} is\", len(result))\n",
      "/Users/haily/.pyenv/versions/3.10.4/lib/python3.10/site-packages/sklearn/metrics/_classification.py:1509: UndefinedMetricWarning: Precision is ill-defined and being set to 0.0 in labels with no predicted samples. Use `zero_division` parameter to control this behavior.\n",
      "  _warn_prf(average, modifier, f\"{metric.capitalize()} is\", len(result))\n"
     ]
    }
   ],
   "source": [
    "result,  y_pred, y_true = calculate_metrics(f\"./ckpts/HyperGT_sideview/clf/clf_test_results.csv\")\n",
    "print(classification_report(y_true, y_pred, digits=4))"
   ]
  },
  {
   "cell_type": "markdown",
   "metadata": {},
   "source": [
    "# Stream results"
   ]
  },
  {
   "cell_type": "code",
   "execution_count": 2,
   "metadata": {},
   "outputs": [
    {
     "name": "stdout",
     "output_type": "stream",
     "text": [
      "----Video 9----\n",
      "- Raw prediction\n",
      "Corrected:   daear te , i i npope you anlw a da fanstatic tiaur dareceant epalnorye vente. i ti ws trly a plele ure teo se wederyowne come at osethere and enaouy e the faesti vites . ayoure aenathsfifmsm nand spositive ener gy mde t he event s aresouandng asuceas. we wanted t o aetke s omeant to tstead ouar sueareatfel at gretut ato f cp o your ahards or and daediction. wvents e thiese sare a snmal toen or apreciationa for t he ncaredibablve eforat you put into your roales eveary ds y. as we ove foraswred et chwevisqei eavene greater sfilestones atogthred. o nesan d t hak ou fore ing suan int egra par ofn our tea. ere s to continsue s ucaes adn snansy ore asmeneoarabe n odmentns she da, w. bvst reagvardsf, sty.\n",
      "Ground truth:  dear team, i hope you all had a fanstactic time at our recent employee event. it was truly a pleasure to see everyone come together and enjoy the festivities. your enthusiasm and positive energy made the event a resounding success. we wanted to take a moment to extend our heartfelt gratitute to each of your hard work and dedication. events like these are a small token of appreciation for the incredible effort you put into your roles everyday. as we move forward to achieveing even greater milestones together. once again, thank you for being an integral part of our team. heres to continue success and many more memorable moments ahead. best regards, katty.\n"
     ]
    },
    {
     "name": "stderr",
     "output_type": "stream",
     "text": [
      "/Users/haily/Documents/GitHub/Keystroke classifier/utils/realtime_util.py:81: UserWarning: Boolean Series key will be reindexed to match DataFrame index.\n",
      "  chars = result[result['Active Prob'] > active_thres][result['Key Prob'] > key_thres]['Key prediction'].to_list()\n"
     ]
    },
    {
     "name": "stdout",
     "output_type": "stream",
     "text": [
      "Edit distance similarity: 0.7048022598870056\n",
      "Word error rate: 0.9911504424778761\n",
      "- Refine prediction\n",
      "Corrected:  dear team, i hope you all had a fantastic time at our recent employee event. it was truly a pleasure to see everyone come together and enjoy the festivities. your enthusiasm and positive energy made the event a resounding success. we wanted to take a moment to express our heartfelt gratitude for your hard work and dedication. events like these are a small token of appreciation for the incredible effort you put into your roles every day. as we look forward to achieving even greater milestones together, thank you for being such an integral part of our team. heres to continued success and many more memorable moments ahead. best regards, sty.\n",
      "Ground truth:  dear team, i hope you all had a fanstactic time at our recent employee event. it was truly a pleasure to see everyone come together and enjoy the festivities. your enthusiasm and positive energy made the event a resounding success. we wanted to take a moment to extend our heartfelt gratitute to each of your hard work and dedication. events like these are a small token of appreciation for the incredible effort you put into your roles everyday. as we move forward to achieveing even greater milestones together. once again, thank you for being an integral part of our team. heres to continue success and many more memorable moments ahead. best regards, katty.\n",
      "Edit distance similarity: 0.9364599092284418\n",
      "Word error rate: 0.1415929203539823\n",
      "----Video 10----\n"
     ]
    },
    {
     "name": "stderr",
     "output_type": "stream",
     "text": [
      "/Users/haily/Documents/GitHub/Keystroke classifier/utils/realtime_util.py:81: UserWarning: Boolean Series key will be reindexed to match DataFrame index.\n",
      "  chars = result[result['Active Prob'] > active_thres][result['Key Prob'] > key_thres]['Key prediction'].to_list()\n"
     ]
    },
    {
     "name": "stdout",
     "output_type": "stream",
     "text": [
      "- Raw prediction:\n",
      "Corrected:  mdaeare uicncy, i hpe yo are doivng weal,. j wanted wto date you on our flatest projeact whichshas en quite th forafurnay . the dorma inovlves a sereieas of copalen t smsas each withe ts urechavleanges . our team, fisnacluding in and cxelda . has ven dafiligently dworing t t a t ackalfle these sue. reaceantly f, we sfaced sereal fdqurir y adsustaments d. the procaeas hpa vben quite arioifdgaro, but e are manvg sisg niaficanate stridaesa. fouyar project fis rsen bysadavancd salgoriathams sand chting edndge ethechanol y. the ke y specats i ncuve secxay sdata s n slsysis, xipvng atharougha exateanive dat, ad spreacise sasneasureanasa. we have had to ea vnigdate atrouaghp tricsy seanc cearhia, but dqe sare sconficdnt fin t he dircaectionas wea are ha dading . if ou adhave a nyqueastions or naned more daetil, paleae fdela fre to freach ot . e are avasialable for huick acala if that swoul bve nore covean nitent . your feds vback and isnsights are hi aholy valued sad il heap hus f enasurethe fproecat met s asa ixpeacatsationans. thank y ou for yur onstisnsued csuport nand susnderatandinal. we lo foreard ato sharing re upates qith you sosn. bvet gards,. h ck ew. ismer.\n",
      "Ground truth:  dear quincy, i hope you are doing well. i wanted to update you on our latest project, which has been quite the journey. the work involves a series of complex tasks, each with its uniques challenges. our team, including kevin and zelda, has been diligently working to tackle these issues. recently, we faced several quirky adjustments. the process has been quite rigorous, but we are making significant strides. our project is driven by advanced algorithms and cutting edge technology. the key aspects include xray data analysis, zipping through extensive datasets, and precise measurements. we have had to navigate through tricky scenarios, but we are confident in the direction we are heading. if you have any questions or need more details, please feel free to reach out. we are available for a quick call if that would be more convenient. your feedback and insights are highly valued and will help us ensure the project meets all expectiations. thank you for your continued support and understanding. we look forward to sharing more updates with you soon. best regards, jack q. zimmer.\n",
      "Edit distance similarity: 0.7285835453774385\n",
      "Word error rate: 0.8938547486033519\n",
      "Corrected:  dear quincy, i hope you are doing well. i wanted to update you on our latest project, which has been quite the journey. the format involves a series of complex tasks, each with its unique challenges. our team, including alex and i, has been diligently working to tackle these issues. recently, we faced several query adjustments, and the process has been quite rigorous, but we are making significant strides. your project is driven by advanced algorithms and cuttingedge technology, with key aspects including accurate data analysis, comprehensive evaluation, and precise measurements. weve had to navigate through tricky scenarios, but we are confident in the direction were heading. if you have any questions or need more details, please feel free to reach out. we are available for a quick call if that would be more convenient. your feedback and insights are highly valued and will help ensure the project meets expectations. thank you for your continued support and understanding. we look forward to sharing more updates with you soon. best regards, h.c.k. ew.\n",
      "Ground truth:  dear quincy, i hope you are doing well. i wanted to update you on our latest project, which has been quite the journey. the work involves a series of complex tasks, each with its uniques challenges. our team, including kevin and zelda, has been diligently working to tackle these issues. recently, we faced several quirky adjustments. the process has been quite rigorous, but we are making significant strides. our project is driven by advanced algorithms and cutting edge technology. the key aspects include xray data analysis, zipping through extensive datasets, and precise measurements. we have had to navigate through tricky scenarios, but we are confident in the direction we are heading. if you have any questions or need more details, please feel free to reach out. we are available for a quick call if that would be more convenient. your feedback and insights are highly valued and will help us ensure the project meets all expectiations. thank you for your continued support and understanding. we look forward to sharing more updates with you soon. best regards, jack q. zimmer.\n",
      "Edit distance similarity: 0.9227941176470589\n",
      "Word error rate: 0.1564245810055866\n",
      "----Video 11----\n",
      "- Raw prediction:\n",
      "Corrected:  fhaeleanl ow shn, thank y ou for shaoaphiang dat ofr iweib iaviteo. e vgruanate tyur tatitatisfsaction it h our high svqusafafsaity proeachucats a and scuateoener suaporte. isncsneq you ar saexperereraicaeacecae withe sasthe oredere dsid sfo t lsive susap to shsourahur higha starandaradads , wme shavdwe isued fyou da caeareadit fisn the man foun t of a shuadadndaeda. palea se salow thrwaerae to five sadsy faor y our vbca joto apapaly this careadit to your facacouat. iagf syou have f a nsy uestionsa, palease vis sit e sacutomer suaspaporeat . t hask you sagaisn ore shusospinge withe hus . we loko sforewareds to saereiving fyoui n the s u tehure. s si sncaereanly. f.\n",
      "Ground truth:  hello john, thank you for shopping at our website. we guarantee your satisfaction with our high quality products and customer support. since your experience with the order did not live up to our high standards, we have issued you a credit in the amount of a hundred. please allow three to five days for your bank to apply this credit to your account. if you have any questions, please visit customer support. thank you again for shopping with us. we look forward to serving you in the future. sincerely.\n",
      "Edit distance similarity: 0.6701337295690937\n",
      "Word error rate: 1.0561797752808988\n"
     ]
    },
    {
     "name": "stderr",
     "output_type": "stream",
     "text": [
      "/Users/haily/Documents/GitHub/Keystroke classifier/utils/realtime_util.py:81: UserWarning: Boolean Series key will be reindexed to match DataFrame index.\n",
      "  chars = result[result['Active Prob'] > active_thres][result['Key Prob'] > key_thres]['Key prediction'].to_list()\n"
     ]
    },
    {
     "name": "stdout",
     "output_type": "stream",
     "text": [
      "Corrected:  hello shawn, thank you for shopping at our website. we greatly value your satisfaction with our highquality products and customer support. since your experience with the recent order did not live up to our high standards, we have issued you a credit of . please allow up to five days for the credit to appear in your account. if you have any questions, please visit customer support. thank you again for shopping with us, and we look forward to serving you in the future. sincerely.\n",
      "Ground truth:  hello john, thank you for shopping at our website. we guarantee your satisfaction with our high quality products and customer support. since your experience with the order did not live up to our high standards, we have issued you a credit in the amount of a hundred. please allow three to five days for your bank to apply this credit to your account. if you have any questions, please visit customer support. thank you again for shopping with us. we look forward to serving you in the future. sincerely.\n",
      "Edit distance similarity: 0.8409542743538767\n",
      "Word error rate: 0.2247191011235955\n"
     ]
    },
    {
     "data": {
      "text/plain": [
       "(0.8409542743538767, 0.2247191011235955)"
      ]
     },
     "execution_count": 2,
     "metadata": {},
     "output_type": "execute_result"
    }
   ],
   "source": [
    "# Top view HyperGT more data prediction\n",
    "# Correct text using gpt chat: https://chatgpt.com/share/67005ca7-d4c4-8012-ac23-c020093e64c0\n",
    "from utils.realtime_util import process_prediction, evaluate, remove_consecutive_letters\n",
    "avg_eds = 0\n",
    "avg_wer = 0\n",
    "\n",
    "print(\"----Video 9----\")\n",
    "pred_9 = process_prediction('ckpts/HyperGT_sideview/stream_results/9.csv', active_thres=0.5, key_thres=0.9)\n",
    "pred_9 = remove_consecutive_letters(pred_9)\n",
    "print(\"- Raw prediction\")\n",
    "gt_9 = \"dear team, i hope you all had a fanstactic time at our recent employee event. it was truly a pleasure to see everyone come together and enjoy the festivities. your enthusiasm and positive energy made the event a resounding success. we wanted to take a moment to extend our heartfelt gratitute to each of your hard work and dedication. events like these are a small token of appreciation for the incredible effort you put into your roles everyday. as we move forward to achieveing even greater milestones together. once again, thank you for being an integral part of our team. heres to continue success and many more memorable moments ahead. best regards, katty.\"\n",
    "evaluate(pred_9, gt_9)\n",
    "print(\"- Refine prediction\")\n",
    "corrected_9 = \"Dear Team, I hope you all had a fantastic time at our recent employee event. It was truly a pleasure to see everyone come together and enjoy the festivities. Your enthusiasm and positive energy made the event a resounding success. We wanted to take a moment to express our heartfelt gratitude for your hard work and dedication. Events like these are a small token of appreciation for the incredible effort you put into your roles every day. As we look forward to achieving even greater milestones together, thank you for being such an integral part of our team. Here's to continued success and many more memorable moments ahead. Best regards, Sty.\"\n",
    "evaluate(corrected_9, gt_9)\n",
    "\n",
    "\n",
    "print(\"----Video 10----\")\n",
    "pred_10 = process_prediction('ckpts/HyperGT_sideview/stream_results/10.csv', active_thres=0.5, key_thres=0.9)\n",
    "pred_10 = remove_consecutive_letters(pred_10)\n",
    "print(\"- Raw prediction:\")\n",
    "gt_10 = \"dear quincy, i hope you are doing well. i wanted to update you on our latest project, which has been quite the journey. the work involves a series of complex tasks, each with its uniques challenges. our team, including kevin and zelda, has been diligently working to tackle these issues. recently, we faced several quirky adjustments. the process has been quite rigorous, but we are making significant strides. our project is driven by advanced algorithms and cutting edge technology. the key aspects include xray data analysis, zipping through extensive datasets, and precise measurements. we have had to navigate through tricky scenarios, but we are confident in the direction we are heading. if you have any questions or need more details, please feel free to reach out. we are available for a quick call if that would be more convenient. your feedback and insights are highly valued and will help us ensure the project meets all expectiations. thank you for your continued support and understanding. we look forward to sharing more updates with you soon. best regards, jack q. zimmer.\"\n",
    "evaluate(pred_10, gt_10)\n",
    "corrected_10 = \"Dear Quincy, I hope you are doing well. I wanted to update you on our latest project, which has been quite the journey. The format involves a series of complex tasks, each with its unique challenges. Our team, including Alex and I, has been diligently working to tackle these issues. Recently, we faced several query adjustments, and the process has been quite rigorous, but we are making significant strides. Your project is driven by advanced algorithms and cutting-edge technology, with key aspects including accurate data analysis, comprehensive evaluation, and precise measurements. We've had to navigate through tricky scenarios, but we are confident in the direction we're heading. If you have any questions or need more details, please feel free to reach out. We are available for a quick call if that would be more convenient. Your feedback and insights are highly valued and will help ensure the project meets expectations. Thank you for your continued support and understanding. We look forward to sharing more updates with you soon. Best regards, H.C.K. Ew.\"\n",
    "evaluate(corrected_10, gt_10)\n",
    "\n",
    "print(\"----Video 11----\")\n",
    "pred_11 = process_prediction('ckpts/HyperGT_sideview/stream_results/11.csv', active_thres=0.5, key_thres=0.8)\n",
    "pred_11 = remove_consecutive_letters(pred_11)\n",
    "print(\"- Raw prediction:\")\n",
    "gt_11 = \"hello john, thank you for shopping at our website. we guarantee your satisfaction with our high quality products and customer support. since your experience with the order did not live up to our high standards, we have issued you a credit in the amount of a hundred. please allow three to five days for your bank to apply this credit to your account. if you have any questions, please visit customer support. thank you again for shopping with us. we look forward to serving you in the future. sincerely.\"\n",
    "evaluate(pred_11, gt_11)\n",
    "corrected_11 = \"Hello Shawn, thank you for shopping at our website. We greatly value your satisfaction with our high-quality products and customer support. Since your experience with the recent order did not live up to our high standards, we have issued you a credit of $100. Please allow up to five days for the credit to appear in your account. If you have any questions, please visit customer support. Thank you again for shopping with us, and we look forward to serving you in the future. Sincerely.\"\n",
    "evaluate(corrected_11, gt_11)\n"
   ]
  },
  {
   "cell_type": "code",
   "execution_count": 6,
   "metadata": {},
   "outputs": [
    {
     "name": "stdout",
     "output_type": "stream",
     "text": [
      " adae am,my , jis a hoequ y s y wjw wd s s wq\n"
     ]
    },
    {
     "name": "stderr",
     "output_type": "stream",
     "text": [
      "/Users/haily/Documents/GitHub/Keystroke classifier/utils/realtime_util.py:81: UserWarning: Boolean Series key will be reindexed to match DataFrame index.\n",
      "  chars = result[result['Active Prob'] > active_thres][result['Key Prob'] > key_thres]['Key prediction'].to_list()\n"
     ]
    }
   ],
   "source": [
    "pred = process_prediction('stream_results/0.csv', active_thres=0.5, key_thres=0.9)\n",
    "pred = remove_consecutive_letters(pred)\n",
    "print(pred)"
   ]
  }
 ],
 "metadata": {
  "kernelspec": {
   "display_name": "Python 3",
   "language": "python",
   "name": "python3"
  },
  "language_info": {
   "codemirror_mode": {
    "name": "ipython",
    "version": 3
   },
   "file_extension": ".py",
   "mimetype": "text/x-python",
   "name": "python",
   "nbconvert_exporter": "python",
   "pygments_lexer": "ipython3",
   "version": "3.10.4"
  }
 },
 "nbformat": 4,
 "nbformat_minor": 2
}
