{
 "cells": [
  {
   "cell_type": "code",
   "execution_count": null,
   "metadata": {},
   "outputs": [],
   "source": [
    "import torch\n",
    "from torchvision import transforms, datasets, models\n",
    "import lightning as L\n",
    "\n",
    "\n",
    "class LitSegmentation(L.LightningModule):\n",
    "    def __init__(self):\n",
    "        super().__init__()\n",
    "        self.model = models.segmentation.fcn_resnet50(num_classes=21)\n",
    "        self.loss_fn = torch.nn.CrossEntropyLoss()\n",
    "\n",
    "    def training_step(self, batch):\n",
    "        images, targets = batch\n",
    "        outputs = self.model(images)['out']\n",
    "        loss = self.loss_fn(outputs, targets.long().squeeze(1))\n",
    "        self.log(\"train_loss\", loss)\n",
    "        return loss\n",
    "\n",
    "    def configure_optimizers(self):\n",
    "        return torch.optim.Adam(self.model.parameters(), lr=0.001)\n",
    "    \n",
    "    \n",
    "class SegmentationData(L.LightningDataModule):\n",
    "    def prepare_data(self):\n",
    "        datasets.VOCSegmentation(root=\"data\", download=True)\n",
    "    \n",
    "    def train_dataloader(self):\n",
    "        transform = transforms.Compose([\n",
    "            transforms.ToTensor(),\n",
    "            transforms.Resize((256, 256)),\n",
    "            transforms.Normalize(mean=[0.485, 0.456, 0.406], std=[0.229, 0.224, 0.225])\n",
    "        ])\n",
    "        target_transform = transforms.Compose([transforms.ToTensor(), transforms.Resize((256, 256))])\n",
    "        train_dataset = datasets.VOCSegmentation(root=\"data\", transform=transform, target_transform=target_transform)\n",
    "        return torch.utils.data.DataLoader(train_dataset, batch_size=4, shuffle=True, num_workers=2)\n",
    "    \n",
    "\n",
    "\n",
    "if __name__ == \"__main__\":\n",
    "    model = LitSegmentation()\n",
    "    data = SegmentationData()\n",
    "    trainer = L.Trainer(max_epochs=10)\n",
    "    trainer.fit(model, data)\n"
   ]
  }
 ],
 "metadata": {
  "kernelspec": {
   "display_name": "Python 3",
   "language": "python",
   "name": "python3"
  },
  "language_info": {
   "name": "python",
   "version": "3.10.4"
  }
 },
 "nbformat": 4,
 "nbformat_minor": 2
}
